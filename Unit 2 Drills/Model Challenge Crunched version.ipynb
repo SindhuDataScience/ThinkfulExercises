{
 "cells": [
  {
   "cell_type": "code",
   "execution_count": 1,
   "metadata": {},
   "outputs": [],
   "source": [
    "import pandas as pd\n",
    "import matplotlib.pyplot as plt\n",
    "import numpy as np\n",
    "import seaborn as sns\n",
    "from scipy import stats\n",
    "from matplotlib.mlab import PCA as mlabPCA\n",
    "from sklearn.preprocessing import StandardScaler\n",
    "from sklearn.decomposition import PCA \n",
    "%matplotlib inline"
   ]
  },
  {
   "cell_type": "code",
   "execution_count": 2,
   "metadata": {},
   "outputs": [
    {
     "data": {
      "text/html": [
       "<div>\n",
       "<style scoped>\n",
       "    .dataframe tbody tr th:only-of-type {\n",
       "        vertical-align: middle;\n",
       "    }\n",
       "\n",
       "    .dataframe tbody tr th {\n",
       "        vertical-align: top;\n",
       "    }\n",
       "\n",
       "    .dataframe thead th {\n",
       "        text-align: right;\n",
       "    }\n",
       "</style>\n",
       "<table border=\"1\" class=\"dataframe\">\n",
       "  <thead>\n",
       "    <tr style=\"text-align: right;\">\n",
       "      <th></th>\n",
       "      <th>id</th>\n",
       "      <th>funded_amount</th>\n",
       "      <th>loan_amount</th>\n",
       "      <th>activity</th>\n",
       "      <th>sector</th>\n",
       "      <th>use</th>\n",
       "      <th>country_code</th>\n",
       "      <th>country</th>\n",
       "      <th>region</th>\n",
       "      <th>currency</th>\n",
       "      <th>partner_id</th>\n",
       "      <th>posted_time</th>\n",
       "      <th>disbursed_time</th>\n",
       "      <th>funded_time</th>\n",
       "      <th>term_in_months</th>\n",
       "      <th>lender_count</th>\n",
       "      <th>tags</th>\n",
       "      <th>borrower_genders</th>\n",
       "      <th>repayment_interval</th>\n",
       "      <th>date</th>\n",
       "    </tr>\n",
       "  </thead>\n",
       "  <tbody>\n",
       "    <tr>\n",
       "      <th>0</th>\n",
       "      <td>653051</td>\n",
       "      <td>300.0</td>\n",
       "      <td>300.0</td>\n",
       "      <td>Fruits &amp; Vegetables</td>\n",
       "      <td>Food</td>\n",
       "      <td>To buy seasonal, fresh fruits to sell.</td>\n",
       "      <td>PK</td>\n",
       "      <td>Pakistan</td>\n",
       "      <td>Lahore</td>\n",
       "      <td>PKR</td>\n",
       "      <td>247.0</td>\n",
       "      <td>2014-01-01 06:12:39+00:00</td>\n",
       "      <td>2013-12-17 08:00:00+00:00</td>\n",
       "      <td>2014-01-02 10:06:32+00:00</td>\n",
       "      <td>12.0</td>\n",
       "      <td>12</td>\n",
       "      <td>NaN</td>\n",
       "      <td>female</td>\n",
       "      <td>irregular</td>\n",
       "      <td>2014-01-01</td>\n",
       "    </tr>\n",
       "    <tr>\n",
       "      <th>1</th>\n",
       "      <td>653053</td>\n",
       "      <td>575.0</td>\n",
       "      <td>575.0</td>\n",
       "      <td>Rickshaw</td>\n",
       "      <td>Transportation</td>\n",
       "      <td>to repair and maintain the auto rickshaw used ...</td>\n",
       "      <td>PK</td>\n",
       "      <td>Pakistan</td>\n",
       "      <td>Lahore</td>\n",
       "      <td>PKR</td>\n",
       "      <td>247.0</td>\n",
       "      <td>2014-01-01 06:51:08+00:00</td>\n",
       "      <td>2013-12-17 08:00:00+00:00</td>\n",
       "      <td>2014-01-02 09:17:23+00:00</td>\n",
       "      <td>11.0</td>\n",
       "      <td>14</td>\n",
       "      <td>NaN</td>\n",
       "      <td>female, female</td>\n",
       "      <td>irregular</td>\n",
       "      <td>2014-01-01</td>\n",
       "    </tr>\n",
       "    <tr>\n",
       "      <th>2</th>\n",
       "      <td>653068</td>\n",
       "      <td>150.0</td>\n",
       "      <td>150.0</td>\n",
       "      <td>Transportation</td>\n",
       "      <td>Transportation</td>\n",
       "      <td>To repair their old cycle-van and buy another ...</td>\n",
       "      <td>IN</td>\n",
       "      <td>India</td>\n",
       "      <td>Maynaguri</td>\n",
       "      <td>INR</td>\n",
       "      <td>334.0</td>\n",
       "      <td>2014-01-01 09:58:07+00:00</td>\n",
       "      <td>2013-12-17 08:00:00+00:00</td>\n",
       "      <td>2014-01-01 16:01:36+00:00</td>\n",
       "      <td>43.0</td>\n",
       "      <td>6</td>\n",
       "      <td>user_favorite, user_favorite</td>\n",
       "      <td>female</td>\n",
       "      <td>bullet</td>\n",
       "      <td>2014-01-01</td>\n",
       "    </tr>\n",
       "    <tr>\n",
       "      <th>3</th>\n",
       "      <td>653063</td>\n",
       "      <td>200.0</td>\n",
       "      <td>200.0</td>\n",
       "      <td>Embroidery</td>\n",
       "      <td>Arts</td>\n",
       "      <td>to purchase an embroidery machine and a variet...</td>\n",
       "      <td>PK</td>\n",
       "      <td>Pakistan</td>\n",
       "      <td>Lahore</td>\n",
       "      <td>PKR</td>\n",
       "      <td>247.0</td>\n",
       "      <td>2014-01-01 08:03:11+00:00</td>\n",
       "      <td>2013-12-24 08:00:00+00:00</td>\n",
       "      <td>2014-01-01 13:00:00+00:00</td>\n",
       "      <td>11.0</td>\n",
       "      <td>8</td>\n",
       "      <td>NaN</td>\n",
       "      <td>female</td>\n",
       "      <td>irregular</td>\n",
       "      <td>2014-01-01</td>\n",
       "    </tr>\n",
       "    <tr>\n",
       "      <th>4</th>\n",
       "      <td>653084</td>\n",
       "      <td>400.0</td>\n",
       "      <td>400.0</td>\n",
       "      <td>Milk Sales</td>\n",
       "      <td>Food</td>\n",
       "      <td>to purchase one buffalo.</td>\n",
       "      <td>PK</td>\n",
       "      <td>Pakistan</td>\n",
       "      <td>Abdul Hakeem</td>\n",
       "      <td>PKR</td>\n",
       "      <td>245.0</td>\n",
       "      <td>2014-01-01 11:53:19+00:00</td>\n",
       "      <td>2013-12-17 08:00:00+00:00</td>\n",
       "      <td>2014-01-01 19:18:51+00:00</td>\n",
       "      <td>14.0</td>\n",
       "      <td>16</td>\n",
       "      <td>NaN</td>\n",
       "      <td>female</td>\n",
       "      <td>monthly</td>\n",
       "      <td>2014-01-01</td>\n",
       "    </tr>\n",
       "  </tbody>\n",
       "</table>\n",
       "</div>"
      ],
      "text/plain": [
       "       id  funded_amount  loan_amount             activity          sector  \\\n",
       "0  653051          300.0        300.0  Fruits & Vegetables            Food   \n",
       "1  653053          575.0        575.0             Rickshaw  Transportation   \n",
       "2  653068          150.0        150.0       Transportation  Transportation   \n",
       "3  653063          200.0        200.0           Embroidery            Arts   \n",
       "4  653084          400.0        400.0           Milk Sales            Food   \n",
       "\n",
       "                                                 use country_code   country  \\\n",
       "0            To buy seasonal, fresh fruits to sell.            PK  Pakistan   \n",
       "1  to repair and maintain the auto rickshaw used ...           PK  Pakistan   \n",
       "2  To repair their old cycle-van and buy another ...           IN     India   \n",
       "3  to purchase an embroidery machine and a variet...           PK  Pakistan   \n",
       "4                           to purchase one buffalo.           PK  Pakistan   \n",
       "\n",
       "         region currency  partner_id                posted_time  \\\n",
       "0        Lahore      PKR       247.0  2014-01-01 06:12:39+00:00   \n",
       "1        Lahore      PKR       247.0  2014-01-01 06:51:08+00:00   \n",
       "2     Maynaguri      INR       334.0  2014-01-01 09:58:07+00:00   \n",
       "3        Lahore      PKR       247.0  2014-01-01 08:03:11+00:00   \n",
       "4  Abdul Hakeem      PKR       245.0  2014-01-01 11:53:19+00:00   \n",
       "\n",
       "              disbursed_time                funded_time  term_in_months  \\\n",
       "0  2013-12-17 08:00:00+00:00  2014-01-02 10:06:32+00:00            12.0   \n",
       "1  2013-12-17 08:00:00+00:00  2014-01-02 09:17:23+00:00            11.0   \n",
       "2  2013-12-17 08:00:00+00:00  2014-01-01 16:01:36+00:00            43.0   \n",
       "3  2013-12-24 08:00:00+00:00  2014-01-01 13:00:00+00:00            11.0   \n",
       "4  2013-12-17 08:00:00+00:00  2014-01-01 19:18:51+00:00            14.0   \n",
       "\n",
       "   lender_count                          tags borrower_genders  \\\n",
       "0            12                           NaN           female   \n",
       "1            14                           NaN   female, female   \n",
       "2             6  user_favorite, user_favorite           female   \n",
       "3             8                           NaN           female   \n",
       "4            16                           NaN           female   \n",
       "\n",
       "  repayment_interval        date  \n",
       "0          irregular  2014-01-01  \n",
       "1          irregular  2014-01-01  \n",
       "2             bullet  2014-01-01  \n",
       "3          irregular  2014-01-01  \n",
       "4            monthly  2014-01-01  "
      ]
     },
     "execution_count": 2,
     "metadata": {},
     "output_type": "execute_result"
    }
   ],
   "source": [
    "df = pd.read_csv(r\"C:\\Users\\Niranjan\\Desktop\\Data Science\\datasets\\kiva-funding\\kiva_loans.csv\")\n",
    "df.head(5)"
   ]
  },
  {
   "cell_type": "code",
   "execution_count": 3,
   "metadata": {},
   "outputs": [
    {
     "name": "stdout",
     "output_type": "stream",
     "text": [
      "Index(['id', 'funded_amount', 'loan_amount', 'activity', 'sector', 'use',\n",
      "       'country_code', 'country', 'region', 'currency', 'partner_id',\n",
      "       'posted_time', 'disbursed_time', 'funded_time', 'term_in_months',\n",
      "       'lender_count', 'tags', 'borrower_genders', 'repayment_interval',\n",
      "       'date'],\n",
      "      dtype='object')\n",
      "id                    671205\n",
      "funded_amount         671205\n",
      "loan_amount           671205\n",
      "activity              671205\n",
      "sector                671205\n",
      "use                   666973\n",
      "country_code          671197\n",
      "country               671205\n",
      "region                614405\n",
      "currency              671205\n",
      "partner_id            657698\n",
      "posted_time           671205\n",
      "disbursed_time        668809\n",
      "funded_time           622874\n",
      "term_in_months        671205\n",
      "lender_count          671205\n",
      "tags                  499789\n",
      "borrower_genders      666984\n",
      "repayment_interval    671205\n",
      "date                  671205\n",
      "dtype: int64\n"
     ]
    }
   ],
   "source": [
    "#len(df.columns)\n",
    "print(df.columns)\n",
    "print(df.count())"
   ]
  },
  {
   "cell_type": "markdown",
   "metadata": {},
   "source": [
    "<b>Goal:</b> With the limited funds, we must concentrate more on countries and sectors where the funds would help more individuals to help achieve their goals. \n",
    "<b>Outcome variable:</b> Focus groups ranks by country and sector<br/>\n",
    "<b>categorical (Nominal) variables:</b> id, sector, Country\n",
    "<br/><b>Continuous variables:</b> funded_amount (ratio), loan_amount (ratio), lender_count (ratio), term_in_months(ratio)"
   ]
  },
  {
   "cell_type": "code",
   "execution_count": 4,
   "metadata": {},
   "outputs": [
    {
     "name": "stdout",
     "output_type": "stream",
     "text": [
      "id                         0\n",
      "funded_amount              0\n",
      "loan_amount                0\n",
      "activity                   0\n",
      "sector                     0\n",
      "use                     4232\n",
      "country_code               8\n",
      "country                    0\n",
      "region                 56800\n",
      "currency                   0\n",
      "partner_id             13507\n",
      "posted_time                0\n",
      "disbursed_time          2396\n",
      "funded_time            48331\n",
      "term_in_months             0\n",
      "lender_count               0\n",
      "tags                  171416\n",
      "borrower_genders        4221\n",
      "repayment_interval         0\n",
      "date                       0\n",
      "dtype: int64\n",
      "There are no null columns that would effect our analysis\n"
     ]
    }
   ],
   "source": [
    "print(df.isnull().sum())\n",
    "print(\"There are no null columns that would effect our analysis\")"
   ]
  },
  {
   "cell_type": "code",
   "execution_count": 5,
   "metadata": {},
   "outputs": [
    {
     "data": {
      "text/plain": [
       "622875"
      ]
     },
     "execution_count": 5,
     "metadata": {},
     "output_type": "execute_result"
    }
   ],
   "source": [
    "df_filtered = df.drop(df[(df.loan_amount == 0) | (df.lender_count == 0) | (df.funded_amount != df.loan_amount)].index)\n",
    "df_filtered.sort_values('lender_count')\n",
    "df_filtered.id.count()"
   ]
  },
  {
   "cell_type": "code",
   "execution_count": null,
   "metadata": {},
   "outputs": [],
   "source": []
  },
  {
   "cell_type": "code",
   "execution_count": 6,
   "metadata": {},
   "outputs": [
    {
     "name": "stdout",
     "output_type": "stream",
     "text": [
      "Sectors: ['Food' 'Transportation' 'Arts' 'Services' 'Agriculture' 'Manufacturing'\n",
      " 'Wholesale' 'Retail' 'Clothing' 'Construction' 'Health' 'Education'\n",
      " 'Personal Use' 'Housing' 'Entertainment'], Countries: ['Pakistan' 'India' 'Kenya' 'Nicaragua' 'El Salvador' 'Tanzania'\n",
      " 'Philippines' 'Peru' 'Senegal' 'Cambodia' 'Liberia' 'Vietnam' 'Iraq'\n",
      " 'Honduras' 'Palestine' 'Mongolia' 'United States' 'Mali' 'Colombia'\n",
      " 'Tajikistan' 'Guatemala' 'Ecuador' 'Bolivia' 'Yemen' 'Ghana'\n",
      " 'Sierra Leone' 'Haiti' 'Chile' 'Jordan' 'Uganda' 'Burundi' 'Burkina Faso'\n",
      " 'Timor-Leste' 'Indonesia' 'Georgia' 'Ukraine' 'Kosovo' 'Albania'\n",
      " 'The Democratic Republic of the Congo' 'Costa Rica' 'Somalia' 'Zimbabwe'\n",
      " 'Cameroon' 'Turkey' 'Dominican Republic' 'Brazil' 'Mexico' 'Azerbaijan'\n",
      " 'Kyrgyzstan' 'Armenia' 'Paraguay' 'Lebanon' 'Samoa' 'Israel' 'Rwanda'\n",
      " 'Zambia' 'Nepal' 'Congo' 'Mozambique' 'South Africa' 'Togo' 'Benin'\n",
      " 'Belize' 'Suriname' 'Thailand' 'Nigeria' 'Mauritania' 'Vanuatu' 'Panama'\n",
      " 'Saint Vincent and the Grenadines' \"Lao People's Democratic Republic\"\n",
      " 'Malawi' 'Myanmar (Burma)' 'Moldova' 'South Sudan' 'Solomon Islands'\n",
      " 'China' 'Egypt' 'Afghanistan' 'Madagascar' 'Namibia' 'Puerto Rico'\n",
      " 'Lesotho' \"Cote D'Ivoire\" 'Bhutan'], Currencies: ['PKR' 'INR' 'KES' 'NIO' 'USD' 'TZS' 'PHP' 'PEN' 'XOF' 'LRD' 'VND' 'HNL'\n",
      " 'MNT' 'COP' 'GTQ' 'TJS' 'BOB' 'YER' 'KHR' 'GHS' 'SLL' 'HTG' 'CLP' 'JOD'\n",
      " 'UGX' 'BIF' 'IDR' 'GEL' 'UAH' 'EUR' 'ALL' 'CRC' 'XAF' 'TRY' 'DOP' 'BRL'\n",
      " 'MXN' 'AZN' 'KGS' 'AMD' 'PYG' 'LBP' 'WST' 'ILS' 'RWF' 'ZMW' 'NPR' 'MZN'\n",
      " 'ZAR' 'BZD' 'SRD' 'NGN' 'VUV' 'XCD' 'MWK' 'LAK' 'MMK' 'ZWD' 'MDL' 'SSP'\n",
      " 'SBD' 'CNY' 'EGP' 'MGA' 'NAD' 'LSL' 'THB']\n",
      "Sectors count: Agriculture       166500\n",
      "Food              128579\n",
      "Retail            114212\n",
      "Services           41249\n",
      "Personal Use       34923\n",
      "Education          30235\n",
      "Clothing           29754\n",
      "Housing            29726\n",
      "Transportation     13795\n",
      "Arts               11857\n",
      "Health              8609\n",
      "Manufacturing       6162\n",
      "Construction        5936\n",
      "Entertainment        725\n",
      "Wholesale            613\n",
      "Name: sector, dtype: int64, Countries count: Philippines                         157607\n",
      "Kenya                                70379\n",
      "Cambodia                             33464\n",
      "El Salvador                          32723\n",
      "Pakistan                             24920\n",
      "Peru                                 21618\n",
      "Uganda                               18250\n",
      "Colombia                             18033\n",
      "Tajikistan                           17529\n",
      "Ecuador                              12890\n",
      "Paraguay                             11580\n",
      "India                                10911\n",
      "Nicaragua                            10499\n",
      "Vietnam                               9880\n",
      "Nigeria                               9137\n",
      "Lebanon                               8094\n",
      "Bolivia                               7561\n",
      "Palestine                             7172\n",
      "Armenia                               6806\n",
      "Guatemala                             6803\n",
      "Samoa                                 6684\n",
      "Rwanda                                6183\n",
      "Mali                                  6127\n",
      "Honduras                              6034\n",
      "Togo                                  5619\n",
      "Indonesia                             5554\n",
      "Mexico                                5443\n",
      "Kyrgyzstan                            5158\n",
      "Sierra Leone                          5029\n",
      "Tanzania                              4915\n",
      "                                     ...  \n",
      "Ukraine                                905\n",
      "Mongolia                               886\n",
      "Burundi                                808\n",
      "Zambia                                 724\n",
      "Nepal                                  717\n",
      "Solomon Islands                        531\n",
      "Benin                                  492\n",
      "Dominican Republic                     473\n",
      "Lesotho                                422\n",
      "South Africa                           378\n",
      "Moldova                                329\n",
      "Brazil                                 282\n",
      "Suriname                               210\n",
      "Panama                                 193\n",
      "Israel                                 190\n",
      "Thailand                               179\n",
      "South Sudan                            160\n",
      "China                                  133\n",
      "Congo                                  128\n",
      "Belize                                 125\n",
      "Somalia                                 75\n",
      "Puerto Rico                             52\n",
      "Saint Vincent and the Grenadines        16\n",
      "Chile                                    9\n",
      "Namibia                                  8\n",
      "Vanuatu                                  4\n",
      "Afghanistan                              2\n",
      "Cote D'Ivoire                            1\n",
      "Bhutan                                   1\n",
      "Mauritania                               1\n",
      "Name: country, Length: 85, dtype: int64, Currencies count: PHP    157606\n",
      "USD     91856\n",
      "KES     69869\n",
      "KHR     28302\n",
      "PKR     24920\n",
      "PEN     20824\n",
      "UGX     18185\n",
      "COP     18022\n",
      "XOF     17640\n",
      "TJS     15700\n",
      "PYG     11578\n",
      "INR     10895\n",
      "VND      9880\n",
      "NGN      9136\n",
      "GTQ      6738\n",
      "WST      6683\n",
      "NIO      6384\n",
      "BOB      6347\n",
      "RWF      6159\n",
      "HNL      5943\n",
      "IDR      5451\n",
      "MXN      5393\n",
      "SLL      5028\n",
      "TZS      4875\n",
      "KGS      4810\n",
      "AMD      4624\n",
      "GHS      4112\n",
      "JOD      3832\n",
      "MGA      3781\n",
      "LRD      3463\n",
      "        ...  \n",
      "AZN      1637\n",
      "EGP      1600\n",
      "MMK      1561\n",
      "LAK      1478\n",
      "GEL      1453\n",
      "CRC      1426\n",
      "MWK      1293\n",
      "EUR      1220\n",
      "UAH       905\n",
      "BIF       808\n",
      "ZMW       712\n",
      "NPR       710\n",
      "MNT       667\n",
      "SBD       531\n",
      "DOP       473\n",
      "LSL       422\n",
      "ZAR       378\n",
      "MDL       329\n",
      "BRL       266\n",
      "SRD       210\n",
      "ILS       193\n",
      "SSP       159\n",
      "BZD       125\n",
      "CNY       125\n",
      "THB        79\n",
      "XCD        16\n",
      "NAD         8\n",
      "CLP         8\n",
      "VUV         4\n",
      "ZWD         2\n",
      "Name: currency, Length: 67, dtype: int64\n"
     ]
    }
   ],
   "source": [
    "print('Sectors: {}, Countries: {}, Currencies: {}'.format(df_filtered.sector.unique(),df_filtered.country.unique(),df_filtered.currency.unique()))\n",
    "\n",
    "print('Sectors count: {}, Countries count: {}, Currencies count: {}'.format(df_filtered['sector'].value_counts(),df_filtered['country'].value_counts(),df_filtered['currency'].value_counts()))"
   ]
  },
  {
   "cell_type": "code",
   "execution_count": 7,
   "metadata": {},
   "outputs": [
    {
     "data": {
      "text/plain": [
       "array(['irregular', 'bullet', 'monthly', 'weekly'], dtype=object)"
      ]
     },
     "execution_count": 7,
     "metadata": {},
     "output_type": "execute_result"
    }
   ],
   "source": [
    "df_filtered.repayment_interval.unique()   "
   ]
  },
  {
   "cell_type": "code",
   "execution_count": 8,
   "metadata": {},
   "outputs": [
    {
     "name": "stdout",
     "output_type": "stream",
     "text": [
      "15\n",
      "85\n",
      "67\n"
     ]
    }
   ],
   "source": [
    "print(df_filtered.sector.nunique())\n",
    "print(df_filtered.country.nunique())\n",
    "print(df_filtered.currency.nunique())"
   ]
  },
  {
   "cell_type": "code",
   "execution_count": 9,
   "metadata": {},
   "outputs": [
    {
     "data": {
      "text/plain": [
       "<matplotlib.axes._subplots.AxesSubplot at 0x2d904f5e6a0>"
      ]
     },
     "execution_count": 9,
     "metadata": {},
     "output_type": "execute_result"
    },
    {
     "data": {
      "image/png": "[encoded data removed]",
      "text/plain": [
       "<Figure size 1080x576 with 1 Axes>"
      ]
     },
     "metadata": {
      "needs_background": "light"
     },
     "output_type": "display_data"
    },
    {
     "data": {
      "image/png": "[encoded data removed]",
      "text/plain": [
       "<Figure size 1080x576 with 1 Axes>"
      ]
     },
     "metadata": {
      "needs_background": "light"
     },
     "output_type": "display_data"
    },
    {
     "data": {
      "image/png": "[encoded data removed]",
      "text/plain": [
       "<Figure size 1080x576 with 1 Axes>"
      ]
     },
     "metadata": {
      "needs_background": "light"
     },
     "output_type": "display_data"
    },
    {
     "data": {
      "image/png": "[encoded data removed]",
      "text/plain": [
       "<Figure size 1080x576 with 1 Axes>"
      ]
     },
     "metadata": {
      "needs_background": "light"
     },
     "output_type": "display_data"
    }
   ],
   "source": [
    "#Box plot for goal amount\n",
    "plt.subplots(figsize=(15,8))\n",
    "sns.boxplot(x=df_filtered[\"funded_amount\"])\n",
    "\n",
    "plt.subplots(figsize=(15,8))\n",
    "sns.boxplot(x=df_filtered[\"loan_amount\"])\n",
    "\n",
    "plt.subplots(figsize=(15,8))\n",
    "sns.boxplot(x=df_filtered[\"lender_count\"])\n",
    "\n",
    "plt.subplots(figsize=(15,8))\n",
    "sns.boxplot(x=df_filtered[\"term_in_months\"])"
   ]
  },
  {
   "cell_type": "code",
   "execution_count": 10,
   "metadata": {},
   "outputs": [
    {
     "data": {
      "text/html": [
       "<div>\n",
       "<style scoped>\n",
       "    .dataframe tbody tr th:only-of-type {\n",
       "        vertical-align: middle;\n",
       "    }\n",
       "\n",
       "    .dataframe tbody tr th {\n",
       "        vertical-align: top;\n",
       "    }\n",
       "\n",
       "    .dataframe thead th {\n",
       "        text-align: right;\n",
       "    }\n",
       "</style>\n",
       "<table border=\"1\" class=\"dataframe\">\n",
       "  <thead>\n",
       "    <tr style=\"text-align: right;\">\n",
       "      <th></th>\n",
       "      <th>id</th>\n",
       "      <th>funded_amount</th>\n",
       "      <th>loan_amount</th>\n",
       "      <th>partner_id</th>\n",
       "      <th>term_in_months</th>\n",
       "      <th>lender_count</th>\n",
       "    </tr>\n",
       "  </thead>\n",
       "  <tbody>\n",
       "    <tr>\n",
       "      <th>count</th>\n",
       "      <td>6.228750e+05</td>\n",
       "      <td>622875.000000</td>\n",
       "      <td>622875.000000</td>\n",
       "      <td>611523.000000</td>\n",
       "      <td>622875.000000</td>\n",
       "      <td>622875.000000</td>\n",
       "    </tr>\n",
       "    <tr>\n",
       "      <th>mean</th>\n",
       "      <td>9.901458e+05</td>\n",
       "      <td>798.360385</td>\n",
       "      <td>798.360385</td>\n",
       "      <td>178.518093</td>\n",
       "      <td>13.391143</td>\n",
       "      <td>21.029460</td>\n",
       "    </tr>\n",
       "    <tr>\n",
       "      <th>std</th>\n",
       "      <td>1.961753e+05</td>\n",
       "      <td>1150.425680</td>\n",
       "      <td>1150.425680</td>\n",
       "      <td>94.319818</td>\n",
       "      <td>8.523934</td>\n",
       "      <td>29.087186</td>\n",
       "    </tr>\n",
       "    <tr>\n",
       "      <th>min</th>\n",
       "      <td>6.530470e+05</td>\n",
       "      <td>25.000000</td>\n",
       "      <td>25.000000</td>\n",
       "      <td>9.000000</td>\n",
       "      <td>1.000000</td>\n",
       "      <td>1.000000</td>\n",
       "    </tr>\n",
       "    <tr>\n",
       "      <th>25%</th>\n",
       "      <td>8.198495e+05</td>\n",
       "      <td>250.000000</td>\n",
       "      <td>250.000000</td>\n",
       "      <td>126.000000</td>\n",
       "      <td>8.000000</td>\n",
       "      <td>7.000000</td>\n",
       "    </tr>\n",
       "    <tr>\n",
       "      <th>50%</th>\n",
       "      <td>9.905320e+05</td>\n",
       "      <td>450.000000</td>\n",
       "      <td>450.000000</td>\n",
       "      <td>145.000000</td>\n",
       "      <td>12.000000</td>\n",
       "      <td>13.000000</td>\n",
       "    </tr>\n",
       "    <tr>\n",
       "      <th>75%</th>\n",
       "      <td>1.160988e+06</td>\n",
       "      <td>900.000000</td>\n",
       "      <td>900.000000</td>\n",
       "      <td>204.000000</td>\n",
       "      <td>14.000000</td>\n",
       "      <td>25.000000</td>\n",
       "    </tr>\n",
       "    <tr>\n",
       "      <th>max</th>\n",
       "      <td>1.340316e+06</td>\n",
       "      <td>100000.000000</td>\n",
       "      <td>100000.000000</td>\n",
       "      <td>535.000000</td>\n",
       "      <td>158.000000</td>\n",
       "      <td>2986.000000</td>\n",
       "    </tr>\n",
       "  </tbody>\n",
       "</table>\n",
       "</div>"
      ],
      "text/plain": [
       "                 id  funded_amount    loan_amount     partner_id  \\\n",
       "count  6.228750e+05  622875.000000  622875.000000  611523.000000   \n",
       "mean   9.901458e+05     798.360385     798.360385     178.518093   \n",
       "std    1.961753e+05    1150.425680    1150.425680      94.319818   \n",
       "min    6.530470e+05      25.000000      25.000000       9.000000   \n",
       "25%    8.198495e+05     250.000000     250.000000     126.000000   \n",
       "50%    9.905320e+05     450.000000     450.000000     145.000000   \n",
       "75%    1.160988e+06     900.000000     900.000000     204.000000   \n",
       "max    1.340316e+06  100000.000000  100000.000000     535.000000   \n",
       "\n",
       "       term_in_months   lender_count  \n",
       "count   622875.000000  622875.000000  \n",
       "mean        13.391143      21.029460  \n",
       "std          8.523934      29.087186  \n",
       "min          1.000000       1.000000  \n",
       "25%          8.000000       7.000000  \n",
       "50%         12.000000      13.000000  \n",
       "75%         14.000000      25.000000  \n",
       "max        158.000000    2986.000000  "
      ]
     },
     "execution_count": 10,
     "metadata": {},
     "output_type": "execute_result"
    }
   ],
   "source": [
    "df_filtered.describe()"
   ]
  },
  {
   "cell_type": "code",
   "execution_count": 11,
   "metadata": {},
   "outputs": [],
   "source": [
    "#df_filtered[df_filtered.loan_amount == 100000]\n",
    "#df_filtered = df_filtered.drop(df_filtered[(df_filtered.loan_amount == 100000)].index)\n",
    "#df_filtered.describe()"
   ]
  },
  {
   "cell_type": "code",
   "execution_count": 12,
   "metadata": {},
   "outputs": [],
   "source": [
    "#Bivariate\n",
    "#df_bivariate = df_filtered.loc[:,['funded_amount', 'loan_amount', 'term_in_months', 'lender_count']]\n",
    "df_bivariate = df_filtered.loc[(df['currency'] == 'PHP'),['funded_amount', 'loan_amount', 'term_in_months', 'lender_count']]\n",
    "df_bivariate_sample = df_bivariate.sample(n = 10000) "
   ]
  },
  {
   "cell_type": "code",
   "execution_count": 13,
   "metadata": {},
   "outputs": [
    {
     "data": {
      "image/png": "[encoded data removed]",
      "text/plain": [
       "<Figure size 720x720 with 20 Axes>"
      ]
     },
     "metadata": {
      "needs_background": "light"
     },
     "output_type": "display_data"
    }
   ],
   "source": [
    "g = sns.PairGrid(df_bivariate_sample, diag_sharey=False)\n",
    "# Scatterplot.\n",
    "g.map_upper(plt.scatter, alpha=.5)\n",
    "# Fit line summarizing the linear relationship of the two variables.\n",
    "g.map_lower(sns.regplot, scatter_kws=dict(alpha=0))\n",
    "# Give information about the univariate distributions of the variables.\n",
    "g.map_diag(sns.kdeplot, lw=3)\n",
    "plt.show()"
   ]
  },
  {
   "cell_type": "code",
   "execution_count": 14,
   "metadata": {},
   "outputs": [
    {
     "name": "stdout",
     "output_type": "stream",
     "text": [
      "                funded_amount  loan_amount  term_in_months  lender_count\n",
      "funded_amount        1.000000     1.000000        0.156124      0.848949\n",
      "loan_amount          1.000000     1.000000        0.156124      0.848949\n",
      "term_in_months       0.156124     0.156124        1.000000      0.242042\n",
      "lender_count         0.848949     0.848949        0.242042      1.000000\n"
     ]
    },
    {
     "data": {
      "image/png": "[encoded data removed]",
      "text/plain": [
       "<Figure size 864x648 with 2 Axes>"
      ]
     },
     "metadata": {
      "needs_background": "light"
     },
     "output_type": "display_data"
    }
   ],
   "source": [
    "# Make the correlation matrix.\n",
    "df_bivariate_corr = df_filtered.loc[:,['funded_amount', 'loan_amount', 'term_in_months', 'lender_count']]\n",
    "corrmat = df_bivariate_corr.corr()\n",
    "print(corrmat)\n",
    "\n",
    "# Set up the matplotlib figure.\n",
    "f, ax = plt.subplots(figsize=(12, 9))\n",
    "\n",
    "# Draw the heatmap using seaborn.\n",
    "sns.heatmap(corrmat, vmax=.8, square=True)\n",
    "plt.show()"
   ]
  },
  {
   "cell_type": "code",
   "execution_count": 15,
   "metadata": {},
   "outputs": [
    {
     "name": "stderr",
     "output_type": "stream",
     "text": [
      "c:\\users\\niranjan\\appdata\\local\\programs\\python\\python37\\lib\\site-packages\\seaborn\\axisgrid.py:715: UserWarning: Using the boxplot function without specifying `order` is likely to produce an incorrect plot.\n",
      "  warnings.warn(warning)\n"
     ]
    },
    {
     "data": {
      "image/png": "[encoded data removed]",
      "text/plain": [
       "<Figure size 1152x288 with 4 Axes>"
      ]
     },
     "metadata": {
      "needs_background": "light"
     },
     "output_type": "display_data"
    },
    {
     "name": "stdout",
     "output_type": "stream",
     "text": [
      "               funded_amount                                                \\\n",
      "                       count         mean          std   min    25%    50%   \n",
      "sector                                                                       \n",
      "Agriculture         166500.0   753.746547  1055.378682  25.0  275.0  500.0   \n",
      "Arts                 11857.0   984.682044  1426.846628  50.0  300.0  475.0   \n",
      "Clothing             29754.0  1096.932345  1442.137581  25.0  300.0  575.0   \n",
      "Construction          5936.0  1019.887129  1445.803478  25.0  350.0  650.0   \n",
      "Education            30235.0   971.565239  1060.021095  25.0  400.0  700.0   \n",
      "Entertainment          725.0  1334.862069  1625.698208  75.0  425.0  700.0   \n",
      "Food                128579.0   852.981241  1216.501011  25.0  250.0  425.0   \n",
      "Health                8609.0  1015.585434  1456.895207  50.0  375.0  675.0   \n",
      "Housing              29726.0   642.193702   601.750664  25.0  275.0  500.0   \n",
      "Manufacturing         6162.0   862.276858  1232.170112  50.0  325.0  500.0   \n",
      "Personal Use         34923.0   385.086476   566.818019  25.0  125.0  200.0   \n",
      "Retail              114212.0   741.482287  1176.229038  25.0  250.0  400.0   \n",
      "Services             41249.0   978.072802  1354.291070  25.0  300.0  500.0   \n",
      "Transportation       13795.0   644.106560   847.339454  50.0  275.0  425.0   \n",
      "Wholesale              613.0  1440.375204  3272.684961  50.0  450.0  900.0   \n",
      "\n",
      "                                 loan_amount               ... term_in_months  \\\n",
      "                   75%       max       count         mean  ...            75%   \n",
      "sector                                                     ...                  \n",
      "Agriculture      925.0  100000.0    166500.0   753.746547  ...           14.0   \n",
      "Arts            1000.0   40000.0     11857.0   984.682044  ...           14.0   \n",
      "Clothing        1150.0   50000.0     29754.0  1096.932345  ...           14.0   \n",
      "Construction    1125.0   50000.0      5936.0  1019.887129  ...           17.0   \n",
      "Education       1150.0   50000.0     30235.0   971.565239  ...           22.0   \n",
      "Entertainment   1500.0   10000.0       725.0  1334.862069  ...           20.0   \n",
      "Food             875.0   35000.0    128579.0   852.981241  ...           14.0   \n",
      "Health          1200.0   50000.0      8609.0  1015.585434  ...           20.0   \n",
      "Housing          775.0   24450.0     29726.0   642.193702  ...           25.0   \n",
      "Manufacturing   1000.0   50000.0      6162.0   862.276858  ...           15.0   \n",
      "Personal Use     425.0   13425.0     34923.0   385.086476  ...           14.0   \n",
      "Retail           725.0   50000.0    114212.0   741.482287  ...           14.0   \n",
      "Services        1025.0   50000.0     41249.0   978.072802  ...           15.0   \n",
      "Transportation   700.0   35000.0     13795.0   644.106560  ...           14.0   \n",
      "Wholesale       1500.0   50000.0       613.0  1440.375204  ...           15.0   \n",
      "\n",
      "                      lender_count                                         \\\n",
      "                  max        count       mean        std  min   25%   50%   \n",
      "sector                                                                      \n",
      "Agriculture     144.0     166500.0  21.667411  30.176208  1.0   8.0  14.0   \n",
      "Arts             62.0      11857.0  27.214641  38.574801  1.0   9.0  15.0   \n",
      "Clothing         97.0      29754.0  25.456644  31.634713  1.0   9.0  16.0   \n",
      "Construction     73.0       5936.0  28.052055  37.696064  1.0  10.0  19.0   \n",
      "Education       158.0      30235.0  29.505110  32.083901  1.0  12.0  21.0   \n",
      "Entertainment    43.0        725.0  34.671724  36.520937  1.0  13.0  22.0   \n",
      "Food             63.0     128579.0  20.134439  26.780774  1.0   7.0  12.0   \n",
      "Health           98.0       8609.0  29.831223  43.118773  1.0  11.0  21.0   \n",
      "Housing          66.0      29726.0  19.991556  18.747942  1.0   9.0  15.0   \n",
      "Manufacturing    63.0       6162.0  24.839825  34.027794  1.0   9.0  16.0   \n",
      "Personal Use     86.0      34923.0  11.751339  16.082253  1.0   4.0   6.0   \n",
      "Retail           62.0     114212.0  17.669614  27.790935  1.0   6.0  11.0   \n",
      "Services         73.0      41249.0  25.156949  31.941141  1.0   9.0  16.0   \n",
      "Transportation   63.0      13795.0  17.500399  22.920326  1.0   8.0  12.0   \n",
      "Wholesale        62.0        613.0  43.446982  90.299588  1.0  12.0  26.0   \n",
      "\n",
      "                              \n",
      "                 75%     max  \n",
      "sector                        \n",
      "Agriculture     27.0  2986.0  \n",
      "Arts            29.0  1330.0  \n",
      "Clothing        30.0  1626.0  \n",
      "Construction    35.0  1310.0  \n",
      "Education       37.0  1062.0  \n",
      "Entertainment   42.0   281.0  \n",
      "Food            22.0  1118.0  \n",
      "Health          37.0  1609.0  \n",
      "Housing         25.0   762.0  \n",
      "Manufacturing   30.0  1180.0  \n",
      "Personal Use    13.0   408.0  \n",
      "Retail          20.0  1605.0  \n",
      "Services        30.0  1688.0  \n",
      "Transportation  20.0  1138.0  \n",
      "Wholesale       48.0  1349.0  \n",
      "\n",
      "[15 rows x 32 columns]\n",
      "funded_amount\n",
      "Ttest_indResult(statistic=-23.687340611534353, pvalue=6.361934985808203e-124)\n",
      "loan_amount\n",
      "Ttest_indResult(statistic=-23.687340611534353, pvalue=6.361934985808203e-124)\n",
      "term_in_months\n",
      "Ttest_indResult(statistic=109.07802621923142, pvalue=0.0)\n",
      "lender_count\n",
      "Ttest_indResult(statistic=14.36414379027236, pvalue=9.009416005731363e-47)\n"
     ]
    }
   ],
   "source": [
    "#categorical and continuous variables exploration for country\n",
    "df_long_premelt = df_filtered.loc[:,['sector', 'funded_amount', 'loan_amount', 'term_in_months', 'lender_count']]\n",
    "df_long = pd.melt(df_long_premelt, id_vars=['sector'])\n",
    "df_long.head(10)\n",
    "\n",
    "g = sns.FacetGrid(df_long, col=\"variable\", height=4, aspect=1)\n",
    "g = g.map(sns.boxplot, \"sector\", \"value\")\n",
    "plt.show()\n",
    "\n",
    "# Descriptive statistics by group.\n",
    "print(df_long_premelt.groupby('sector').describe())\n",
    "\n",
    "# Test whether group differences are significant.\n",
    "for col in df_long_premelt.loc[:,'funded_amount':'lender_count'].columns:\n",
    "    print(col)\n",
    "    print(stats.ttest_ind(\n",
    "        df_long_premelt[df_long_premelt['sector'] == 'Agriculture'][col].dropna(),\n",
    "        df_long_premelt[df_long_premelt['sector'] == 'Food'][col].dropna()\n",
    "    ))\n",
    "    "
   ]
  },
  {
   "cell_type": "code",
   "execution_count": 16,
   "metadata": {},
   "outputs": [],
   "source": [
    "#Two Categorical variables:\n",
    "\n",
    "#list of top 10 occuring countries\n",
    "#n = 10\n",
    "#val = df_filtered['country'].value_counts()[:n].index.tolist()\n",
    "#print(val)\n",
    "#df_top10_countries = df_filtered[df_filtered.country.isin(val)]\n",
    "\n",
    "#f, ax = plt.subplots(figsize=(15, 30))\n",
    "#sns.countplot(y=\"country\", hue=\"sector\", data=df_top10_countries, palette=\"pastel\")\n",
    "#plt.show()"
   ]
  },
  {
   "cell_type": "code",
   "execution_count": 17,
   "metadata": {},
   "outputs": [],
   "source": [
    "# Table of counts\n",
    "#counttable = pd.crosstab(df_top10_countries['country'], df_top10_countries['sector'])\n",
    "#print(counttable)"
   ]
  },
  {
   "cell_type": "code",
   "execution_count": 18,
   "metadata": {},
   "outputs": [],
   "source": [
    "#df_top10_countries.groupby(['country','sector']).agg({'sector': 'count'})"
   ]
  },
  {
   "cell_type": "code",
   "execution_count": 19,
   "metadata": {},
   "outputs": [
    {
     "name": "stdout",
     "output_type": "stream",
     "text": [
      "   Agriculture  Arts  Clothing  Construction  Education  Entertainment  Food  \\\n",
      "0            0     0         0             0          0              0     1   \n",
      "1            0     0         0             0          0              0     0   \n",
      "2            0     0         0             0          0              0     0   \n",
      "3            0     1         0             0          0              0     0   \n",
      "4            0     0         0             0          0              0     1   \n",
      "5            0     0         0             0          0              0     0   \n",
      "6            1     0         0             0          0              0     0   \n",
      "7            0     0         0             0          0              0     0   \n",
      "8            0     0         0             0          0              0     0   \n",
      "9            0     0         0             0          0              0     1   \n",
      "\n",
      "   Health  Housing  Manufacturing  Personal Use  Retail  Services  \\\n",
      "0       0        0              0             0       0         0   \n",
      "1       0        0              0             0       0         0   \n",
      "2       0        0              0             0       0         0   \n",
      "3       0        0              0             0       0         0   \n",
      "4       0        0              0             0       0         0   \n",
      "5       0        0              0             0       0         1   \n",
      "6       0        0              0             0       0         0   \n",
      "7       0        0              0             0       0         1   \n",
      "8       0        0              1             0       0         0   \n",
      "9       0        0              0             0       0         0   \n",
      "\n",
      "   Transportation  Wholesale  avg_loan  avg_terms  \n",
      "0               0          0         1          1  \n",
      "1               1          0         1          1  \n",
      "2               1          0         1          0  \n",
      "3               0          0         1          1  \n",
      "4               0          0         1          0  \n",
      "5               0          0         1          1  \n",
      "6               0          0         1          0  \n",
      "7               0          0         1          0  \n",
      "8               0          0         1          0  \n",
      "9               0          0         1          1  \n"
     ]
    }
   ],
   "source": [
    "#features\n",
    "#1.Loan amount greater than $900\n",
    "myFeatures = pd.DataFrame()\n",
    "myFeatures = pd.get_dummies(df_filtered['sector'])\n",
    "myFeatures['avg_loan'] = np.where(df_filtered['loan_amount']>=900, 0, 1)\n",
    "#2.Terms in months greater than 14\n",
    "myFeatures['avg_terms'] = np.where(df_filtered['term_in_months']>=14, 0, 1)\n",
    "print(myFeatures.head(10))"
   ]
  },
  {
   "cell_type": "code",
   "execution_count": 20,
   "metadata": {},
   "outputs": [
    {
     "data": {
      "image/png": "[encoded data removed]",
      "text/plain": [
       "<Figure size 432x288 with 4 Axes>"
      ]
     },
     "metadata": {
      "needs_background": "light"
     },
     "output_type": "display_data"
    }
   ],
   "source": [
    "\n",
    "fig = plt.figure()\n",
    "#fig, axes = plt.subplots(nrows=2, ncols=2)\n",
    "#fig.tight_layout()\n",
    "#fig, axs = plt.subplots(nrows=2, ncols=2, constrained_layout=True)\n",
    "\n",
    "fig.add_subplot(221)\n",
    "plt.hist(df_filtered['loan_amount'].dropna())\n",
    "plt.title('Raw')\n",
    "\n",
    "fig.add_subplot(222)\n",
    "plt.hist(np.log(df_filtered['loan_amount'].dropna()))\n",
    "plt.title('Log')\n",
    "\n",
    "fig.add_subplot(223)\n",
    "plt.hist(np.sqrt(df_filtered['loan_amount'].dropna()))\n",
    "plt.title('Square root')\n",
    "\n",
    "ax3=fig.add_subplot(224)\n",
    "plt.hist(1/df_filtered['loan_amount'].dropna())\n",
    "plt.title('Inverse')\n",
    "plt.show()\n",
    "\n",
    "\n",
    "#3.loan amount has been transformed using log to normalize it\n",
    "myFeatures['log_loan_amount'] = np.log(df_filtered['loan_amount'])"
   ]
  },
  {
   "cell_type": "code",
   "execution_count": 21,
   "metadata": {},
   "outputs": [
    {
     "name": "stdout",
     "output_type": "stream",
     "text": [
      "3.666900398952822\n",
      "   Agriculture  Arts  Clothing  Construction  Education  Entertainment  Food  \\\n",
      "0            0     0         0             0          0              0     1   \n",
      "1            0     0         0             0          0              0     0   \n",
      "2            0     0         0             0          0              0     0   \n",
      "3            0     1         0             0          0              0     0   \n",
      "4            0     0         0             0          0              0     1   \n",
      "\n",
      "   Health  Housing  Manufacturing  Personal Use  Retail  Services  \\\n",
      "0       0        0              0             0       0         0   \n",
      "1       0        0              0             0       0         0   \n",
      "2       0        0              0             0       0         0   \n",
      "3       0        0              0             0       0         0   \n",
      "4       0        0              0             0       0         0   \n",
      "\n",
      "   Transportation  Wholesale  avg_loan  avg_terms  log_loan_amount  \\\n",
      "0               0          0         1          1         5.703782   \n",
      "1               1          0         1          1         6.354370   \n",
      "2               1          0         1          0         5.010635   \n",
      "3               0          0         1          1         5.298317   \n",
      "4               0          0         1          0         5.991465   \n",
      "\n",
      "   burden_per_lender  if_burden_beyond_avg  \n",
      "0           3.218876                     1  \n",
      "1           3.715313                     0  \n",
      "2           3.218876                     1  \n",
      "3           3.218876                     1  \n",
      "4           3.218876                     1  \n"
     ]
    }
   ],
   "source": [
    "#4.Burden per lender\n",
    "myFeatures['burden_per_lender'] = np.log(df_filtered['loan_amount']/df_filtered['lender_count'])\n",
    "\n",
    "#5 Increase in burden per lender\n",
    "myFeatures['if_burden_beyond_avg'] = np.where((myFeatures['burden_per_lender'].mean() - myFeatures['burden_per_lender']) > 0, 1, 0)\n",
    "\n",
    "print(myFeatures['burden_per_lender'].mean())\n",
    "print(myFeatures.head(5))"
   ]
  },
  {
   "cell_type": "code",
   "execution_count": 22,
   "metadata": {},
   "outputs": [
    {
     "data": {
      "text/plain": [
       "array([7.13780432e-01, 2.38377863e-01, 4.78417041e-02, 3.16889392e-27])"
      ]
     },
     "execution_count": 22,
     "metadata": {},
     "output_type": "execute_result"
    }
   ],
   "source": [
    "sklearn_pca = PCA(n_components=4)\n",
    "X = StandardScaler().fit_transform(df_bivariate_corr)\n",
    "Y_sklearn = sklearn_pca.fit_transform(X)\n",
    "sklearn_pca.explained_variance_ratio_"
   ]
  },
  {
   "cell_type": "code",
   "execution_count": 23,
   "metadata": {},
   "outputs": [
    {
     "data": {
      "text/plain": [
       "array([[-6.99289278e-01,  3.65358914e-02,  8.93291109e-02,\n",
       "         8.88554774e-11],\n",
       "       [-4.04985339e-01,  2.18814769e-01, -2.43938442e-02,\n",
       "        -2.33832629e-18],\n",
       "       [-3.48469079e-01, -3.56675631e+00, -3.53649869e-01,\n",
       "         3.11888495e-17],\n",
       "       ...,\n",
       "       [-1.16406626e+00, -1.48310350e-01, -5.51530863e-02,\n",
       "        -1.04179270e-16],\n",
       "       [-1.16406626e+00, -1.48310350e-01, -5.51530863e-02,\n",
       "        -1.04179270e-16],\n",
       "       [-1.16406626e+00, -1.48310350e-01, -5.51530863e-02,\n",
       "        -1.04179270e-16]])"
      ]
     },
     "execution_count": 23,
     "metadata": {},
     "output_type": "execute_result"
    }
   ],
   "source": [
    "Y_sklearn"
   ]
  },
  {
   "cell_type": "code",
   "execution_count": 24,
   "metadata": {},
   "outputs": [],
   "source": [
    "x = df_bivariate_corr\n",
    "# Separating out the features\n",
    "#x = df.loc[:, features].values\n",
    "# Separating out the target\n",
    "#y = df.loc[:,['target']].values\n",
    "# Standardizing the features\n",
    "x = StandardScaler().fit_transform(x)\n",
    "\n",
    "pca = PCA(n_components=2)\n",
    "principalComponents = pca.fit_transform(x)\n",
    "principalDf = pd.DataFrame(data = principalComponents\n",
    "             , columns = ['principal component 1', 'principal component 2'])\n",
    "#finalDf = pd.concat([principalDf, df[['target']]], axis = 1)\n",
    "#print(principalDf)"
   ]
  },
  {
   "cell_type": "code",
   "execution_count": null,
   "metadata": {},
   "outputs": [],
   "source": []
  }
 ],
 "metadata": {
  "kernelspec": {
   "display_name": "Python 3",
   "language": "python",
   "name": "python3"
  },
  "language_info": {
   "codemirror_mode": {
    "name": "ipython",
    "version": 3
   },
   "file_extension": ".py",
   "mimetype": "text/x-python",
   "name": "python",
   "nbconvert_exporter": "python",
   "pygments_lexer": "ipython3",
   "version": "3.7.2"
  }
 },
 "nbformat": 4,
 "nbformat_minor": 2
}
