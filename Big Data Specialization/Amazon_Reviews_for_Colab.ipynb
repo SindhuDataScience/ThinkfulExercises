{
  "nbformat": 4,
  "nbformat_minor": 0,
  "metadata": {
    "kernelspec": {
      "display_name": "Python 3",
      "language": "python",
      "name": "python3"
    },
    "language_info": {
      "codemirror_mode": {
        "name": "ipython",
        "version": 3
      },
      "file_extension": ".py",
      "mimetype": "text/x-python",
      "name": "python",
      "nbconvert_exporter": "python",
      "pygments_lexer": "ipython3",
      "version": "3.7.2"
    },
    "colab": {
      "name": "Amazon Reviews for Colab.ipynb",
      "provenance": [],
      "collapsed_sections": []
    }
  },
  "cells": [
    {
      "cell_type": "code",
      "metadata": {
        "id": "T4Q-f-YN--aU",
        "colab_type": "code",
        "outputId": "17533291-ec68-41b0-b1da-7154a43db499",
        "colab": {
          "base_uri": "https://localhost:8080/",
          "height": 67
        }
      },
      "source": [
        "!apt-get install openjdk-8-jdk-headless -qq > /dev/null\n",
        "!wget -q http://apache.osuosl.org/spark/spark-2.4.4/spark-2.4.4-bin-hadoop2.7.tgz\n",
        "!tar xf spark-2.4.4-bin-hadoop2.7.tgz\n",
        "\n",
        "!pip install -q findspark\n",
        "!pip install pyspark\n",
        "\n",
        "import os\n",
        "os.environ[\"JAVA_HOME\"] = \"/usr/lib/jvm/java-8-openjdk-amd64\"\n",
        "os.environ[\"SPARK_HOME\"] = \"/content/spark-2.4.4-bin-hadoop2.7\"\n",
        "\n",
        "from google.colab import drive\n",
        "drive.mount('/content/gdrive')"
      ],
      "execution_count": 52,
      "outputs": [
        {
          "output_type": "stream",
          "text": [
            "Requirement already satisfied: pyspark in /usr/local/lib/python3.6/dist-packages (2.4.4)\n",
            "Requirement already satisfied: py4j==0.10.7 in /usr/local/lib/python3.6/dist-packages (from pyspark) (0.10.7)\n",
            "Drive already mounted at /content/gdrive; to attempt to forcibly remount, call drive.mount(\"/content/gdrive\", force_remount=True).\n"
          ],
          "name": "stdout"
        }
      ]
    },
    {
      "cell_type": "code",
      "metadata": {
        "id": "0EuJzjrSI8Yo",
        "colab_type": "code",
        "colab": {}
      },
      "source": [
        "from pyspark import SparkContext\n",
        "from pyspark.sql import SparkSession\n",
        "\n",
        "from pyspark.ml import Pipeline\n",
        "from pyspark.ml.classification import LinearSVC\n",
        "from  pyspark.ml.feature import CountVectorizer\n",
        "\n",
        "from pyspark.sql.functions import isnan, when, count, col"
      ],
      "execution_count": 0,
      "outputs": []
    },
    {
      "cell_type": "code",
      "metadata": {
        "id": "gYWgvNbkXhUd",
        "colab_type": "code",
        "colab": {}
      },
      "source": [
        "JSON_PATH = \"/content/gdrive/My Drive/Colab Datasets/Amazon_Instant_Video_5.json\"\n",
        "APP_NAME = \"Amazon Reviews Sentiment analysis\"\n",
        "SPARK_URL = \"local[*]\"\n",
        "RANDOM_SEED = 141107\n",
        "TRAINING_DATA_RATIO = 0.8\n",
        "RF_NUM_TREES = 10\n",
        "RF_MAX_DEPTH = 4\n",
        "RF_NUM_BINS = 32"
      ],
      "execution_count": 0,
      "outputs": []
    },
    {
      "cell_type": "code",
      "metadata": {
        "id": "1o2PwYb-YQ-o",
        "colab_type": "code",
        "colab": {}
      },
      "source": [
        "spark = SparkSession.builder.appName(APP_NAME).master(SPARK_URL).getOrCreate()\n",
        "df = spark.read.options(inferschema = \"true\").json(JSON_PATH)"
      ],
      "execution_count": 0,
      "outputs": []
    },
    {
      "cell_type": "code",
      "metadata": {
        "id": "y2HKyz-tY2US",
        "colab_type": "code",
        "outputId": "59e8d820-0725-433a-c63c-57fa1f609674",
        "colab": {
          "base_uri": "https://localhost:8080/",
          "height": 195
        }
      },
      "source": [
        "df_pandas = df.toPandas()\n",
        "df_pandas.head(5)"
      ],
      "execution_count": 56,
      "outputs": [
        {
          "output_type": "execute_result",
          "data": {
            "text/html": [
              "<div>\n",
              "<style scoped>\n",
              "    .dataframe tbody tr th:only-of-type {\n",
              "        vertical-align: middle;\n",
              "    }\n",
              "\n",
              "    .dataframe tbody tr th {\n",
              "        vertical-align: top;\n",
              "    }\n",
              "\n",
              "    .dataframe thead th {\n",
              "        text-align: right;\n",
              "    }\n",
              "</style>\n",
              "<table border=\"1\" class=\"dataframe\">\n",
              "  <thead>\n",
              "    <tr style=\"text-align: right;\">\n",
              "      <th></th>\n",
              "      <th>asin</th>\n",
              "      <th>helpful</th>\n",
              "      <th>overall</th>\n",
              "      <th>reviewText</th>\n",
              "      <th>reviewTime</th>\n",
              "      <th>reviewerID</th>\n",
              "      <th>reviewerName</th>\n",
              "      <th>summary</th>\n",
              "      <th>unixReviewTime</th>\n",
              "    </tr>\n",
              "  </thead>\n",
              "  <tbody>\n",
              "    <tr>\n",
              "      <th>0</th>\n",
              "      <td>B000H00VBQ</td>\n",
              "      <td>[0, 0]</td>\n",
              "      <td>2.0</td>\n",
              "      <td>I had big expectations because I love English ...</td>\n",
              "      <td>05 3, 2014</td>\n",
              "      <td>A11N155CW1UV02</td>\n",
              "      <td>AdrianaM</td>\n",
              "      <td>A little bit boring for me</td>\n",
              "      <td>1399075200</td>\n",
              "    </tr>\n",
              "    <tr>\n",
              "      <th>1</th>\n",
              "      <td>B000H00VBQ</td>\n",
              "      <td>[0, 0]</td>\n",
              "      <td>5.0</td>\n",
              "      <td>I highly recommend this series. It is a must f...</td>\n",
              "      <td>09 3, 2012</td>\n",
              "      <td>A3BC8O2KCL29V2</td>\n",
              "      <td>Carol T</td>\n",
              "      <td>Excellent Grown Up TV</td>\n",
              "      <td>1346630400</td>\n",
              "    </tr>\n",
              "    <tr>\n",
              "      <th>2</th>\n",
              "      <td>B000H00VBQ</td>\n",
              "      <td>[0, 1]</td>\n",
              "      <td>1.0</td>\n",
              "      <td>This one is a real snoozer. Don't believe anyt...</td>\n",
              "      <td>10 16, 2013</td>\n",
              "      <td>A60D5HQFOTSOM</td>\n",
              "      <td>Daniel Cooper \"dancoopermedia\"</td>\n",
              "      <td>Way too boring for me</td>\n",
              "      <td>1381881600</td>\n",
              "    </tr>\n",
              "    <tr>\n",
              "      <th>3</th>\n",
              "      <td>B000H00VBQ</td>\n",
              "      <td>[0, 0]</td>\n",
              "      <td>4.0</td>\n",
              "      <td>Mysteries are interesting.  The tension betwee...</td>\n",
              "      <td>10 30, 2013</td>\n",
              "      <td>A1RJPIGRSNX4PW</td>\n",
              "      <td>J. Kaplan \"JJ\"</td>\n",
              "      <td>Robson Green is mesmerizing</td>\n",
              "      <td>1383091200</td>\n",
              "    </tr>\n",
              "    <tr>\n",
              "      <th>4</th>\n",
              "      <td>B000H00VBQ</td>\n",
              "      <td>[1, 1]</td>\n",
              "      <td>5.0</td>\n",
              "      <td>This show always is excellent, as far as briti...</td>\n",
              "      <td>02 11, 2009</td>\n",
              "      <td>A16XRPF40679KG</td>\n",
              "      <td>Michael Dobey</td>\n",
              "      <td>Robson green and great writing</td>\n",
              "      <td>1234310400</td>\n",
              "    </tr>\n",
              "  </tbody>\n",
              "</table>\n",
              "</div>"
            ],
            "text/plain": [
              "         asin helpful  ...                         summary unixReviewTime\n",
              "0  B000H00VBQ  [0, 0]  ...      A little bit boring for me     1399075200\n",
              "1  B000H00VBQ  [0, 0]  ...           Excellent Grown Up TV     1346630400\n",
              "2  B000H00VBQ  [0, 1]  ...           Way too boring for me     1381881600\n",
              "3  B000H00VBQ  [0, 0]  ...     Robson Green is mesmerizing     1383091200\n",
              "4  B000H00VBQ  [1, 1]  ...  Robson green and great writing     1234310400\n",
              "\n",
              "[5 rows x 9 columns]"
            ]
          },
          "metadata": {
            "tags": []
          },
          "execution_count": 56
        }
      ]
    },
    {
      "cell_type": "code",
      "metadata": {
        "id": "--1mDpyiZDoK",
        "colab_type": "code",
        "outputId": "209292f4-f2e2-48a2-9b0c-4f204be6e29c",
        "colab": {
          "base_uri": "https://localhost:8080/",
          "height": 34
        }
      },
      "source": [
        "df_pandas.shape"
      ],
      "execution_count": 57,
      "outputs": [
        {
          "output_type": "execute_result",
          "data": {
            "text/plain": [
              "(37126, 9)"
            ]
          },
          "metadata": {
            "tags": []
          },
          "execution_count": 57
        }
      ]
    },
    {
      "cell_type": "code",
      "metadata": {
        "id": "uoT0wTAqWhNs",
        "colab_type": "code",
        "outputId": "1a8d0802-c3de-4304-9601-2de1536274f4",
        "colab": {
          "base_uri": "https://localhost:8080/",
          "height": 218
        }
      },
      "source": [
        "df.printSchema()"
      ],
      "execution_count": 58,
      "outputs": [
        {
          "output_type": "stream",
          "text": [
            "root\n",
            " |-- asin: string (nullable = true)\n",
            " |-- helpful: array (nullable = true)\n",
            " |    |-- element: long (containsNull = true)\n",
            " |-- overall: double (nullable = true)\n",
            " |-- reviewText: string (nullable = true)\n",
            " |-- reviewTime: string (nullable = true)\n",
            " |-- reviewerID: string (nullable = true)\n",
            " |-- reviewerName: string (nullable = true)\n",
            " |-- summary: string (nullable = true)\n",
            " |-- unixReviewTime: long (nullable = true)\n",
            "\n"
          ],
          "name": "stdout"
        }
      ]
    },
    {
      "cell_type": "code",
      "metadata": {
        "id": "LyvzsFKoYEK4",
        "colab_type": "code",
        "outputId": "2cfbcfc9-3eaa-45c8-c2ec-23c84f96458d",
        "colab": {
          "base_uri": "https://localhost:8080/",
          "height": 314
        }
      },
      "source": [
        "df.describe().toPandas().transpose()"
      ],
      "execution_count": 59,
      "outputs": [
        {
          "output_type": "execute_result",
          "data": {
            "text/html": [
              "<div>\n",
              "<style scoped>\n",
              "    .dataframe tbody tr th:only-of-type {\n",
              "        vertical-align: middle;\n",
              "    }\n",
              "\n",
              "    .dataframe tbody tr th {\n",
              "        vertical-align: top;\n",
              "    }\n",
              "\n",
              "    .dataframe thead th {\n",
              "        text-align: right;\n",
              "    }\n",
              "</style>\n",
              "<table border=\"1\" class=\"dataframe\">\n",
              "  <thead>\n",
              "    <tr style=\"text-align: right;\">\n",
              "      <th></th>\n",
              "      <th>0</th>\n",
              "      <th>1</th>\n",
              "      <th>2</th>\n",
              "      <th>3</th>\n",
              "      <th>4</th>\n",
              "    </tr>\n",
              "  </thead>\n",
              "  <tbody>\n",
              "    <tr>\n",
              "      <th>summary</th>\n",
              "      <td>count</td>\n",
              "      <td>mean</td>\n",
              "      <td>stddev</td>\n",
              "      <td>min</td>\n",
              "      <td>max</td>\n",
              "    </tr>\n",
              "    <tr>\n",
              "      <th>asin</th>\n",
              "      <td>37126</td>\n",
              "      <td>None</td>\n",
              "      <td>None</td>\n",
              "      <td>B000H00VBQ</td>\n",
              "      <td>B00LPWPMCS</td>\n",
              "    </tr>\n",
              "    <tr>\n",
              "      <th>overall</th>\n",
              "      <td>37126</td>\n",
              "      <td>4.209529709637451</td>\n",
              "      <td>1.1185496668776904</td>\n",
              "      <td>1.0</td>\n",
              "      <td>5.0</td>\n",
              "    </tr>\n",
              "    <tr>\n",
              "      <th>reviewText</th>\n",
              "      <td>37126</td>\n",
              "      <td>None</td>\n",
              "      <td>None</td>\n",
              "      <td>\"13 Assassins\" is a remake of a 1963 film, upd...</td>\n",
              "      <td>~Why only ten episodes? This is the first fant...</td>\n",
              "    </tr>\n",
              "    <tr>\n",
              "      <th>reviewTime</th>\n",
              "      <td>37126</td>\n",
              "      <td>None</td>\n",
              "      <td>None</td>\n",
              "      <td>01 1, 2007</td>\n",
              "      <td>12 9, 2013</td>\n",
              "    </tr>\n",
              "    <tr>\n",
              "      <th>reviewerID</th>\n",
              "      <td>37126</td>\n",
              "      <td>None</td>\n",
              "      <td>None</td>\n",
              "      <td>A0705654XT5UCAYOY7TH</td>\n",
              "      <td>AZXS6P5QWNMLC</td>\n",
              "    </tr>\n",
              "    <tr>\n",
              "      <th>reviewerName</th>\n",
              "      <td>36797</td>\n",
              "      <td>None</td>\n",
              "      <td>None</td>\n",
              "      <td>Leah  \"Leah\"</td>\n",
              "      <td>zzdb</td>\n",
              "    </tr>\n",
              "    <tr>\n",
              "      <th>summary</th>\n",
              "      <td>37126</td>\n",
              "      <td>1.4428786142857144E7</td>\n",
              "      <td>3.8174361192681804E7</td>\n",
              "      <td>!!!!</td>\n",
              "      <td>~HUGE FAN HERE!</td>\n",
              "    </tr>\n",
              "    <tr>\n",
              "      <th>unixReviewTime</th>\n",
              "      <td>37126</td>\n",
              "      <td>1.3767946516403599E9</td>\n",
              "      <td>3.054958450744007E7</td>\n",
              "      <td>975456000</td>\n",
              "      <td>1406073600</td>\n",
              "    </tr>\n",
              "  </tbody>\n",
              "</table>\n",
              "</div>"
            ],
            "text/plain": [
              "                    0  ...                                                  4\n",
              "summary         count  ...                                                max\n",
              "asin            37126  ...                                         B00LPWPMCS\n",
              "overall         37126  ...                                                5.0\n",
              "reviewText      37126  ...  ~Why only ten episodes? This is the first fant...\n",
              "reviewTime      37126  ...                                         12 9, 2013\n",
              "reviewerID      37126  ...                                      AZXS6P5QWNMLC\n",
              "reviewerName    36797  ...                                               zzdb\n",
              "summary         37126  ...                                    ~HUGE FAN HERE!\n",
              "unixReviewTime  37126  ...                                         1406073600\n",
              "\n",
              "[9 rows x 5 columns]"
            ]
          },
          "metadata": {
            "tags": []
          },
          "execution_count": 59
        }
      ]
    },
    {
      "cell_type": "code",
      "metadata": {
        "id": "nv0SvcQl-zLw",
        "colab_type": "code",
        "colab": {}
      },
      "source": [
        "import pandas as pd\n",
        "import numpy as np\n",
        "import matplotlib.pyplot as plt\n",
        "%matplotlib inline\n",
        "import seaborn as sns\n",
        "import sklearn"
      ],
      "execution_count": 0,
      "outputs": []
    },
    {
      "cell_type": "code",
      "metadata": {
        "id": "W--z12sxZJ6Q",
        "colab_type": "code",
        "outputId": "02a24f43-30e8-498e-de2d-22a599bfa985",
        "colab": {
          "base_uri": "https://localhost:8080/",
          "height": 454
        }
      },
      "source": [
        "#3and below --ve\n",
        "from pyspark.sql import functions as F\n",
        "df = df.withColumn(\"label\", F.when(F.col(\"overall\")>=3, 1).otherwise(0))\n",
        "df.show()"
      ],
      "execution_count": 61,
      "outputs": [
        {
          "output_type": "stream",
          "text": [
            "+----------+--------+-------+--------------------+-----------+--------------+--------------------+--------------------+--------------+-----+\n",
            "|      asin| helpful|overall|          reviewText| reviewTime|    reviewerID|        reviewerName|             summary|unixReviewTime|label|\n",
            "+----------+--------+-------+--------------------+-----------+--------------+--------------------+--------------------+--------------+-----+\n",
            "|B000H00VBQ|  [0, 0]|    2.0|I had big expecta...| 05 3, 2014|A11N155CW1UV02|            AdrianaM|A little bit bori...|    1399075200|    0|\n",
            "|B000H00VBQ|  [0, 0]|    5.0|I highly recommen...| 09 3, 2012|A3BC8O2KCL29V2|             Carol T|Excellent Grown U...|    1346630400|    1|\n",
            "|B000H00VBQ|  [0, 1]|    1.0|This one is a rea...|10 16, 2013| A60D5HQFOTSOM|Daniel Cooper \"da...|Way too boring fo...|    1381881600|    0|\n",
            "|B000H00VBQ|  [0, 0]|    4.0|Mysteries are int...|10 30, 2013|A1RJPIGRSNX4PW|      J. Kaplan \"JJ\"|Robson Green is m...|    1383091200|    1|\n",
            "|B000H00VBQ|  [1, 1]|    5.0|This show always ...|02 11, 2009|A16XRPF40679KG|       Michael Dobey|Robson green and ...|    1234310400|    1|\n",
            "|B000H00VBQ|[12, 12]|    5.0|I discovered this...|10 11, 2011|A1POFVVXUZR3IQ|             Z Hayes|I purchased the s...|    1318291200|    1|\n",
            "|B000H0X79O|  [0, 0]|    3.0|It beats watching...|10 15, 2013|A1PG2VV4W1WRPL|Jimmy C. Saunders...|It takes up your ...|    1381795200|    1|\n",
            "|B000H0X79O|  [0, 0]|    3.0|There are many ep...|12 29, 2013| ATASGS8HZHGIB|             JohnnyC|A reasonable way ...|    1388275200|    1|\n",
            "|B000H0X79O|  [0, 0]|    5.0|This is the best ...|02 26, 2014|A3RXD7Z44T9DHW|              Kansas|           kansas001|    1393372800|    1|\n",
            "|B000H0X79O|  [0, 0]|    3.0|Not bad.  Didn't ...| 04 2, 2014| AUX8EUBNTHIIU| Louis V. Borsellino| Entertaining Comedy|    1396396800|    1|\n",
            "|B000H0X79O|  [0, 0]|    4.0|Funny, interestin...| 02 7, 2014| AXM3GQLD0CHIL|           Ray Shiva|     Worth watching!|    1391731200|    1|\n",
            "|B000H29TXU|  [0, 0]|    4.0|I love the variet...| 02 6, 2014|A398QSASJOIKA6|     Amazon Customer|comedy club quali...|    1391644800|    1|\n",
            "|B000H29TXU|  [0, 1]|    3.0|comedy is a matte...| 09 5, 2013|A2U61O0KWJH3MM|            Cathy P.|                  ok|    1378339200|    1|\n",
            "|B000H29TXU|  [0, 0]|    3.0|if this had to do...|06 14, 2013|A2LSZFEFTDRDIJ|       debra marrero|not sure who this...|    1371168000|    1|\n",
            "|B000H29TXU|  [0, 0]|    5.0|Watched it for Ke...|04 29, 2014|A39F2EW27YYUDM|         Emily Booth|           Loved it!|    1398729600|    1|\n",
            "|B000H29TXU|  [0, 0]|    2.0|he's OK. His humo...| 03 6, 2014| AO1Z63O9CTT95|    James Westervelt|same routine he d...|    1394064000|    0|\n",
            "|B000H2DMME|  [0, 0]|    3.0|some comedians ar...| 01 9, 2014|A1378ZJMWCTVT3|                Alla|           it was ok|    1389225600|    1|\n",
            "|B000H2DMME|  [0, 0]|    3.0|I only watched th...|05 18, 2014|A2JE0JYIZL5NU4|          C. A. Neal|I Only Watched Wa...|    1400371200|    1|\n",
            "|B000H2DMME|  [0, 0]|    5.0|Enjoyed some of t...|02 10, 2013|A2LSZFEFTDRDIJ|       debra marrero|     Some were funny|    1360454400|    1|\n",
            "|B000H2DMME|  [0, 0]|    5.0|All the comedians...| 03 6, 2014|A3RXD7Z44T9DHW|              Kansas|              kansas|    1394064000|    1|\n",
            "+----------+--------+-------+--------------------+-----------+--------------+--------------------+--------------------+--------------+-----+\n",
            "only showing top 20 rows\n",
            "\n"
          ],
          "name": "stdout"
        }
      ]
    },
    {
      "cell_type": "code",
      "metadata": {
        "id": "66mnc_ULkPk4",
        "colab_type": "code",
        "outputId": "1ef1ff45-aafb-4e88-a0cf-717c59d868f9",
        "colab": {
          "base_uri": "https://localhost:8080/",
          "height": 474
        }
      },
      "source": [
        "from pyspark.ml.feature import Tokenizer\n",
        "from pyspark.ml.feature import CountVectorizer\n",
        "from pyspark.ml.feature import StopWordsRemover\n",
        "\n",
        "tokenizer = Tokenizer(inputCol=\"reviewText\", outputCol=\"words\")\n",
        "remover = StopWordsRemover(inputCol=\"words\", outputCol=\"filteredReviewText\")\n",
        "cv = CountVectorizer(inputCol=\"filteredReviewText\", outputCol=\"features\", vocabSize=300)\n",
        "\n",
        "cv_transformer = Pipeline(stages=[tokenizer, remover, cv]).fit(df).transform(df)\n",
        "cv_transformer.show()"
      ],
      "execution_count": 62,
      "outputs": [
        {
          "output_type": "stream",
          "text": [
            "+----------+--------+-------+--------------------+-----------+--------------+--------------------+--------------------+--------------+-----+--------------------+--------------------+--------------------+\n",
            "|      asin| helpful|overall|          reviewText| reviewTime|    reviewerID|        reviewerName|             summary|unixReviewTime|label|               words|  filteredReviewText|            features|\n",
            "+----------+--------+-------+--------------------+-----------+--------------+--------------------+--------------------+--------------+-----+--------------------+--------------------+--------------------+\n",
            "|B000H00VBQ|  [0, 0]|    2.0|I had big expecta...| 05 3, 2014|A11N155CW1UV02|            AdrianaM|A little bit bori...|    1399075200|    0|[i, had, big, exp...|[big, expectation...|(300,[7,8,123,181...|\n",
            "|B000H00VBQ|  [0, 0]|    5.0|I highly recommen...| 09 3, 2012|A3BC8O2KCL29V2|             Carol T|Excellent Grown U...|    1346630400|    1|[i, highly, recom...|[highly, recommen...|(300,[4,11,14,62,...|\n",
            "|B000H00VBQ|  [0, 1]|    1.0|This one is a rea...|10 16, 2013| A60D5HQFOTSOM|Daniel Cooper \"da...|Way too boring fo...|    1381881600|    0|[this, one, is, a...|[one, real, snooz...|(300,[4,64,174,18...|\n",
            "|B000H00VBQ|  [0, 0]|    4.0|Mysteries are int...|10 30, 2013|A1RJPIGRSNX4PW|      J. Kaplan \"JJ\"|Robson Green is m...|    1383091200|    1|[mysteries, are, ...|[mysteries, inter...|(300,[0,5,48,252,...|\n",
            "|B000H00VBQ|  [1, 1]|    5.0|This show always ...|02 11, 2009|A16XRPF40679KG|       Michael Dobey|Robson green and ...|    1234310400|    1|[this, show, alwa...|[show, always, ex...|(300,[0,1,2,4,6,1...|\n",
            "|B000H00VBQ|[12, 12]|    5.0|I discovered this...|10 11, 2011|A1POFVVXUZR3IQ|             Z Hayes|I purchased the s...|    1318291200|    1|[i, discovered, t...|[discovered, seri...|(300,[1,3,4,5,7,9...|\n",
            "|B000H0X79O|  [0, 0]|    3.0|It beats watching...|10 15, 2013|A1PG2VV4W1WRPL|Jimmy C. Saunders...|It takes up your ...|    1381795200|    1|[it, beats, watch...|[beats, watching,...|(300,[22,143,156,...|\n",
            "|B000H0X79O|  [0, 0]|    3.0|There are many ep...|12 29, 2013| ATASGS8HZHGIB|             JohnnyC|A reasonable way ...|    1388275200|    1|[there, are, many...|[many, episodes, ...|(300,[0,26,36,39,...|\n",
            "|B000H0X79O|  [0, 0]|    5.0|This is the best ...|02 26, 2014|A3RXD7Z44T9DHW|              Kansas|           kansas001|    1393372800|    1|[this, is, the, b...|[best, best, come...|(300,[4,11,43,60,...|\n",
            "|B000H0X79O|  [0, 0]|    3.0|Not bad.  Didn't ...| 04 2, 2014| AUX8EUBNTHIIU| Louis V. Borsellino| Entertaining Comedy|    1396396800|    1|[not, bad., , did...|[bad., , know, co...|(300,[0,3,15,24,3...|\n",
            "|B000H0X79O|  [0, 0]|    4.0|Funny, interestin...| 02 7, 2014| AXM3GQLD0CHIL|           Ray Shiva|     Worth watching!|    1391731200|    1|[funny,, interest...|[funny,, interest...|(300,[1,5,6,40,63...|\n",
            "|B000H29TXU|  [0, 0]|    4.0|I love the variet...| 02 6, 2014|A398QSASJOIKA6|     Amazon Customer|comedy club quali...|    1391644800|    1|[i, love, the, va...|[love, variety, c...|(300,[0,6,8,10,20...|\n",
            "|B000H29TXU|  [0, 1]|    3.0|comedy is a matte...| 09 5, 2013|A2U61O0KWJH3MM|            Cathy P.|                  ok|    1378339200|    1|[comedy, is, a, m...|[comedy, matter, ...|(300,[35,108,118,...|\n",
            "|B000H29TXU|  [0, 0]|    3.0|if this had to do...|06 14, 2013|A2LSZFEFTDRDIJ|       debra marrero|not sure who this...|    1371168000|    1|[if, this, had, t...|[dat, phan,, hila...|(300,[11,83,190,2...|\n",
            "|B000H29TXU|  [0, 0]|    5.0|Watched it for Ke...|04 29, 2014|A39F2EW27YYUDM|         Emily Booth|           Loved it!|    1398729600|    1|[watched, it, for...|[watched, kevin, ...|(300,[0,43,58,59,...|\n",
            "|B000H29TXU|  [0, 0]|    2.0|he's OK. His humo...| 03 6, 2014| AO1Z63O9CTT95|    James Westervelt|same routine he d...|    1394064000|    0|[he's, ok., his, ...|[ok., humor, cons...|   (300,[254],[1.0])|\n",
            "|B000H2DMME|  [0, 0]|    3.0|some comedians ar...| 01 9, 2014|A1378ZJMWCTVT3|                Alla|           it was ok|    1389225600|    1|[some, comedians,...|[comedians, good,...|(300,[0,37,58,123...|\n",
            "|B000H2DMME|  [0, 0]|    3.0|I only watched th...|05 18, 2014|A2JE0JYIZL5NU4|          C. A. Neal|I Only Watched Wa...|    1400371200|    1|[i, only, watched...|[watched, wanda, ...|(300,[2,4,7,10,11...|\n",
            "|B000H2DMME|  [0, 0]|    5.0|Enjoyed some of t...|02 10, 2013|A2LSZFEFTDRDIJ|       debra marrero|     Some were funny|    1360454400|    1|[enjoyed, some, o...|[enjoyed, comedia...|    (300,[83],[1.0])|\n",
            "|B000H2DMME|  [0, 0]|    5.0|All the comedians...| 03 6, 2014|A3RXD7Z44T9DHW|              Kansas|              kansas|    1394064000|    1|[all, the, comedi...|[comedians, hilar...|(300,[6,8,16,18,4...|\n",
            "+----------+--------+-------+--------------------+-----------+--------------+--------------------+--------------------+--------------+-----+--------------------+--------------------+--------------------+\n",
            "only showing top 20 rows\n",
            "\n"
          ],
          "name": "stdout"
        }
      ]
    },
    {
      "cell_type": "code",
      "metadata": {
        "id": "0jUK6NNDrivQ",
        "colab_type": "code",
        "outputId": "ccc72d15-312c-47d7-b555-308fa052543c",
        "colab": {
          "base_uri": "https://localhost:8080/",
          "height": 50
        }
      },
      "source": [
        "(trainingData, testData) = cv_transformer.randomSplit([0.7, 0.3], seed = 100)\n",
        "print(\"Training Dataset Count: \" + str(trainingData.count()))\n",
        "print(\"Test Dataset Count: \" + str(testData.count()))"
      ],
      "execution_count": 63,
      "outputs": [
        {
          "output_type": "stream",
          "text": [
            "Training Dataset Count: 26063\n",
            "Test Dataset Count: 11063\n"
          ],
          "name": "stdout"
        }
      ]
    },
    {
      "cell_type": "code",
      "metadata": {
        "id": "_3DF4JHlsOWh",
        "colab_type": "code",
        "outputId": "6c70e17a-cb09-4690-f9af-7e14eb6e7d78",
        "colab": {
          "base_uri": "https://localhost:8080/",
          "height": 454
        }
      },
      "source": [
        "from pyspark.ml.classification import LinearSVC\n",
        "lsvc = LinearSVC(maxIter=10, regParam=0.1)\n",
        "\n",
        "# Fit the model\n",
        "lsvcModel = lsvc.fit(trainingData[\"features\",\"label\"])\n",
        "predictions = lsvcModel.transform(testData[\"features\",\"label\"])\n",
        "predictions.show()"
      ],
      "execution_count": 65,
      "outputs": [
        {
          "output_type": "stream",
          "text": [
            "+--------------------+-----+--------------------+----------+\n",
            "|            features|label|       rawPrediction|prediction|\n",
            "+--------------------+-----+--------------------+----------+\n",
            "|(300,[0,1,2,4,6,1...|    1|[-4.0173416654013...|       1.0|\n",
            "|(300,[0,3,15,24,3...|    1|[-1.0375220163082...|       1.0|\n",
            "|(300,[0,26,36,39,...|    1|[-0.1542706798043...|       1.0|\n",
            "|(300,[1,5,6,40,63...|    1|[-1.3063160857211...|       1.0|\n",
            "|(300,[35,108,118,...|    1|[-0.9258748141492...|       1.0|\n",
            "|(300,[17,40,146,1...|    1|[-1.2499991501117...|       1.0|\n",
            "|(300,[0,5,10,65,7...|    1|[-1.4395543838246...|       1.0|\n",
            "|(300,[6,8,16,18,4...|    1|[-1.4510323109307...|       1.0|\n",
            "|(300,[56,88,96,14...|    1|[-0.8534146386072...|       1.0|\n",
            "|(300,[39,75,79,10...|    1|[-1.3863830729098...|       1.0|\n",
            "|(300,[1,14,22,27,...|    1|[-1.0091194362847...|       1.0|\n",
            "|(300,[0,5,60,112,...|    1|[-1.4031373523216...|       1.0|\n",
            "|(300,[71,84,118],...|    1|[-0.9278216015808...|       1.0|\n",
            "|(300,[0,1,2,3,4,6...|    1|[-1.5114895037869...|       1.0|\n",
            "|(300,[8,9,30,54,7...|    1|[-1.7015938346592...|       1.0|\n",
            "|(300,[12,39,136],...|    0|[-0.9904055224111...|       1.0|\n",
            "|(300,[0,1,3,7,12,...|    1|[-1.4870699371077...|       1.0|\n",
            "|(300,[1,3,13,15,1...|    1|[-1.2516831514353...|       1.0|\n",
            "|(300,[1,2,232],[1...|    1|[-0.9497656100471...|       1.0|\n",
            "|(300,[0,3,7,10,11...|    1|[-2.5644819266180...|       1.0|\n",
            "+--------------------+-----+--------------------+----------+\n",
            "only showing top 20 rows\n",
            "\n"
          ],
          "name": "stdout"
        }
      ]
    },
    {
      "cell_type": "code",
      "metadata": {
        "id": "NIuJM_RXxCsu",
        "colab_type": "code",
        "colab": {
          "base_uri": "https://localhost:8080/",
          "height": 34
        },
        "outputId": "0b9c5acf-c548-411b-8db0-7c10fb574747"
      },
      "source": [
        "from pyspark.ml.evaluation import BinaryClassificationEvaluator\n",
        "\n",
        "# Evaluate model\n",
        "evaluator = BinaryClassificationEvaluator(labelCol=\"label\", rawPredictionCol=\"rawPrediction\")\n",
        "accuracy = evaluator.evaluate(predictions)\n",
        "print(\"Model Accuracy: \", accuracy)"
      ],
      "execution_count": 74,
      "outputs": [
        {
          "output_type": "stream",
          "text": [
            "Model Accuracy:  0.800827638727323\n"
          ],
          "name": "stdout"
        }
      ]
    }
  ]
}