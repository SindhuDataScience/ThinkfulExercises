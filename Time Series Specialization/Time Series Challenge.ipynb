{
 "cells": [
  {
   "cell_type": "code",
   "execution_count": 1,
   "metadata": {},
   "outputs": [],
   "source": [
    "import numpy as np\n",
    "import pandas as pd\n",
    "import scipy\n",
    "from datetime import datetime\n",
    "import datetime as dt\n",
    "import matplotlib.pyplot as plt\n",
    "%matplotlib inline"
   ]
  },
  {
   "cell_type": "code",
   "execution_count": 3,
   "metadata": {},
   "outputs": [
    {
     "data": {
      "text/html": [
       "<div>\n",
       "<style scoped>\n",
       "    .dataframe tbody tr th:only-of-type {\n",
       "        vertical-align: middle;\n",
       "    }\n",
       "\n",
       "    .dataframe tbody tr th {\n",
       "        vertical-align: top;\n",
       "    }\n",
       "\n",
       "    .dataframe thead th {\n",
       "        text-align: right;\n",
       "    }\n",
       "</style>\n",
       "<table border=\"1\" class=\"dataframe\">\n",
       "  <thead>\n",
       "    <tr style=\"text-align: right;\">\n",
       "      <th></th>\n",
       "      <th>DATE</th>\n",
       "      <th>DGS10</th>\n",
       "    </tr>\n",
       "  </thead>\n",
       "  <tbody>\n",
       "    <tr>\n",
       "      <th>0</th>\n",
       "      <td>2014-10-03</td>\n",
       "      <td>2.45</td>\n",
       "    </tr>\n",
       "    <tr>\n",
       "      <th>1</th>\n",
       "      <td>2014-10-06</td>\n",
       "      <td>2.43</td>\n",
       "    </tr>\n",
       "    <tr>\n",
       "      <th>2</th>\n",
       "      <td>2014-10-07</td>\n",
       "      <td>2.36</td>\n",
       "    </tr>\n",
       "    <tr>\n",
       "      <th>3</th>\n",
       "      <td>2014-10-08</td>\n",
       "      <td>2.35</td>\n",
       "    </tr>\n",
       "    <tr>\n",
       "      <th>4</th>\n",
       "      <td>2014-10-09</td>\n",
       "      <td>2.34</td>\n",
       "    </tr>\n",
       "  </tbody>\n",
       "</table>\n",
       "</div>"
      ],
      "text/plain": [
       "         DATE DGS10\n",
       "0  2014-10-03  2.45\n",
       "1  2014-10-06  2.43\n",
       "2  2014-10-07  2.36\n",
       "3  2014-10-08  2.35\n",
       "4  2014-10-09  2.34"
      ]
     },
     "execution_count": 3,
     "metadata": {},
     "output_type": "execute_result"
    }
   ],
   "source": [
    "sp_data = pd.read_csv(r'C:\\Users\\Niranjan\\Desktop\\Data Science\\datasets/DGS10.csv')\n",
    "sp_data.head()"
   ]
  },
  {
   "cell_type": "code",
   "execution_count": 5,
   "metadata": {},
   "outputs": [
    {
     "data": {
      "text/html": [
       "<div>\n",
       "<style scoped>\n",
       "    .dataframe tbody tr th:only-of-type {\n",
       "        vertical-align: middle;\n",
       "    }\n",
       "\n",
       "    .dataframe tbody tr th {\n",
       "        vertical-align: top;\n",
       "    }\n",
       "\n",
       "    .dataframe thead th {\n",
       "        text-align: right;\n",
       "    }\n",
       "</style>\n",
       "<table border=\"1\" class=\"dataframe\">\n",
       "  <thead>\n",
       "    <tr style=\"text-align: right;\">\n",
       "      <th></th>\n",
       "      <th>DATE</th>\n",
       "      <th>DGS10</th>\n",
       "      <th>price</th>\n",
       "    </tr>\n",
       "    <tr>\n",
       "      <th>DATE</th>\n",
       "      <th></th>\n",
       "      <th></th>\n",
       "      <th></th>\n",
       "    </tr>\n",
       "  </thead>\n",
       "  <tbody>\n",
       "    <tr>\n",
       "      <th>2014-10-03</th>\n",
       "      <td>2014-10-03</td>\n",
       "      <td>2.45</td>\n",
       "      <td>2.45</td>\n",
       "    </tr>\n",
       "    <tr>\n",
       "      <th>2014-10-06</th>\n",
       "      <td>2014-10-06</td>\n",
       "      <td>2.43</td>\n",
       "      <td>2.43</td>\n",
       "    </tr>\n",
       "    <tr>\n",
       "      <th>2014-10-07</th>\n",
       "      <td>2014-10-07</td>\n",
       "      <td>2.36</td>\n",
       "      <td>2.36</td>\n",
       "    </tr>\n",
       "    <tr>\n",
       "      <th>2014-10-08</th>\n",
       "      <td>2014-10-08</td>\n",
       "      <td>2.35</td>\n",
       "      <td>2.35</td>\n",
       "    </tr>\n",
       "    <tr>\n",
       "      <th>2014-10-09</th>\n",
       "      <td>2014-10-09</td>\n",
       "      <td>2.34</td>\n",
       "      <td>2.34</td>\n",
       "    </tr>\n",
       "  </tbody>\n",
       "</table>\n",
       "</div>"
      ],
      "text/plain": [
       "                  DATE DGS10  price\n",
       "DATE                               \n",
       "2014-10-03  2014-10-03  2.45   2.45\n",
       "2014-10-06  2014-10-06  2.43   2.43\n",
       "2014-10-07  2014-10-07  2.36   2.36\n",
       "2014-10-08  2014-10-08  2.35   2.35\n",
       "2014-10-09  2014-10-09  2.34   2.34"
      ]
     },
     "execution_count": 5,
     "metadata": {},
     "output_type": "execute_result"
    }
   ],
   "source": [
    "# Convert exchange rate to a number, with coersion to throw NA's if conversion not possible\n",
    "sp_data['price'] = pd.to_numeric(sp_data.DGS10, errors='coerce')\n",
    "sp_data.index = pd.to_datetime(sp_data.DATE)\n",
    "# Remove NA's\n",
    "sp_data.dropna(inplace=True)\n",
    "sp_data.head()"
   ]
  },
  {
   "cell_type": "code",
   "execution_count": 7,
   "metadata": {},
   "outputs": [
    {
     "data": {
      "image/png": "[encoded data removed]",
      "text/plain": [
       "<Figure size 432x288 with 1 Axes>"
      ]
     },
     "metadata": {
      "needs_background": "light"
     },
     "output_type": "display_data"
    }
   ],
   "source": [
    "sp_data.plot()\n",
    "plt.title('DGS10 Time Series')\n",
    "plt.show()"
   ]
  },
  {
   "cell_type": "code",
   "execution_count": 8,
   "metadata": {},
   "outputs": [
    {
     "data": {
      "image/png": "[encoded data removed]",
      "text/plain": [
       "<Figure size 432x288 with 1 Axes>"
      ]
     },
     "metadata": {
      "needs_background": "light"
     },
     "output_type": "display_data"
    }
   ],
   "source": [
    "sp_data['diff_1'] = sp_data.price - sp_data.price.shift()\n",
    "sp_data.plot(y='diff_1')\n",
    "plt.title('DGS10 Time Series')\n",
    "plt.show()"
   ]
  },
  {
   "cell_type": "code",
   "execution_count": 9,
   "metadata": {},
   "outputs": [
    {
     "data": {
      "text/html": [
       "<div>\n",
       "<style scoped>\n",
       "    .dataframe tbody tr th:only-of-type {\n",
       "        vertical-align: middle;\n",
       "    }\n",
       "\n",
       "    .dataframe tbody tr th {\n",
       "        vertical-align: top;\n",
       "    }\n",
       "\n",
       "    .dataframe thead th {\n",
       "        text-align: right;\n",
       "    }\n",
       "</style>\n",
       "<table border=\"1\" class=\"dataframe\">\n",
       "  <thead>\n",
       "    <tr style=\"text-align: right;\">\n",
       "      <th></th>\n",
       "      <th>DATE</th>\n",
       "      <th>DGS10</th>\n",
       "      <th>price</th>\n",
       "      <th>diff_1</th>\n",
       "    </tr>\n",
       "    <tr>\n",
       "      <th>DATE</th>\n",
       "      <th></th>\n",
       "      <th></th>\n",
       "      <th></th>\n",
       "      <th></th>\n",
       "    </tr>\n",
       "  </thead>\n",
       "  <tbody>\n",
       "    <tr>\n",
       "      <th>2014-10-03</th>\n",
       "      <td>2014-10-03</td>\n",
       "      <td>2.45</td>\n",
       "      <td>2.45</td>\n",
       "      <td>NaN</td>\n",
       "    </tr>\n",
       "    <tr>\n",
       "      <th>2014-10-06</th>\n",
       "      <td>2014-10-06</td>\n",
       "      <td>2.43</td>\n",
       "      <td>2.43</td>\n",
       "      <td>-0.02</td>\n",
       "    </tr>\n",
       "    <tr>\n",
       "      <th>2014-10-07</th>\n",
       "      <td>2014-10-07</td>\n",
       "      <td>2.36</td>\n",
       "      <td>2.36</td>\n",
       "      <td>-0.07</td>\n",
       "    </tr>\n",
       "    <tr>\n",
       "      <th>2014-10-08</th>\n",
       "      <td>2014-10-08</td>\n",
       "      <td>2.35</td>\n",
       "      <td>2.35</td>\n",
       "      <td>-0.01</td>\n",
       "    </tr>\n",
       "    <tr>\n",
       "      <th>2014-10-09</th>\n",
       "      <td>2014-10-09</td>\n",
       "      <td>2.34</td>\n",
       "      <td>2.34</td>\n",
       "      <td>-0.01</td>\n",
       "    </tr>\n",
       "  </tbody>\n",
       "</table>\n",
       "</div>"
      ],
      "text/plain": [
       "                  DATE DGS10  price  diff_1\n",
       "DATE                                       \n",
       "2014-10-03  2014-10-03  2.45   2.45     NaN\n",
       "2014-10-06  2014-10-06  2.43   2.43   -0.02\n",
       "2014-10-07  2014-10-07  2.36   2.36   -0.07\n",
       "2014-10-08  2014-10-08  2.35   2.35   -0.01\n",
       "2014-10-09  2014-10-09  2.34   2.34   -0.01"
      ]
     },
     "execution_count": 9,
     "metadata": {},
     "output_type": "execute_result"
    }
   ],
   "source": [
    "sp_data.head()"
   ]
  },
  {
   "cell_type": "code",
   "execution_count": 10,
   "metadata": {},
   "outputs": [
    {
     "data": {
      "text/plain": [
       "Text(0.5, 1.0, 'DGS10 PACF')"
      ]
     },
     "execution_count": 10,
     "metadata": {},
     "output_type": "execute_result"
    },
    {
     "data": {
      "image/png": "[encoded data removed]",
      "text/plain": [
       "<Figure size 432x288 with 1 Axes>"
      ]
     },
     "metadata": {
      "needs_background": "light"
     },
     "output_type": "display_data"
    }
   ],
   "source": [
    "from statsmodels.tsa.stattools import pacf\n",
    "x_acf = pd.DataFrame(pacf(sp_data.price))\n",
    "x_acf.plot(kind='bar')\n",
    "plt.title(\"DGS10 PACF\")"
   ]
  },
  {
   "cell_type": "code",
   "execution_count": 11,
   "metadata": {},
   "outputs": [
    {
     "data": {
      "text/plain": [
       "<matplotlib.legend.Legend at 0x29bcce7a630>"
      ]
     },
     "execution_count": 11,
     "metadata": {},
     "output_type": "execute_result"
    },
    {
     "data": {
      "image/png": "[encoded data removed]",
      "text/plain": [
       "<Figure size 432x288 with 1 Axes>"
      ]
     },
     "metadata": {
      "needs_background": "light"
     },
     "output_type": "display_data"
    }
   ],
   "source": [
    "x_acf = pd.DataFrame(pacf(sp_data.diff_1[1:]))\n",
    "x_acf.plot(kind='bar')\n",
    "plt.title(\"DGS10 Diff PACF\")\n",
    "plt.legend(['difference'])"
   ]
  },
  {
   "cell_type": "code",
   "execution_count": 12,
   "metadata": {},
   "outputs": [
    {
     "name": "stdout",
     "output_type": "stream",
     "text": [
      "                             ARIMA Model Results                              \n",
      "==============================================================================\n",
      "Dep. Variable:                D.price   No. Observations:                 1250\n",
      "Model:                 ARIMA(0, 1, 0)   Log Likelihood                2165.229\n",
      "Method:                           css   S.D. of innovations              0.043\n",
      "Date:                Tue, 08 Oct 2019   AIC                          -4326.458\n",
      "Time:                        00:02:13   BIC                          -4316.196\n",
      "Sample:                             1   HQIC                         -4322.600\n",
      "                                                                              \n",
      "==============================================================================\n",
      "                 coef    std err          z      P>|z|      [0.025      0.975]\n",
      "------------------------------------------------------------------------------\n",
      "const         -0.0007      0.001     -0.601      0.548      -0.003       0.002\n",
      "==============================================================================\n",
      "Residuals Description\n",
      "count    1.250000e+03\n",
      "mean     7.318600e-10\n",
      "std      4.282122e-02\n",
      "min     -1.692720e-01\n",
      "25%     -2.927200e-02\n",
      "50%      7.280007e-04\n",
      "75%      3.072800e-02\n",
      "max      1.907280e-01\n",
      "dtype: float64\n"
     ]
    },
    {
     "name": "stderr",
     "output_type": "stream",
     "text": [
      "c:\\users\\niranjan\\appdata\\local\\programs\\python\\python37\\lib\\site-packages\\statsmodels\\tsa\\base\\tsa_model.py:225: ValueWarning: A date index has been provided, but it has no associated frequency information and so will be ignored when e.g. forecasting.\n",
      "  ' ignored when e.g. forecasting.', ValueWarning)\n",
      "c:\\users\\niranjan\\appdata\\local\\programs\\python\\python37\\lib\\site-packages\\statsmodels\\tsa\\base\\tsa_model.py:225: ValueWarning: A date index has been provided, but it has no associated frequency information and so will be ignored when e.g. forecasting.\n",
      "  ' ignored when e.g. forecasting.', ValueWarning)\n"
     ]
    }
   ],
   "source": [
    "from statsmodels.tsa.arima_model import ARIMA\n",
    "model = ARIMA(sp_data.price, order=(0,1,0))\n",
    "model_fit = model.fit()\n",
    "print(model_fit.summary())\n",
    "print('Residuals Description')\n",
    "print(model_fit.resid.describe())"
   ]
  },
  {
   "cell_type": "code",
   "execution_count": 13,
   "metadata": {},
   "outputs": [
    {
     "name": "stdout",
     "output_type": "stream",
     "text": [
      "                              ARMA Model Results                              \n",
      "==============================================================================\n",
      "Dep. Variable:                  price   No. Observations:                 1251\n",
      "Model:                     ARMA(1, 0)   Log Likelihood                2165.855\n",
      "Method:                       css-mle   S.D. of innovations              0.043\n",
      "Date:                Tue, 08 Oct 2019   AIC                          -4325.709\n",
      "Time:                        00:10:33   BIC                          -4310.314\n",
      "Sample:                             0   HQIC                         -4319.922\n",
      "                                                                              \n",
      "===============================================================================\n",
      "                  coef    std err          z      P>|z|      [0.025      0.975]\n",
      "-------------------------------------------------------------------------------\n",
      "const           2.2183      0.223      9.968      0.000       1.782       2.654\n",
      "ar.L1.price     0.9953      0.003    377.272      0.000       0.990       1.000\n",
      "                                    Roots                                    \n",
      "=============================================================================\n",
      "                  Real          Imaginary           Modulus         Frequency\n",
      "-----------------------------------------------------------------------------\n",
      "AR.1            1.0048           +0.0000j            1.0048            0.0000\n",
      "-----------------------------------------------------------------------------\n",
      "Residuals Description\n",
      "count    1251.000000\n",
      "mean       -0.000184\n",
      "std         0.043273\n",
      "min        -0.172271\n",
      "25%        -0.028923\n",
      "50%        -0.000277\n",
      "75%         0.028797\n",
      "max         0.231734\n",
      "dtype: float64\n"
     ]
    },
    {
     "name": "stderr",
     "output_type": "stream",
     "text": [
      "c:\\users\\niranjan\\appdata\\local\\programs\\python\\python37\\lib\\site-packages\\statsmodels\\tsa\\base\\tsa_model.py:225: ValueWarning: A date index has been provided, but it has no associated frequency information and so will be ignored when e.g. forecasting.\n",
      "  ' ignored when e.g. forecasting.', ValueWarning)\n"
     ]
    }
   ],
   "source": [
    "model = ARIMA(sp_data.price, order=(1,0,0))\n",
    "model_fit = model.fit()\n",
    "print(model_fit.summary())\n",
    "print('Residuals Description')\n",
    "print(model_fit.resid.describe())"
   ]
  },
  {
   "cell_type": "code",
   "execution_count": 14,
   "metadata": {},
   "outputs": [
    {
     "name": "stderr",
     "output_type": "stream",
     "text": [
      "c:\\users\\niranjan\\appdata\\local\\programs\\python\\python37\\lib\\site-packages\\statsmodels\\tsa\\base\\tsa_model.py:225: ValueWarning: A date index has been provided, but it has no associated frequency information and so will be ignored when e.g. forecasting.\n",
      "  ' ignored when e.g. forecasting.', ValueWarning)\n"
     ]
    },
    {
     "name": "stdout",
     "output_type": "stream",
     "text": [
      "                              ARMA Model Results                              \n",
      "==============================================================================\n",
      "Dep. Variable:                  price   No. Observations:                 1251\n",
      "Model:                     ARMA(1, 1)   Log Likelihood                2167.104\n",
      "Method:                       css-mle   S.D. of innovations              0.043\n",
      "Date:                Tue, 08 Oct 2019   AIC                          -4326.209\n",
      "Time:                        00:11:03   BIC                          -4305.682\n",
      "Sample:                             0   HQIC                         -4318.492\n",
      "                                                                              \n",
      "===============================================================================\n",
      "                  coef    std err          z      P>|z|      [0.025      0.975]\n",
      "-------------------------------------------------------------------------------\n",
      "const           2.2129      0.231      9.562      0.000       1.759       2.667\n",
      "ar.L1.price     0.9957      0.003    396.503      0.000       0.991       1.001\n",
      "ma.L1.price    -0.0441      0.028     -1.586      0.113      -0.099       0.010\n",
      "                                    Roots                                    \n",
      "=============================================================================\n",
      "                  Real          Imaginary           Modulus         Frequency\n",
      "-----------------------------------------------------------------------------\n",
      "AR.1            1.0043           +0.0000j            1.0043            0.0000\n",
      "MA.1           22.6867           +0.0000j           22.6867            0.0000\n",
      "-----------------------------------------------------------------------------\n",
      "Residuals Description\n",
      "count    1251.000000\n",
      "mean       -0.000205\n",
      "std         0.043254\n",
      "min        -0.169974\n",
      "25%        -0.028222\n",
      "50%        -0.000720\n",
      "75%         0.028544\n",
      "max         0.237070\n",
      "dtype: float64\n"
     ]
    }
   ],
   "source": [
    "model = ARIMA(sp_data.price, order=(1,0,1))\n",
    "model_fit = model.fit(disp=0)\n",
    "print(model_fit.summary())\n",
    "print('Residuals Description')\n",
    "print(model_fit.resid.describe())"
   ]
  },
  {
   "cell_type": "code",
   "execution_count": 15,
   "metadata": {},
   "outputs": [
    {
     "name": "stderr",
     "output_type": "stream",
     "text": [
      "c:\\users\\niranjan\\appdata\\local\\programs\\python\\python37\\lib\\site-packages\\statsmodels\\tsa\\base\\tsa_model.py:225: ValueWarning: A date index has been provided, but it has no associated frequency information and so will be ignored when e.g. forecasting.\n",
      "  ' ignored when e.g. forecasting.', ValueWarning)\n",
      "c:\\users\\niranjan\\appdata\\local\\programs\\python\\python37\\lib\\site-packages\\statsmodels\\tsa\\base\\tsa_model.py:225: ValueWarning: A date index has been provided, but it has no associated frequency information and so will be ignored when e.g. forecasting.\n",
      "  ' ignored when e.g. forecasting.', ValueWarning)\n"
     ]
    },
    {
     "name": "stdout",
     "output_type": "stream",
     "text": [
      "                             ARIMA Model Results                              \n",
      "==============================================================================\n",
      "Dep. Variable:                D.price   No. Observations:                 1250\n",
      "Model:                 ARIMA(1, 1, 1)   Log Likelihood                2166.706\n",
      "Method:                       css-mle   S.D. of innovations              0.043\n",
      "Date:                Tue, 08 Oct 2019   AIC                          -4325.412\n",
      "Time:                        00:11:35   BIC                          -4304.889\n",
      "Sample:                             1   HQIC                         -4317.697\n",
      "                                                                              \n",
      "=================================================================================\n",
      "                    coef    std err          z      P>|z|      [0.025      0.975]\n",
      "---------------------------------------------------------------------------------\n",
      "const            -0.0007      0.001     -0.627      0.531      -0.003       0.002\n",
      "ar.L1.D.price    -0.1383      0.360     -0.384      0.701      -0.844       0.567\n",
      "ma.L1.D.price     0.0901      0.361      0.249      0.803      -0.618       0.798\n",
      "                                    Roots                                    \n",
      "=============================================================================\n",
      "                  Real          Imaginary           Modulus         Frequency\n",
      "-----------------------------------------------------------------------------\n",
      "AR.1           -7.2298           +0.0000j            7.2298            0.5000\n",
      "MA.1          -11.0958           +0.0000j           11.0958            0.5000\n",
      "-----------------------------------------------------------------------------\n",
      "Residuals Description\n",
      "count    1.250000e+03\n",
      "mean    -4.634904e-07\n",
      "std      4.277061e-02\n",
      "min     -1.667317e-01\n",
      "25%     -2.880829e-02\n",
      "50%     -5.176797e-04\n",
      "75%      2.935269e-02\n",
      "max      1.929815e-01\n",
      "dtype: float64\n"
     ]
    }
   ],
   "source": [
    "model_111 = ARIMA(sp_data.price, order=(1,1,1))\n",
    "model_111_fit = model_111.fit()\n",
    "print(model_111_fit.summary())\n",
    "print('Residuals Description')\n",
    "print(model_111_fit.resid.describe())"
   ]
  },
  {
   "cell_type": "code",
   "execution_count": 18,
   "metadata": {},
   "outputs": [
    {
     "name": "stderr",
     "output_type": "stream",
     "text": [
      "c:\\users\\niranjan\\appdata\\local\\programs\\python\\python37\\lib\\site-packages\\statsmodels\\tsa\\base\\tsa_model.py:225: ValueWarning: A date index has been provided, but it has no associated frequency information and so will be ignored when e.g. forecasting.\n",
      "  ' ignored when e.g. forecasting.', ValueWarning)\n"
     ]
    },
    {
     "name": "stdout",
     "output_type": "stream",
     "text": [
      "                              ARMA Model Results                              \n",
      "==============================================================================\n",
      "Dep. Variable:                  price   No. Observations:                 1251\n",
      "Model:                     ARMA(2, 2)   Log Likelihood                2167.990\n",
      "Method:                       css-mle   S.D. of innovations              0.043\n",
      "Date:                Tue, 08 Oct 2019   AIC                          -4323.979\n",
      "Time:                        00:13:01   BIC                          -4293.189\n",
      "Sample:                             0   HQIC                         -4312.405\n",
      "                                                                              \n",
      "===============================================================================\n",
      "                  coef    std err          z      P>|z|      [0.025      0.975]\n",
      "-------------------------------------------------------------------------------\n",
      "const           2.2202      0.220     10.096      0.000       1.789       2.651\n",
      "ar.L1.price     1.5040      0.298      5.055      0.000       0.921       2.087\n",
      "ar.L2.price    -0.5065      0.296     -1.710      0.088      -1.087       0.074\n",
      "ma.L1.price    -0.5560      0.297     -1.872      0.061      -1.138       0.026\n",
      "ma.L2.price     0.0574      0.031      1.878      0.061      -0.003       0.117\n",
      "                                    Roots                                    \n",
      "=============================================================================\n",
      "                  Real          Imaginary           Modulus         Frequency\n",
      "-----------------------------------------------------------------------------\n",
      "AR.1            1.0049           +0.0000j            1.0049            0.0000\n",
      "AR.2            1.9648           +0.0000j            1.9648            0.0000\n",
      "MA.1            2.3863           +0.0000j            2.3863            0.0000\n",
      "MA.2            7.3038           +0.0000j            7.3038            0.0000\n",
      "-----------------------------------------------------------------------------\n",
      "Residuals Description\n",
      "count    1251.000000\n",
      "mean       -0.000180\n",
      "std         0.043193\n",
      "min        -0.170731\n",
      "25%        -0.027988\n",
      "50%        -0.001083\n",
      "75%         0.027575\n",
      "max         0.229759\n",
      "dtype: float64\n"
     ]
    }
   ],
   "source": [
    "model = ARIMA(sp_data.price, order=(2,0,2))\n",
    "model_fit = model.fit()\n",
    "print(model_fit.summary())\n",
    "print('Residuals Description')\n",
    "print(model_fit.resid.describe())"
   ]
  },
  {
   "cell_type": "code",
   "execution_count": null,
   "metadata": {},
   "outputs": [],
   "source": []
  }
 ],
 "metadata": {
  "kernelspec": {
   "display_name": "Python 3",
   "language": "python",
   "name": "python3"
  },
  "language_info": {
   "codemirror_mode": {
    "name": "ipython",
    "version": 3
   },
   "file_extension": ".py",
   "mimetype": "text/x-python",
   "name": "python",
   "nbconvert_exporter": "python",
   "pygments_lexer": "ipython3",
   "version": "3.7.2"
  }
 },
 "nbformat": 4,
 "nbformat_minor": 2
}
