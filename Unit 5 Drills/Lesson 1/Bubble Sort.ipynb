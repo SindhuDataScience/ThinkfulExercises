{
 "cells": [
  {
   "cell_type": "code",
   "execution_count": 1,
   "metadata": {},
   "outputs": [],
   "source": [
    "import time\n",
    "import random"
   ]
  },
  {
   "cell_type": "code",
   "execution_count": 2,
   "metadata": {},
   "outputs": [
    {
     "name": "stdout",
     "output_type": "stream",
     "text": [
      "[152745, 481850, 477025, 997948, 808225, 183236, 739784, 412125, 767514, 366725]\n"
     ]
    }
   ],
   "source": [
    "random.seed(a=100)\n",
    "short_list = list(random.sample(range(1000000), 10))\n",
    "print(short_list)"
   ]
  },
  {
   "cell_type": "code",
   "execution_count": 15,
   "metadata": {},
   "outputs": [],
   "source": [
    "#Bubble Sort\n",
    "def bubble_sort(lst):\n",
    "    for i in range(len(lst)):\n",
    "        j = 0\n",
    "        k = len(lst) - i\n",
    "        while j < k-1:\n",
    "            print('j element:{}, j+1 element:{}'.format(lst[j], lst[j+1]))\n",
    "            if lst[j] > lst[j+1]:\n",
    "                lst[j], lst[j+1] = lst[j+1], lst[j]\n",
    "            j = j + 1\n",
    "    return lst  "
   ]
  },
  {
   "cell_type": "code",
   "execution_count": 16,
   "metadata": {},
   "outputs": [
    {
     "name": "stdout",
     "output_type": "stream",
     "text": [
      "j element:152745, j+1 element:477025\n",
      "j element:477025, j+1 element:481850\n",
      "j element:481850, j+1 element:183236\n",
      "j element:481850, j+1 element:739784\n",
      "j element:739784, j+1 element:412125\n",
      "j element:739784, j+1 element:767514\n",
      "j element:767514, j+1 element:366725\n",
      "j element:767514, j+1 element:808225\n",
      "j element:808225, j+1 element:997948\n",
      "j element:152745, j+1 element:477025\n",
      "j element:477025, j+1 element:183236\n",
      "j element:477025, j+1 element:481850\n",
      "j element:481850, j+1 element:412125\n",
      "j element:481850, j+1 element:739784\n",
      "j element:739784, j+1 element:366725\n",
      "j element:739784, j+1 element:767514\n",
      "j element:767514, j+1 element:808225\n",
      "j element:152745, j+1 element:183236\n",
      "j element:183236, j+1 element:477025\n",
      "j element:477025, j+1 element:412125\n",
      "j element:477025, j+1 element:481850\n",
      "j element:481850, j+1 element:366725\n",
      "j element:481850, j+1 element:739784\n",
      "j element:739784, j+1 element:767514\n",
      "j element:152745, j+1 element:183236\n",
      "j element:183236, j+1 element:412125\n",
      "j element:412125, j+1 element:477025\n",
      "j element:477025, j+1 element:366725\n",
      "j element:477025, j+1 element:481850\n",
      "j element:481850, j+1 element:739784\n",
      "j element:152745, j+1 element:183236\n",
      "j element:183236, j+1 element:412125\n",
      "j element:412125, j+1 element:366725\n",
      "j element:412125, j+1 element:477025\n",
      "j element:477025, j+1 element:481850\n",
      "j element:152745, j+1 element:183236\n",
      "j element:183236, j+1 element:366725\n",
      "j element:366725, j+1 element:412125\n",
      "j element:412125, j+1 element:477025\n",
      "j element:152745, j+1 element:183236\n",
      "j element:183236, j+1 element:366725\n",
      "j element:366725, j+1 element:412125\n",
      "j element:152745, j+1 element:183236\n",
      "j element:183236, j+1 element:366725\n",
      "j element:152745, j+1 element:183236\n",
      "[152745, 183236, 366725, 412125, 477025, 481850, 739784, 767514, 808225, 997948]\n"
     ]
    }
   ],
   "source": [
    "print(bubble_sort(short_list))"
   ]
  },
  {
   "cell_type": "code",
   "execution_count": null,
   "metadata": {},
   "outputs": [],
   "source": []
  }
 ],
 "metadata": {
  "kernelspec": {
   "display_name": "Python 3",
   "language": "python",
   "name": "python3"
  },
  "language_info": {
   "codemirror_mode": {
    "name": "ipython",
    "version": 3
   },
   "file_extension": ".py",
   "mimetype": "text/x-python",
   "name": "python",
   "nbconvert_exporter": "python",
   "pygments_lexer": "ipython3",
   "version": "3.7.2"
  }
 },
 "nbformat": 4,
 "nbformat_minor": 2
}
