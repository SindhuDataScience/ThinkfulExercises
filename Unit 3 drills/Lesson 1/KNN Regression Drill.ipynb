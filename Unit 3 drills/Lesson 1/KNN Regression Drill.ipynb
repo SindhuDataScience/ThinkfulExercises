{
 "cells": [
  {
   "cell_type": "code",
   "execution_count": 1,
   "metadata": {},
   "outputs": [],
   "source": [
    "import pandas as pd\n",
    "import numpy as np\n",
    "import scipy\n",
    "import matplotlib.pyplot as plt\n",
    "%matplotlib inline\n",
    "\n",
    "music = pd.DataFrame()\n",
    "music['duration'] = [184, 134, 243, 186, 122, 197, 294, 382, 102, 264, \n",
    "                     205, 110, 307, 110, 397, 153, 190, 192, 210, 403,\n",
    "                     164, 198, 204, 253, 234, 190, 182, 401, 376, 102]\n",
    "music['loudness'] = [18, 34, 43, 36, 22, 9, 29, 22, 10, 24, \n",
    "                     20, 10, 17, 51, 7, 13, 19, 12, 21, 22,\n",
    "                     16, 18, 4, 23, 34, 19, 14, 11, 37, 42]\n",
    "music['bpm'] = [ 105, 90, 78, 75, 120, 110, 80, 100, 105, 60,\n",
    "                  70, 105, 95, 70, 90, 105, 70, 75, 102, 100,\n",
    "                  100, 95, 90, 80, 90, 80, 100, 105, 70, 65]"
   ]
  },
  {
   "cell_type": "code",
   "execution_count": 32,
   "metadata": {
    "scrolled": true
   },
   "outputs": [
    {
     "name": "stdout",
     "output_type": "stream",
     "text": [
      "[96.5 96.5 96.5 96.5 96.5 95.  91.  91.5 88.  88.2 89.7 88.7 86.  85.\n",
      " 85.  85.5 84.  84.  84.  81.5 82.5 84.8 85.8 85.8 85.8 85.8 85.8 85.8\n",
      " 85.8 85.8 85.8 85.8 85.8 85.8 85.8 85.8 85.8 85.8 85.8 85.8] [102.45580339 103.64573671 101.93532999 100.96605221  99.88441602\n",
      " 100.1785239   96.35796961  93.98611699  92.21205818  75.\n",
      "  88.22378359 102.          87.8322814   85.8400655   83.72863092\n",
      "  80.63330983  74.2044783   75.37092654  79.84895719  80.56989873\n",
      "  82.32289822  84.90982496  85.78034914  86.07837361  86.40866394\n",
      "  86.56901312  86.02631314  82.3326821   81.24226492  88.73554542\n",
      "  90.94104587  91.49681306  91.29925828  90.90632048  90.50501219\n",
      "  90.14084299  89.82053818  89.54065699  89.2956265   89.08003659]\n"
     ]
    }
   ],
   "source": [
    "from sklearn import neighbors\n",
    "\n",
    "# Build our model.\n",
    "knn = neighbors.KNeighborsRegressor(n_neighbors=10)\n",
    "X = music[['loudness', 'duration']]\n",
    "Y = music.bpm\n",
    "knn.fit(X, Y)\n",
    "\n",
    "# Set up our prediction line.\n",
    "#,np.arange(100, 450, 7)[:, np.newaxis]\n",
    "#T = pd.DataFrame(np.arange(0, 50, 1),np.arange(100, 500, 1))\n",
    "T = pd.DataFrame({\n",
    "    'loudness': np.arange(10, 50, 1),\n",
    "    'duration': np.arange(100, 500, 10)\n",
    "})\n",
    "\n",
    "# Trailing underscores are a common convention for a prediction.\n",
    "Y_KNN = knn.predict(T)\n",
    "\n",
    "knn_w = neighbors.KNeighborsRegressor(n_neighbors=10, weights='distance')\n",
    "knn_w.fit(X, Y)\n",
    "Y_KNNW = knn_w.predict(T)\n",
    "print(Y_KNN,Y_KNNW)\n"
   ]
  },
  {
   "cell_type": "code",
   "execution_count": 36,
   "metadata": {},
   "outputs": [
    {
     "name": "stdout",
     "output_type": "stream",
     "text": [
      "Unweighted Accuracy: -0.42 (+/- 0.78)\n",
      "Weighted Accuracy: -0.26 (+/- 0.74)\n"
     ]
    }
   ],
   "source": [
    "from sklearn.model_selection import cross_val_score\n",
    "score = cross_val_score(knn, X, Y, cv=5)\n",
    "print(\"Unweighted Accuracy: %0.2f (+/- %0.2f)\" % (score.mean(), score.std() * 2))\n",
    "score_w = cross_val_score(knn_w, X, Y, cv=5)\n",
    "print(\"Weighted Accuracy: %0.2f (+/- %0.2f)\" % (score_w.mean(), score_w.std() * 2))"
   ]
  },
  {
   "cell_type": "code",
   "execution_count": 37,
   "metadata": {},
   "outputs": [
    {
     "name": "stdout",
     "output_type": "stream",
     "text": [
      "[-0.19955242  0.02166018 -0.45898521 -1.12653237 -0.33925385]\n",
      "[-0.19928589  0.11602916 -0.03725669 -0.96209236 -0.24160284]\n"
     ]
    }
   ],
   "source": [
    "print(score)\n",
    "print(score_w)"
   ]
  },
  {
   "cell_type": "code",
   "execution_count": null,
   "metadata": {},
   "outputs": [],
   "source": []
  }
 ],
 "metadata": {
  "kernelspec": {
   "display_name": "Python 3",
   "language": "python",
   "name": "python3"
  },
  "language_info": {
   "codemirror_mode": {
    "name": "ipython",
    "version": 3
   },
   "file_extension": ".py",
   "mimetype": "text/x-python",
   "name": "python",
   "nbconvert_exporter": "python",
   "pygments_lexer": "ipython3",
   "version": "3.7.2"
  }
 },
 "nbformat": 4,
 "nbformat_minor": 2
}
