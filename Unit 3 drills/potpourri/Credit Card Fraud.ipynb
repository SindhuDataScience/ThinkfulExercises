{
 "cells": [
  {
   "cell_type": "code",
   "execution_count": 1,
   "metadata": {},
   "outputs": [],
   "source": [
    "import pandas as pd\n",
    "import numpy as np\n",
    "import scipy\n",
    "import matplotlib.pyplot as plt\n",
    "%matplotlib inline\n",
    "import seaborn as sns\n",
    "import sklearn"
   ]
  },
  {
   "cell_type": "code",
   "execution_count": 2,
   "metadata": {},
   "outputs": [
    {
     "data": {
      "text/html": [
       "<div>\n",
       "<style scoped>\n",
       "    .dataframe tbody tr th:only-of-type {\n",
       "        vertical-align: middle;\n",
       "    }\n",
       "\n",
       "    .dataframe tbody tr th {\n",
       "        vertical-align: top;\n",
       "    }\n",
       "\n",
       "    .dataframe thead th {\n",
       "        text-align: right;\n",
       "    }\n",
       "</style>\n",
       "<table border=\"1\" class=\"dataframe\">\n",
       "  <thead>\n",
       "    <tr style=\"text-align: right;\">\n",
       "      <th></th>\n",
       "      <th>Time</th>\n",
       "      <th>V1</th>\n",
       "      <th>V2</th>\n",
       "      <th>V3</th>\n",
       "      <th>V4</th>\n",
       "      <th>V5</th>\n",
       "      <th>V6</th>\n",
       "      <th>V7</th>\n",
       "      <th>V8</th>\n",
       "      <th>V9</th>\n",
       "      <th>...</th>\n",
       "      <th>V21</th>\n",
       "      <th>V22</th>\n",
       "      <th>V23</th>\n",
       "      <th>V24</th>\n",
       "      <th>V25</th>\n",
       "      <th>V26</th>\n",
       "      <th>V27</th>\n",
       "      <th>V28</th>\n",
       "      <th>Amount</th>\n",
       "      <th>Class</th>\n",
       "    </tr>\n",
       "  </thead>\n",
       "  <tbody>\n",
       "    <tr>\n",
       "      <th>0</th>\n",
       "      <td>0.0</td>\n",
       "      <td>-1.359807</td>\n",
       "      <td>-0.072781</td>\n",
       "      <td>2.536347</td>\n",
       "      <td>1.378155</td>\n",
       "      <td>-0.338321</td>\n",
       "      <td>0.462388</td>\n",
       "      <td>0.239599</td>\n",
       "      <td>0.098698</td>\n",
       "      <td>0.363787</td>\n",
       "      <td>...</td>\n",
       "      <td>-0.018307</td>\n",
       "      <td>0.277838</td>\n",
       "      <td>-0.110474</td>\n",
       "      <td>0.066928</td>\n",
       "      <td>0.128539</td>\n",
       "      <td>-0.189115</td>\n",
       "      <td>0.133558</td>\n",
       "      <td>-0.021053</td>\n",
       "      <td>149.62</td>\n",
       "      <td>0</td>\n",
       "    </tr>\n",
       "    <tr>\n",
       "      <th>1</th>\n",
       "      <td>0.0</td>\n",
       "      <td>1.191857</td>\n",
       "      <td>0.266151</td>\n",
       "      <td>0.166480</td>\n",
       "      <td>0.448154</td>\n",
       "      <td>0.060018</td>\n",
       "      <td>-0.082361</td>\n",
       "      <td>-0.078803</td>\n",
       "      <td>0.085102</td>\n",
       "      <td>-0.255425</td>\n",
       "      <td>...</td>\n",
       "      <td>-0.225775</td>\n",
       "      <td>-0.638672</td>\n",
       "      <td>0.101288</td>\n",
       "      <td>-0.339846</td>\n",
       "      <td>0.167170</td>\n",
       "      <td>0.125895</td>\n",
       "      <td>-0.008983</td>\n",
       "      <td>0.014724</td>\n",
       "      <td>2.69</td>\n",
       "      <td>0</td>\n",
       "    </tr>\n",
       "    <tr>\n",
       "      <th>2</th>\n",
       "      <td>1.0</td>\n",
       "      <td>-1.358354</td>\n",
       "      <td>-1.340163</td>\n",
       "      <td>1.773209</td>\n",
       "      <td>0.379780</td>\n",
       "      <td>-0.503198</td>\n",
       "      <td>1.800499</td>\n",
       "      <td>0.791461</td>\n",
       "      <td>0.247676</td>\n",
       "      <td>-1.514654</td>\n",
       "      <td>...</td>\n",
       "      <td>0.247998</td>\n",
       "      <td>0.771679</td>\n",
       "      <td>0.909412</td>\n",
       "      <td>-0.689281</td>\n",
       "      <td>-0.327642</td>\n",
       "      <td>-0.139097</td>\n",
       "      <td>-0.055353</td>\n",
       "      <td>-0.059752</td>\n",
       "      <td>378.66</td>\n",
       "      <td>0</td>\n",
       "    </tr>\n",
       "    <tr>\n",
       "      <th>3</th>\n",
       "      <td>1.0</td>\n",
       "      <td>-0.966272</td>\n",
       "      <td>-0.185226</td>\n",
       "      <td>1.792993</td>\n",
       "      <td>-0.863291</td>\n",
       "      <td>-0.010309</td>\n",
       "      <td>1.247203</td>\n",
       "      <td>0.237609</td>\n",
       "      <td>0.377436</td>\n",
       "      <td>-1.387024</td>\n",
       "      <td>...</td>\n",
       "      <td>-0.108300</td>\n",
       "      <td>0.005274</td>\n",
       "      <td>-0.190321</td>\n",
       "      <td>-1.175575</td>\n",
       "      <td>0.647376</td>\n",
       "      <td>-0.221929</td>\n",
       "      <td>0.062723</td>\n",
       "      <td>0.061458</td>\n",
       "      <td>123.50</td>\n",
       "      <td>0</td>\n",
       "    </tr>\n",
       "    <tr>\n",
       "      <th>4</th>\n",
       "      <td>2.0</td>\n",
       "      <td>-1.158233</td>\n",
       "      <td>0.877737</td>\n",
       "      <td>1.548718</td>\n",
       "      <td>0.403034</td>\n",
       "      <td>-0.407193</td>\n",
       "      <td>0.095921</td>\n",
       "      <td>0.592941</td>\n",
       "      <td>-0.270533</td>\n",
       "      <td>0.817739</td>\n",
       "      <td>...</td>\n",
       "      <td>-0.009431</td>\n",
       "      <td>0.798278</td>\n",
       "      <td>-0.137458</td>\n",
       "      <td>0.141267</td>\n",
       "      <td>-0.206010</td>\n",
       "      <td>0.502292</td>\n",
       "      <td>0.219422</td>\n",
       "      <td>0.215153</td>\n",
       "      <td>69.99</td>\n",
       "      <td>0</td>\n",
       "    </tr>\n",
       "  </tbody>\n",
       "</table>\n",
       "<p>5 rows × 31 columns</p>\n",
       "</div>"
      ],
      "text/plain": [
       "   Time        V1        V2        V3        V4        V5        V6        V7  \\\n",
       "0   0.0 -1.359807 -0.072781  2.536347  1.378155 -0.338321  0.462388  0.239599   \n",
       "1   0.0  1.191857  0.266151  0.166480  0.448154  0.060018 -0.082361 -0.078803   \n",
       "2   1.0 -1.358354 -1.340163  1.773209  0.379780 -0.503198  1.800499  0.791461   \n",
       "3   1.0 -0.966272 -0.185226  1.792993 -0.863291 -0.010309  1.247203  0.237609   \n",
       "4   2.0 -1.158233  0.877737  1.548718  0.403034 -0.407193  0.095921  0.592941   \n",
       "\n",
       "         V8        V9  ...       V21       V22       V23       V24       V25  \\\n",
       "0  0.098698  0.363787  ... -0.018307  0.277838 -0.110474  0.066928  0.128539   \n",
       "1  0.085102 -0.255425  ... -0.225775 -0.638672  0.101288 -0.339846  0.167170   \n",
       "2  0.247676 -1.514654  ...  0.247998  0.771679  0.909412 -0.689281 -0.327642   \n",
       "3  0.377436 -1.387024  ... -0.108300  0.005274 -0.190321 -1.175575  0.647376   \n",
       "4 -0.270533  0.817739  ... -0.009431  0.798278 -0.137458  0.141267 -0.206010   \n",
       "\n",
       "        V26       V27       V28  Amount  Class  \n",
       "0 -0.189115  0.133558 -0.021053  149.62      0  \n",
       "1  0.125895 -0.008983  0.014724    2.69      0  \n",
       "2 -0.139097 -0.055353 -0.059752  378.66      0  \n",
       "3 -0.221929  0.062723  0.061458  123.50      0  \n",
       "4  0.502292  0.219422  0.215153   69.99      0  \n",
       "\n",
       "[5 rows x 31 columns]"
      ]
     },
     "execution_count": 2,
     "metadata": {},
     "output_type": "execute_result"
    }
   ],
   "source": [
    "df = pd.read_csv(r\"C:\\Users\\Niranjan\\Desktop\\Data Science\\datasets\\Supervised learning potpourri\\creditcardfraud.csv\")\n",
    "df.head(5)"
   ]
  },
  {
   "cell_type": "code",
   "execution_count": 3,
   "metadata": {},
   "outputs": [
    {
     "data": {
      "text/plain": [
       "0"
      ]
     },
     "execution_count": 3,
     "metadata": {},
     "output_type": "execute_result"
    }
   ],
   "source": [
    "df.isnull().sum().sum()"
   ]
  },
  {
   "cell_type": "code",
   "execution_count": 4,
   "metadata": {},
   "outputs": [
    {
     "name": "stdout",
     "output_type": "stream",
     "text": [
      "[[ 0.00000000e+00 -1.35980713e+00 -7.27811733e-02 ... -2.10530535e-02\n",
      "   1.49620000e+02  0.00000000e+00]\n",
      " [ 0.00000000e+00  1.19185711e+00  2.66150712e-01 ...  1.47241692e-02\n",
      "   2.69000000e+00  0.00000000e+00]\n",
      " [ 1.00000000e+00 -1.35835406e+00 -1.34016307e+00 ... -5.97518406e-02\n",
      "   3.78660000e+02  0.00000000e+00]\n",
      " ...\n",
      " [ 1.72788000e+05  1.91956501e+00 -3.01253846e-01 ... -2.65608286e-02\n",
      "   6.78800000e+01  0.00000000e+00]\n",
      " [ 1.72788000e+05 -2.40440050e-01  5.30482513e-01 ...  1.04532821e-01\n",
      "   1.00000000e+01  0.00000000e+00]\n",
      " [ 1.72792000e+05 -5.33412522e-01 -1.89733337e-01 ...  1.36489143e-02\n",
      "   2.17000000e+02  0.00000000e+00]]\n"
     ]
    },
    {
     "data": {
      "text/plain": [
       "numpy.ndarray"
      ]
     },
     "execution_count": 4,
     "metadata": {},
     "output_type": "execute_result"
    }
   ],
   "source": [
    "from sklearn.feature_selection import SelectKBest\n",
    "from sklearn.feature_selection import f_classif\n",
    "# load data\n",
    "array = df.values\n",
    "print(array)\n",
    "type(array)"
   ]
  },
  {
   "cell_type": "code",
   "execution_count": 5,
   "metadata": {},
   "outputs": [
    {
     "name": "stdout",
     "output_type": "stream",
     "text": [
      "[4.325e+01 2.956e+03 2.393e+03 1.101e+04 5.164e+03 2.592e+03 5.435e+02\n",
      " 1.035e+04 1.125e+02 2.747e+03 1.406e+04 6.999e+03 2.075e+04 5.948e+00\n",
      " 2.870e+04 5.080e+00 1.144e+04 3.398e+04 3.584e+03 3.450e+02 1.150e+02\n",
      " 4.659e+02 1.847e-01 2.053e+00 1.485e+01 3.116e+00 5.654e+00 8.805e+01\n",
      " 2.590e+01 9.033e+00]\n",
      "[[ 2.536  1.378  0.24   0.091 -0.552 -0.618 -0.311 -0.47   0.208  0.026]\n",
      " [ 0.166  0.448 -0.079 -0.167  1.613  1.065 -0.144  0.464 -0.115 -0.183]\n",
      " [ 1.773  0.38   0.791  0.208  0.625  0.066 -0.166 -2.89   1.11  -0.121]\n",
      " [ 1.793 -0.863  0.238 -0.055 -0.226  0.178 -0.288 -1.06  -0.684  1.966]\n",
      " [ 1.549  0.403  0.593  0.753 -0.823  0.538 -1.12  -0.451 -0.237 -0.038]]\n"
     ]
    }
   ],
   "source": [
    "X = array[:,0:30]\n",
    "Y = array[:,30]\n",
    "# feature extraction\n",
    "test = SelectKBest(score_func=f_classif, k=10)\n",
    "fit = test.fit(X, Y)\n",
    "# summarize scores\n",
    "np.set_printoptions(precision=3)\n",
    "print(fit.scores_)\n",
    "features = fit.transform(X)\n",
    "# summarize selected features\n",
    "print(features[0:5,:])"
   ]
  },
  {
   "cell_type": "code",
   "execution_count": 6,
   "metadata": {},
   "outputs": [
    {
     "data": {
      "text/plain": [
       "array([[ 2.536,  1.378,  0.24 , ..., -0.47 ,  0.208,  0.026],\n",
       "       [ 0.166,  0.448, -0.079, ...,  0.464, -0.115, -0.183],\n",
       "       [ 1.773,  0.38 ,  0.791, ..., -2.89 ,  1.11 , -0.121],\n",
       "       ...,\n",
       "       [-3.25 , -0.558, -0.297, ...,  0.141,  0.314,  0.396],\n",
       "       [ 0.703,  0.69 , -0.686, ..., -0.609,  0.51 ,  1.114],\n",
       "       [ 0.703, -0.506,  1.577, ..., -0.303, -0.66 ,  0.167]])"
      ]
     },
     "execution_count": 6,
     "metadata": {},
     "output_type": "execute_result"
    }
   ],
   "source": [
    "features"
   ]
  },
  {
   "cell_type": "code",
   "execution_count": 7,
   "metadata": {},
   "outputs": [
    {
     "data": {
      "text/plain": [
       "array([ 3,  4,  7, 10, 11, 12, 14, 16, 17, 18, 30], dtype=int64)"
      ]
     },
     "execution_count": 7,
     "metadata": {},
     "output_type": "execute_result"
    }
   ],
   "source": [
    "cols = fit.get_support(indices=True)\n",
    "cols = np.append(cols, 30)\n",
    "cols"
   ]
  },
  {
   "cell_type": "code",
   "execution_count": 8,
   "metadata": {},
   "outputs": [],
   "source": [
    "df_new =  df.columns[cols]\n"
   ]
  },
  {
   "cell_type": "code",
   "execution_count": 9,
   "metadata": {},
   "outputs": [
    {
     "data": {
      "text/plain": [
       "pandas.core.indexes.base.Index"
      ]
     },
     "execution_count": 9,
     "metadata": {},
     "output_type": "execute_result"
    }
   ],
   "source": [
    "type(df_new)"
   ]
  },
  {
   "cell_type": "code",
   "execution_count": 10,
   "metadata": {},
   "outputs": [
    {
     "data": {
      "text/html": [
       "<div>\n",
       "<style scoped>\n",
       "    .dataframe tbody tr th:only-of-type {\n",
       "        vertical-align: middle;\n",
       "    }\n",
       "\n",
       "    .dataframe tbody tr th {\n",
       "        vertical-align: top;\n",
       "    }\n",
       "\n",
       "    .dataframe thead th {\n",
       "        text-align: right;\n",
       "    }\n",
       "</style>\n",
       "<table border=\"1\" class=\"dataframe\">\n",
       "  <thead>\n",
       "    <tr style=\"text-align: right;\">\n",
       "      <th></th>\n",
       "      <th>V3</th>\n",
       "      <th>V4</th>\n",
       "      <th>V7</th>\n",
       "      <th>V10</th>\n",
       "      <th>V11</th>\n",
       "      <th>V12</th>\n",
       "      <th>V14</th>\n",
       "      <th>V16</th>\n",
       "      <th>V17</th>\n",
       "      <th>V18</th>\n",
       "      <th>Class</th>\n",
       "    </tr>\n",
       "  </thead>\n",
       "  <tbody>\n",
       "    <tr>\n",
       "      <th>0</th>\n",
       "      <td>2.536347</td>\n",
       "      <td>1.378155</td>\n",
       "      <td>0.239599</td>\n",
       "      <td>0.090794</td>\n",
       "      <td>-0.551600</td>\n",
       "      <td>-0.617801</td>\n",
       "      <td>-0.311169</td>\n",
       "      <td>-0.470401</td>\n",
       "      <td>0.207971</td>\n",
       "      <td>0.025791</td>\n",
       "      <td>0</td>\n",
       "    </tr>\n",
       "    <tr>\n",
       "      <th>1</th>\n",
       "      <td>0.166480</td>\n",
       "      <td>0.448154</td>\n",
       "      <td>-0.078803</td>\n",
       "      <td>-0.166974</td>\n",
       "      <td>1.612727</td>\n",
       "      <td>1.065235</td>\n",
       "      <td>-0.143772</td>\n",
       "      <td>0.463917</td>\n",
       "      <td>-0.114805</td>\n",
       "      <td>-0.183361</td>\n",
       "      <td>0</td>\n",
       "    </tr>\n",
       "    <tr>\n",
       "      <th>2</th>\n",
       "      <td>1.773209</td>\n",
       "      <td>0.379780</td>\n",
       "      <td>0.791461</td>\n",
       "      <td>0.207643</td>\n",
       "      <td>0.624501</td>\n",
       "      <td>0.066084</td>\n",
       "      <td>-0.165946</td>\n",
       "      <td>-2.890083</td>\n",
       "      <td>1.109969</td>\n",
       "      <td>-0.121359</td>\n",
       "      <td>0</td>\n",
       "    </tr>\n",
       "    <tr>\n",
       "      <th>3</th>\n",
       "      <td>1.792993</td>\n",
       "      <td>-0.863291</td>\n",
       "      <td>0.237609</td>\n",
       "      <td>-0.054952</td>\n",
       "      <td>-0.226487</td>\n",
       "      <td>0.178228</td>\n",
       "      <td>-0.287924</td>\n",
       "      <td>-1.059647</td>\n",
       "      <td>-0.684093</td>\n",
       "      <td>1.965775</td>\n",
       "      <td>0</td>\n",
       "    </tr>\n",
       "    <tr>\n",
       "      <th>4</th>\n",
       "      <td>1.548718</td>\n",
       "      <td>0.403034</td>\n",
       "      <td>0.592941</td>\n",
       "      <td>0.753074</td>\n",
       "      <td>-0.822843</td>\n",
       "      <td>0.538196</td>\n",
       "      <td>-1.119670</td>\n",
       "      <td>-0.451449</td>\n",
       "      <td>-0.237033</td>\n",
       "      <td>-0.038195</td>\n",
       "      <td>0</td>\n",
       "    </tr>\n",
       "  </tbody>\n",
       "</table>\n",
       "</div>"
      ],
      "text/plain": [
       "         V3        V4        V7       V10       V11       V12       V14  \\\n",
       "0  2.536347  1.378155  0.239599  0.090794 -0.551600 -0.617801 -0.311169   \n",
       "1  0.166480  0.448154 -0.078803 -0.166974  1.612727  1.065235 -0.143772   \n",
       "2  1.773209  0.379780  0.791461  0.207643  0.624501  0.066084 -0.165946   \n",
       "3  1.792993 -0.863291  0.237609 -0.054952 -0.226487  0.178228 -0.287924   \n",
       "4  1.548718  0.403034  0.592941  0.753074 -0.822843  0.538196 -1.119670   \n",
       "\n",
       "        V16       V17       V18  Class  \n",
       "0 -0.470401  0.207971  0.025791      0  \n",
       "1  0.463917 -0.114805 -0.183361      0  \n",
       "2 -2.890083  1.109969 -0.121359      0  \n",
       "3 -1.059647 -0.684093  1.965775      0  \n",
       "4 -0.451449 -0.237033 -0.038195      0  "
      ]
     },
     "execution_count": 10,
     "metadata": {},
     "output_type": "execute_result"
    }
   ],
   "source": [
    "df_selectedfeatures = df[df_new]\n",
    "df_selectedfeatures.head(5)"
   ]
  },
  {
   "cell_type": "code",
   "execution_count": 11,
   "metadata": {},
   "outputs": [],
   "source": [
    "from sklearn.naive_bayes import BernoulliNB\n",
    "\n",
    "# Instantiate our model and store it in a new variable.\n",
    "bnb = BernoulliNB()\n",
    "\n",
    "# Fit our model to the data.\n",
    "X = df.loc[:, ~df.columns.isin(['Class'])]\n",
    "Y = df['Class']\n",
    "bnb.fit(X, Y)\n",
    "\n",
    "# Classify, storing the result in a new variable.\n",
    "y_pred = bnb.predict(X)"
   ]
  },
  {
   "cell_type": "code",
   "execution_count": 12,
   "metadata": {},
   "outputs": [
    {
     "data": {
      "text/plain": [
       "array([[284246,     69],\n",
       "       [   174,    318]], dtype=int64)"
      ]
     },
     "execution_count": 12,
     "metadata": {},
     "output_type": "execute_result"
    }
   ],
   "source": [
    "from sklearn.metrics import confusion_matrix\n",
    "confusion_matrix(Y, y_pred)"
   ]
  },
  {
   "cell_type": "code",
   "execution_count": 13,
   "metadata": {},
   "outputs": [
    {
     "name": "stdout",
     "output_type": "stream",
     "text": [
      "With 30% Holdout for Naive Bayes: 0.9992275552122467\n",
      "Testing on the entire dataset for Naive Bayes: 0.9991467906336572\n"
     ]
    },
    {
     "data": {
      "text/plain": [
       "array([[85288,    19],\n",
       "       [   47,    89]], dtype=int64)"
      ]
     },
     "execution_count": 13,
     "metadata": {},
     "output_type": "execute_result"
    }
   ],
   "source": [
    "from sklearn.model_selection import train_test_split\n",
    "# Use train_test_split to create the necessary training and test groups\n",
    "X_train, X_test, y_train, y_test = train_test_split(X, Y, test_size=0.3, random_state=20)\n",
    "print('With 30% Holdout for Naive Bayes: ' + str(bnb.fit(X_train, y_train).score(X_test, y_test)))\n",
    "print('Testing on the entire dataset for Naive Bayes: ' + str(bnb.fit(X, Y).score(X, Y)))\n",
    "confusion_matrix(y_test, bnb.predict(X_test))"
   ]
  },
  {
   "cell_type": "code",
   "execution_count": 14,
   "metadata": {},
   "outputs": [
    {
     "name": "stdout",
     "output_type": "stream",
     "text": [
      "Cross validation for Naive Bayes:  [0.998 0.999 1.    0.999 0.999 0.999 0.999 0.999 0.999 0.999]\n"
     ]
    }
   ],
   "source": [
    "from sklearn.model_selection import cross_val_score\n",
    "print(\"Cross validation for Naive Bayes: \",cross_val_score(bnb, X, Y, cv=10))"
   ]
  },
  {
   "cell_type": "code",
   "execution_count": 15,
   "metadata": {},
   "outputs": [
    {
     "data": {
      "text/plain": [
       "array([[284246,     69],\n",
       "       [   174,    318]], dtype=int64)"
      ]
     },
     "execution_count": 15,
     "metadata": {},
     "output_type": "execute_result"
    }
   ],
   "source": [
    "confusion_matrix(Y, y_pred)"
   ]
  },
  {
   "cell_type": "code",
   "execution_count": 16,
   "metadata": {},
   "outputs": [
    {
     "name": "stdout",
     "output_type": "stream",
     "text": [
      "With 30% Holdout for Naive Bayes: 0.9984082955888721\n",
      "Testing on the entire dataset for Naive Bayes: 0.9982725143693799\n"
     ]
    },
    {
     "data": {
      "text/plain": [
       "array([[85307,     0],\n",
       "       [  136,     0]], dtype=int64)"
      ]
     },
     "execution_count": 16,
     "metadata": {},
     "output_type": "execute_result"
    }
   ],
   "source": [
    "X_newFeatures = df_selectedfeatures.loc[:, ~df_selectedfeatures.columns.isin(['Class'])]\n",
    "Y_newFeatures = df_selectedfeatures['Class']\n",
    "\n",
    "# Use train_test_split to create the necessary training and test groups\n",
    "X_train_newFeatures, X_test_newFeatures, y_train_newFeatures, y_test_newFeatures = train_test_split(X_newFeatures, Y_newFeatures, test_size=0.3, random_state=20)\n",
    "print('With 30% Holdout for Naive Bayes: ' + str(bnb.fit(X_train_newFeatures, y_train_newFeatures).score(X_test_newFeatures, y_test_newFeatures)))\n",
    "print('Testing on the entire dataset for Naive Bayes: ' + str(bnb.fit(X_newFeatures, Y_newFeatures).score(X_newFeatures, Y_newFeatures)))\n",
    "confusion_matrix(y_test_newFeatures, bnb.predict(X_test_newFeatures))"
   ]
  },
  {
   "cell_type": "code",
   "execution_count": 17,
   "metadata": {},
   "outputs": [
    {
     "name": "stdout",
     "output_type": "stream",
     "text": [
      "Cross validation for Naive Bayes:  [0.998 0.998 0.998 0.998 0.998 0.998 0.998 0.998 0.998 0.998]\n"
     ]
    }
   ],
   "source": [
    "print(\"Cross validation for Naive Bayes: \",cross_val_score(bnb, X_newFeatures, Y_newFeatures, cv=10))"
   ]
  },
  {
   "cell_type": "code",
   "execution_count": 88,
   "metadata": {},
   "outputs": [],
   "source": [
    "from sklearn import ensemble\n",
    "rfc = ensemble.RandomForestClassifier(random_state = 1,\n",
    " criterion = 'entropy',\n",
    " n_estimators= 100)\n",
    "#cross_val_score(rfc, X, Y, cv=10)"
   ]
  },
  {
   "cell_type": "code",
   "execution_count": 21,
   "metadata": {},
   "outputs": [
    {
     "name": "stdout",
     "output_type": "stream",
     "text": [
      "With 30% Holdout for Naive Bayes: 0.9996137776061234\n",
      "[[85299     8]\n",
      " [   25   111]]\n",
      "Testing on the entire dataset with new features for Random Forest Classifier: 0.9999051989592952\n",
      "[[284313      2]\n",
      " [    25    467]]\n",
      "Testing on the entire dataset for Random Forest Classifier: 0.9999122212586067\n",
      "[[284313      2]\n",
      " [    23    469]]\n"
     ]
    }
   ],
   "source": [
    "import warnings\n",
    "warnings.simplefilter(action='ignore', category=FutureWarning)\n",
    "print('With 30% Holdout for Random Forest Classifier: ' + str(rfc.fit(X_train_newFeatures, y_train_newFeatures).score(X_test_newFeatures, y_test_newFeatures)))\n",
    "print(confusion_matrix(y_test_newFeatures, rfc.predict(X_test_newFeatures)))\n",
    "\n",
    "print('Testing on the entire dataset with new features for Random Forest Classifier: ' + str(rfc.fit(X_newFeatures, Y_newFeatures).score(X_newFeatures, Y_newFeatures)))\n",
    "print(confusion_matrix(Y_newFeatures, rfc.predict(X_newFeatures)))\n",
    "\n",
    "print('Testing on the entire dataset for Random Forest Classifier: ' + str(rfc.fit(X, Y).score(X, Y)))\n",
    "print(confusion_matrix(Y, rfc.predict(X)))"
   ]
  },
  {
   "cell_type": "code",
   "execution_count": 22,
   "metadata": {},
   "outputs": [
    {
     "name": "stdout",
     "output_type": "stream",
     "text": [
      "With 30% Holdout for Random Forest Classifier: 0.9995318516437859\n"
     ]
    },
    {
     "data": {
      "text/plain": [
       "array([[85299,     8],\n",
       "       [   32,   104]], dtype=int64)"
      ]
     },
     "execution_count": 22,
     "metadata": {},
     "output_type": "execute_result"
    }
   ],
   "source": [
    "print('With 30% Holdout for Random Forest Classifier: ' + str(rfc.fit(X_train, y_train).score(X_test, y_test)))\n",
    "confusion_matrix(y_test, rfc.predict(X_test))"
   ]
  },
  {
   "cell_type": "code",
   "execution_count": 51,
   "metadata": {},
   "outputs": [
    {
     "data": {
      "text/plain": [
       "Time      284807\n",
       "V1        284807\n",
       "V2        284807\n",
       "V3        284807\n",
       "V4        284807\n",
       "V5        284807\n",
       "V6        284807\n",
       "V7        284807\n",
       "V8        284807\n",
       "V9        284807\n",
       "V10       284807\n",
       "V11       284807\n",
       "V12       284807\n",
       "V13       284807\n",
       "V14       284807\n",
       "V15       284807\n",
       "V16       284807\n",
       "V17       284807\n",
       "V18       284807\n",
       "V19       284807\n",
       "V20       284807\n",
       "V21       284807\n",
       "V22       284807\n",
       "V23       284807\n",
       "V24       284807\n",
       "V25       284807\n",
       "V26       284807\n",
       "V27       284807\n",
       "V28       284807\n",
       "Amount    284807\n",
       "Class     284807\n",
       "dtype: int64"
      ]
     },
     "execution_count": 51,
     "metadata": {},
     "output_type": "execute_result"
    }
   ],
   "source": [
    "df.count()"
   ]
  },
  {
   "cell_type": "code",
   "execution_count": 42,
   "metadata": {},
   "outputs": [
    {
     "data": {
      "text/plain": [
       "15252"
      ]
     },
     "execution_count": 42,
     "metadata": {},
     "output_type": "execute_result"
    }
   ],
   "source": [
    "df.query('Class!=False').count().sum()"
   ]
  },
  {
   "cell_type": "code",
   "execution_count": 71,
   "metadata": {},
   "outputs": [
    {
     "data": {
      "text/html": [
       "<div>\n",
       "<style scoped>\n",
       "    .dataframe tbody tr th:only-of-type {\n",
       "        vertical-align: middle;\n",
       "    }\n",
       "\n",
       "    .dataframe tbody tr th {\n",
       "        vertical-align: top;\n",
       "    }\n",
       "\n",
       "    .dataframe thead th {\n",
       "        text-align: right;\n",
       "    }\n",
       "</style>\n",
       "<table border=\"1\" class=\"dataframe\">\n",
       "  <thead>\n",
       "    <tr style=\"text-align: right;\">\n",
       "      <th></th>\n",
       "      <th>Time</th>\n",
       "      <th>V1</th>\n",
       "      <th>V2</th>\n",
       "      <th>V3</th>\n",
       "      <th>V4</th>\n",
       "      <th>V5</th>\n",
       "      <th>V6</th>\n",
       "      <th>V7</th>\n",
       "      <th>V8</th>\n",
       "      <th>V9</th>\n",
       "      <th>...</th>\n",
       "      <th>V21</th>\n",
       "      <th>V22</th>\n",
       "      <th>V23</th>\n",
       "      <th>V24</th>\n",
       "      <th>V25</th>\n",
       "      <th>V26</th>\n",
       "      <th>V27</th>\n",
       "      <th>V28</th>\n",
       "      <th>Amount</th>\n",
       "      <th>Class</th>\n",
       "    </tr>\n",
       "  </thead>\n",
       "  <tbody>\n",
       "    <tr>\n",
       "      <th>46142</th>\n",
       "      <td>42653.0</td>\n",
       "      <td>-10.904882</td>\n",
       "      <td>-5.535735</td>\n",
       "      <td>-2.658936</td>\n",
       "      <td>2.225414</td>\n",
       "      <td>-2.471184</td>\n",
       "      <td>1.433048</td>\n",
       "      <td>-1.202641</td>\n",
       "      <td>-9.299173</td>\n",
       "      <td>0.621437</td>\n",
       "      <td>...</td>\n",
       "      <td>-5.078909</td>\n",
       "      <td>1.162507</td>\n",
       "      <td>-1.076966</td>\n",
       "      <td>0.888408</td>\n",
       "      <td>0.644787</td>\n",
       "      <td>0.737527</td>\n",
       "      <td>3.063540</td>\n",
       "      <td>-1.602655</td>\n",
       "      <td>1000.56</td>\n",
       "      <td>0</td>\n",
       "    </tr>\n",
       "    <tr>\n",
       "      <th>264581</th>\n",
       "      <td>161493.0</td>\n",
       "      <td>2.100766</td>\n",
       "      <td>0.060753</td>\n",
       "      <td>-1.559413</td>\n",
       "      <td>0.018350</td>\n",
       "      <td>0.421145</td>\n",
       "      <td>-0.940195</td>\n",
       "      <td>0.415617</td>\n",
       "      <td>-0.404088</td>\n",
       "      <td>0.447964</td>\n",
       "      <td>...</td>\n",
       "      <td>-0.136766</td>\n",
       "      <td>-0.177911</td>\n",
       "      <td>0.204216</td>\n",
       "      <td>0.782064</td>\n",
       "      <td>0.103926</td>\n",
       "      <td>-0.115995</td>\n",
       "      <td>-0.045660</td>\n",
       "      <td>-0.053661</td>\n",
       "      <td>1.00</td>\n",
       "      <td>0</td>\n",
       "    </tr>\n",
       "    <tr>\n",
       "      <th>125556</th>\n",
       "      <td>77717.0</td>\n",
       "      <td>-1.406656</td>\n",
       "      <td>1.439527</td>\n",
       "      <td>0.787769</td>\n",
       "      <td>-0.692259</td>\n",
       "      <td>0.074352</td>\n",
       "      <td>-0.681233</td>\n",
       "      <td>0.372390</td>\n",
       "      <td>0.426224</td>\n",
       "      <td>-0.496895</td>\n",
       "      <td>...</td>\n",
       "      <td>-0.117104</td>\n",
       "      <td>-0.657073</td>\n",
       "      <td>-0.043551</td>\n",
       "      <td>-0.067205</td>\n",
       "      <td>-0.265113</td>\n",
       "      <td>-0.124916</td>\n",
       "      <td>-0.243012</td>\n",
       "      <td>0.130746</td>\n",
       "      <td>4.49</td>\n",
       "      <td>0</td>\n",
       "    </tr>\n",
       "    <tr>\n",
       "      <th>181077</th>\n",
       "      <td>124816.0</td>\n",
       "      <td>-0.358059</td>\n",
       "      <td>0.504890</td>\n",
       "      <td>0.704560</td>\n",
       "      <td>-0.458002</td>\n",
       "      <td>0.309560</td>\n",
       "      <td>-0.067563</td>\n",
       "      <td>0.316481</td>\n",
       "      <td>0.056714</td>\n",
       "      <td>0.341158</td>\n",
       "      <td>...</td>\n",
       "      <td>-0.062062</td>\n",
       "      <td>-0.129016</td>\n",
       "      <td>0.099727</td>\n",
       "      <td>0.525172</td>\n",
       "      <td>-0.695646</td>\n",
       "      <td>0.179572</td>\n",
       "      <td>-0.022548</td>\n",
       "      <td>0.108844</td>\n",
       "      <td>67.16</td>\n",
       "      <td>0</td>\n",
       "    </tr>\n",
       "    <tr>\n",
       "      <th>181869</th>\n",
       "      <td>125153.0</td>\n",
       "      <td>-1.633725</td>\n",
       "      <td>-0.755173</td>\n",
       "      <td>2.136342</td>\n",
       "      <td>0.932145</td>\n",
       "      <td>-0.042655</td>\n",
       "      <td>0.603678</td>\n",
       "      <td>-1.393022</td>\n",
       "      <td>1.021087</td>\n",
       "      <td>1.455374</td>\n",
       "      <td>...</td>\n",
       "      <td>0.294343</td>\n",
       "      <td>0.797138</td>\n",
       "      <td>-0.315000</td>\n",
       "      <td>-0.623844</td>\n",
       "      <td>-0.055489</td>\n",
       "      <td>-0.469453</td>\n",
       "      <td>0.160280</td>\n",
       "      <td>-0.070434</td>\n",
       "      <td>15.00</td>\n",
       "      <td>0</td>\n",
       "    </tr>\n",
       "  </tbody>\n",
       "</table>\n",
       "<p>5 rows × 31 columns</p>\n",
       "</div>"
      ],
      "text/plain": [
       "            Time         V1        V2        V3        V4        V5        V6  \\\n",
       "46142    42653.0 -10.904882 -5.535735 -2.658936  2.225414 -2.471184  1.433048   \n",
       "264581  161493.0   2.100766  0.060753 -1.559413  0.018350  0.421145 -0.940195   \n",
       "125556   77717.0  -1.406656  1.439527  0.787769 -0.692259  0.074352 -0.681233   \n",
       "181077  124816.0  -0.358059  0.504890  0.704560 -0.458002  0.309560 -0.067563   \n",
       "181869  125153.0  -1.633725 -0.755173  2.136342  0.932145 -0.042655  0.603678   \n",
       "\n",
       "              V7        V8        V9  ...       V21       V22       V23  \\\n",
       "46142  -1.202641 -9.299173  0.621437  ... -5.078909  1.162507 -1.076966   \n",
       "264581  0.415617 -0.404088  0.447964  ... -0.136766 -0.177911  0.204216   \n",
       "125556  0.372390  0.426224 -0.496895  ... -0.117104 -0.657073 -0.043551   \n",
       "181077  0.316481  0.056714  0.341158  ... -0.062062 -0.129016  0.099727   \n",
       "181869 -1.393022  1.021087  1.455374  ...  0.294343  0.797138 -0.315000   \n",
       "\n",
       "             V24       V25       V26       V27       V28   Amount  Class  \n",
       "46142   0.888408  0.644787  0.737527  3.063540 -1.602655  1000.56      0  \n",
       "264581  0.782064  0.103926 -0.115995 -0.045660 -0.053661     1.00      0  \n",
       "125556 -0.067205 -0.265113 -0.124916 -0.243012  0.130746     4.49      0  \n",
       "181077  0.525172 -0.695646  0.179572 -0.022548  0.108844    67.16      0  \n",
       "181869 -0.623844 -0.055489 -0.469453  0.160280 -0.070434    15.00      0  \n",
       "\n",
       "[5 rows x 31 columns]"
      ]
     },
     "execution_count": 71,
     "metadata": {},
     "output_type": "execute_result"
    }
   ],
   "source": [
    "df50500 = df.query('Class==False').sample(n=50000)\n",
    "df_true = df.query('Class==True')\n",
    "df50500 = pd.concat([df50500,df_true])\n",
    "df50500.head()"
   ]
  },
  {
   "cell_type": "code",
   "execution_count": 72,
   "metadata": {},
   "outputs": [
    {
     "data": {
      "text/plain": [
       "Time      50492\n",
       "V1        50492\n",
       "V2        50492\n",
       "V3        50492\n",
       "V4        50492\n",
       "V5        50492\n",
       "V6        50492\n",
       "V7        50492\n",
       "V8        50492\n",
       "V9        50492\n",
       "V10       50492\n",
       "V11       50492\n",
       "V12       50492\n",
       "V13       50492\n",
       "V14       50492\n",
       "V15       50492\n",
       "V16       50492\n",
       "V17       50492\n",
       "V18       50492\n",
       "V19       50492\n",
       "V20       50492\n",
       "V21       50492\n",
       "V22       50492\n",
       "V23       50492\n",
       "V24       50492\n",
       "V25       50492\n",
       "V26       50492\n",
       "V27       50492\n",
       "V28       50492\n",
       "Amount    50492\n",
       "Class     50492\n",
       "dtype: int64"
      ]
     },
     "execution_count": 72,
     "metadata": {},
     "output_type": "execute_result"
    }
   ],
   "source": [
    "df50500.count()"
   ]
  },
  {
   "cell_type": "code",
   "execution_count": 48,
   "metadata": {},
   "outputs": [
    {
     "data": {
      "text/plain": [
       "0    284315\n",
       "1       492\n",
       "Name: Class, dtype: int64"
      ]
     },
     "execution_count": 48,
     "metadata": {},
     "output_type": "execute_result"
    }
   ],
   "source": [
    "df.Class.value_counts()"
   ]
  },
  {
   "cell_type": "code",
   "execution_count": 89,
   "metadata": {},
   "outputs": [
    {
     "name": "stdout",
     "output_type": "stream",
     "text": [
      "[[284258     57]\n",
      " [     0    492]]\n"
     ]
    }
   ],
   "source": [
    "X_sample = df50500.loc[:, ~df50500.columns.isin(['Class'])]\n",
    "Y_sample = df50500['Class']\n",
    "rfc_fit = rfc.fit(X_sample, Y_sample)\n",
    "print(confusion_matrix(Y, rfc_fit.predict(X)))"
   ]
  },
  {
   "cell_type": "code",
   "execution_count": 106,
   "metadata": {},
   "outputs": [
    {
     "name": "stdout",
     "output_type": "stream",
     "text": [
      "[[10007     4]\n",
      " [   17    71]]\n",
      "[[9997    1]\n",
      " [  21   80]]\n",
      "[[9997    0]\n",
      " [  16   85]]\n",
      "[[9993    2]\n",
      " [  21   82]]\n",
      "[[9996    3]\n",
      " [  12   87]]\n"
     ]
    }
   ],
   "source": [
    "from sklearn.model_selection import KFold\n",
    "#scores = []\n",
    "kf = KFold(n_splits = 5, random_state = 42, shuffle = True)\n",
    "\n",
    "for train_index, test_index in kf.split(X_sample):\n",
    "    X_Ktrain, X_Ktest, y_Ktrain, y_Ktest = X_sample.iloc[train_index], X_sample.iloc[test_index], Y_sample.iloc[train_index], Y_sample.iloc[test_index]\n",
    "    rfc_Kfit = rfc.fit(X_Ktrain, y_Ktrain)\n",
    "    print(confusion_matrix(y_Ktest, rfc_Kfit.predict(X_Ktest)))\n",
    "    scores.append(rfc_Kfit.score(X_Ktest, y_Ktest))\n",
    "print(scores)"
   ]
  },
  {
   "cell_type": "code",
   "execution_count": null,
   "metadata": {},
   "outputs": [],
   "source": [
    "#Logistic regression"
   ]
  }
 ],
 "metadata": {
  "kernelspec": {
   "display_name": "Python 3",
   "language": "python",
   "name": "python3"
  },
  "language_info": {
   "codemirror_mode": {
    "name": "ipython",
    "version": 3
   },
   "file_extension": ".py",
   "mimetype": "text/x-python",
   "name": "python",
   "nbconvert_exporter": "python",
   "pygments_lexer": "ipython3",
   "version": "3.7.2"
  }
 },
 "nbformat": 4,
 "nbformat_minor": 2
}
