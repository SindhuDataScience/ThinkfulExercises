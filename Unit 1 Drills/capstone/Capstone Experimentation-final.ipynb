{
 "cells": [
  {
   "cell_type": "markdown",
   "metadata": {},
   "source": [
    "<br/><font size=\"4\">Kickstarter is a company that helps artists, musicians, filmmakers, designers, and other creators find the resources and support they need to make their ideas a reality. It is an enormous global community built around creativity and creative projects and over 10 million people, from every continent on earth, have backed a Kickstarter project. The company wants to find out if there is a relationship between the amount of funding requested and a project being fully funded. To figure it out, an experiment has been proposed. The company would pick projects of all categories and goal sizes and compare the totally funded projects to partially funded projects. Finally, an A/B test is conducted to compare the results. <br/>\n",
    "Our <b>null hypothesis</b> would be: Funding varies by project depending on multiple factors and is not effected by the goal amount.<br/><br/>\n",
    "<b><u>Hypothesis:</u></b> There is a dependency between goal amounts and funding received.\n",
    "\n",
    "<b><u>Rollout plan:</u></b><br/>\n",
    "We have chosen 347311 projects for our test with 15 different categories (Publishing, Film and Video, Music, Food, Design, Crafts, Games, Comics, Fashion, Theater, Art, Photography, Technology, Dance, Journalism) and 6 different states (failed, canceled, successful, live, undefined and suspended). Considering the nature of the website, testing continues over a period of time and results are collected for each of the project depending on the project's timeframe. A project can be of any creative category and from any country. Also, for a fully funded project, it is important to provide funding before the project’s financial deadline. Once all the information is fully collected, analysis is performed based on two tests. One is on the list of successfully funded projects and one is on partially funded projects. Each test checks for the goal amount ranges and finds out if there is any ambiguity between the lists.<br/><br/>\n",
    "\n",
    "<b>Success metric:</b> As we are looking for more number of projects to be fully funded, the success metric would be a clear distinction between goal amounts for fully funded and partially funded projects. <br/>\n",
    "\n",
    "<b>Secondary metric:</b> Success of the first metric extends to figuring out what project goal amount has higher chances of receive full funding.</font>\n"
   ]
  },
  {
   "cell_type": "code",
   "execution_count": 1,
   "metadata": {},
   "outputs": [],
   "source": [
    "import pandas as pd\n",
    "import numpy as np\n",
    "import matplotlib.pyplot as plt\n",
    "import seaborn as sns\n",
    "from scipy import stats\n",
    "%matplotlib inline"
   ]
  },
  {
   "cell_type": "code",
   "execution_count": 6,
   "metadata": {},
   "outputs": [
    {
     "name": "stdout",
     "output_type": "stream",
     "text": [
      "name                378657\n",
      "category            378661\n",
      "main_category       378661\n",
      "deadline            378661\n",
      "launched            378661\n",
      "state               378661\n",
      "country             378661\n",
      "usd_pledged_real    378661\n",
      "usd_goal_real       378661\n",
      "dtype: int64\n"
     ]
    },
    {
     "data": {
      "text/html": [
       "<div>\n",
       "<style scoped>\n",
       "    .dataframe tbody tr th:only-of-type {\n",
       "        vertical-align: middle;\n",
       "    }\n",
       "\n",
       "    .dataframe tbody tr th {\n",
       "        vertical-align: top;\n",
       "    }\n",
       "\n",
       "    .dataframe thead th {\n",
       "        text-align: right;\n",
       "    }\n",
       "</style>\n",
       "<table border=\"1\" class=\"dataframe\">\n",
       "  <thead>\n",
       "    <tr style=\"text-align: right;\">\n",
       "      <th></th>\n",
       "      <th>name</th>\n",
       "      <th>category</th>\n",
       "      <th>main_category</th>\n",
       "      <th>deadline</th>\n",
       "      <th>launched</th>\n",
       "      <th>state</th>\n",
       "      <th>country</th>\n",
       "      <th>usd_pledged_real</th>\n",
       "      <th>usd_goal_real</th>\n",
       "    </tr>\n",
       "  </thead>\n",
       "  <tbody>\n",
       "    <tr>\n",
       "      <th>0</th>\n",
       "      <td>The Songs of Adelaide &amp; Abullah</td>\n",
       "      <td>Poetry</td>\n",
       "      <td>Publishing</td>\n",
       "      <td>2015-10-09</td>\n",
       "      <td>2015-08-11 12:12:28</td>\n",
       "      <td>failed</td>\n",
       "      <td>GB</td>\n",
       "      <td>0.0</td>\n",
       "      <td>1533.95</td>\n",
       "    </tr>\n",
       "    <tr>\n",
       "      <th>1</th>\n",
       "      <td>Greeting From Earth: ZGAC Arts Capsule For ET</td>\n",
       "      <td>Narrative Film</td>\n",
       "      <td>Film &amp; Video</td>\n",
       "      <td>2017-11-01</td>\n",
       "      <td>2017-09-02 04:43:57</td>\n",
       "      <td>failed</td>\n",
       "      <td>US</td>\n",
       "      <td>2421.0</td>\n",
       "      <td>30000.00</td>\n",
       "    </tr>\n",
       "    <tr>\n",
       "      <th>2</th>\n",
       "      <td>Where is Hank?</td>\n",
       "      <td>Narrative Film</td>\n",
       "      <td>Film &amp; Video</td>\n",
       "      <td>2013-02-26</td>\n",
       "      <td>2013-01-12 00:20:50</td>\n",
       "      <td>failed</td>\n",
       "      <td>US</td>\n",
       "      <td>220.0</td>\n",
       "      <td>45000.00</td>\n",
       "    </tr>\n",
       "    <tr>\n",
       "      <th>3</th>\n",
       "      <td>ToshiCapital Rekordz Needs Help to Complete Album</td>\n",
       "      <td>Music</td>\n",
       "      <td>Music</td>\n",
       "      <td>2012-04-16</td>\n",
       "      <td>2012-03-17 03:24:11</td>\n",
       "      <td>failed</td>\n",
       "      <td>US</td>\n",
       "      <td>1.0</td>\n",
       "      <td>5000.00</td>\n",
       "    </tr>\n",
       "    <tr>\n",
       "      <th>4</th>\n",
       "      <td>Community Film Project: The Art of Neighborhoo...</td>\n",
       "      <td>Film &amp; Video</td>\n",
       "      <td>Film &amp; Video</td>\n",
       "      <td>2015-08-29</td>\n",
       "      <td>2015-07-04 08:35:03</td>\n",
       "      <td>canceled</td>\n",
       "      <td>US</td>\n",
       "      <td>1283.0</td>\n",
       "      <td>19500.00</td>\n",
       "    </tr>\n",
       "  </tbody>\n",
       "</table>\n",
       "</div>"
      ],
      "text/plain": [
       "                                                name        category  \\\n",
       "0                    The Songs of Adelaide & Abullah          Poetry   \n",
       "1      Greeting From Earth: ZGAC Arts Capsule For ET  Narrative Film   \n",
       "2                                     Where is Hank?  Narrative Film   \n",
       "3  ToshiCapital Rekordz Needs Help to Complete Album           Music   \n",
       "4  Community Film Project: The Art of Neighborhoo...    Film & Video   \n",
       "\n",
       "  main_category    deadline             launched     state country  \\\n",
       "0    Publishing  2015-10-09  2015-08-11 12:12:28    failed      GB   \n",
       "1  Film & Video  2017-11-01  2017-09-02 04:43:57    failed      US   \n",
       "2  Film & Video  2013-02-26  2013-01-12 00:20:50    failed      US   \n",
       "3         Music  2012-04-16  2012-03-17 03:24:11    failed      US   \n",
       "4  Film & Video  2015-08-29  2015-07-04 08:35:03  canceled      US   \n",
       "\n",
       "   usd_pledged_real  usd_goal_real  \n",
       "0               0.0        1533.95  \n",
       "1            2421.0       30000.00  \n",
       "2             220.0       45000.00  \n",
       "3               1.0        5000.00  \n",
       "4            1283.0       19500.00  "
      ]
     },
     "execution_count": 6,
     "metadata": {},
     "output_type": "execute_result"
    }
   ],
   "source": [
    "fields = ['name','category','main_category','deadline','launched','country','usd_pledged_real','usd_goal_real','state']\n",
    "df = pd.read_csv(r\"C:\\Users\\Niranjan\\Desktop\\Data Science\\git\\ThinkfulExercises\\Unit 1 Drills\\capstone\\Kickstarter-projects\\ks-projects-201801.csv\",usecols=fields)\n",
    "print(df.count())\n",
    "df.head(5)"
   ]
  },
  {
   "cell_type": "code",
   "execution_count": 33,
   "metadata": {},
   "outputs": [
    {
     "name": "stdout",
     "output_type": "stream",
     "text": [
      "Number of projects after filtering: 347311\n"
     ]
    }
   ],
   "source": [
    "#Clean the data by removing null rows and unrealistic values for goal and pledged amounts \n",
    "df = df.dropna()\n",
    "#print(df.isnull().sum())\n",
    "df_filtered = df.drop(df[(df.usd_goal_real < 500) | (df.usd_goal_real > 250000) | (df.usd_pledged_real > 100000)].index)\n",
    "print('Number of projects after filtering: {}'.format(df_filtered.name.count()))"
   ]
  },
  {
   "cell_type": "code",
   "execution_count": 34,
   "metadata": {},
   "outputs": [
    {
     "name": "stdout",
     "output_type": "stream",
     "text": [
      "Categories: ['Publishing' 'Film and Video' 'Music' 'Food' 'Design' 'Crafts' 'Games'\n",
      " 'Comics' 'Fashion' 'Theater' 'Art' 'Photography' 'Technology' 'Dance'\n",
      " 'Journalism'], States: ['failed' 'canceled' 'successful' 'live' 'undefined' 'suspended']\n"
     ]
    }
   ],
   "source": [
    "#List of Categories and States in the dataset\n",
    "df_filtered['main_category'] = df_filtered['main_category'].replace({'&': 'and'}, regex=True)\n",
    "print('Categories: {}, States: {}'.format(df_filtered.main_category.unique(),df_filtered.state.unique()))"
   ]
  },
  {
   "cell_type": "code",
   "execution_count": 16,
   "metadata": {},
   "outputs": [
    {
     "data": {
      "text/plain": [
       "<matplotlib.axes._subplots.AxesSubplot at 0x2cebcacd5f8>"
      ]
     },
     "execution_count": 16,
     "metadata": {},
     "output_type": "execute_result"
    },
    {
     "data": {
      "image/png": "[encoded data removed]",
      "text/plain": [
       "<Figure size 1080x576 with 1 Axes>"
      ]
     },
     "metadata": {
      "needs_background": "light"
     },
     "output_type": "display_data"
    }
   ],
   "source": [
    "#Box plot for goal amount\n",
    "plt.subplots(figsize=(15,8))\n",
    "sns.boxplot(x=df_filtered[\"usd_goal_real\"])"
   ]
  },
  {
   "cell_type": "code",
   "execution_count": 17,
   "metadata": {},
   "outputs": [
    {
     "data": {
      "text/plain": [
       "<matplotlib.axes._subplots.AxesSubplot at 0x2ceacbfc5f8>"
      ]
     },
     "execution_count": 17,
     "metadata": {},
     "output_type": "execute_result"
    },
    {
     "data": {
      "image/png": "[encoded data removed]",
      "text/plain": [
       "<Figure size 1080x576 with 1 Axes>"
      ]
     },
     "metadata": {
      "needs_background": "light"
     },
     "output_type": "display_data"
    }
   ],
   "source": [
    "#Box plot for pledged amount\n",
    "plt.subplots(figsize=(15,8))\n",
    "sns.boxplot(x=df_filtered[\"usd_pledged_real\"])"
   ]
  },
  {
   "cell_type": "code",
   "execution_count": 18,
   "metadata": {},
   "outputs": [
    {
     "data": {
      "image/png": "[encoded data removed]",
      "text/plain": [
       "<Figure size 1080x720 with 1 Axes>"
      ]
     },
     "metadata": {
      "needs_background": "light"
     },
     "output_type": "display_data"
    }
   ],
   "source": [
    "#Category plot for Main categories and their statuses\n",
    "g = sns.catplot(y=\"main_category\", hue=\"state\", kind=\"count\",\n",
    "            palette=\"pastel\", edgecolor=\".6\",\n",
    "            data=df_filtered)\n",
    "g.fig.set_size_inches(15,10)"
   ]
  },
  {
   "cell_type": "code",
   "execution_count": 19,
   "metadata": {},
   "outputs": [
    {
     "data": {
      "text/html": [
       "<div>\n",
       "<style scoped>\n",
       "    .dataframe tbody tr th:only-of-type {\n",
       "        vertical-align: middle;\n",
       "    }\n",
       "\n",
       "    .dataframe tbody tr th {\n",
       "        vertical-align: top;\n",
       "    }\n",
       "\n",
       "    .dataframe thead th {\n",
       "        text-align: right;\n",
       "    }\n",
       "</style>\n",
       "<table border=\"1\" class=\"dataframe\">\n",
       "  <thead>\n",
       "    <tr style=\"text-align: right;\">\n",
       "      <th></th>\n",
       "      <th>name</th>\n",
       "      <th>category</th>\n",
       "      <th>main_category</th>\n",
       "      <th>deadline</th>\n",
       "      <th>launched</th>\n",
       "      <th>state</th>\n",
       "      <th>country</th>\n",
       "      <th>usd_pledged_real</th>\n",
       "      <th>usd_goal_real</th>\n",
       "      <th>financial_goal_reached</th>\n",
       "    </tr>\n",
       "  </thead>\n",
       "  <tbody>\n",
       "    <tr>\n",
       "      <th>0</th>\n",
       "      <td>The Songs of Adelaide &amp; Abullah</td>\n",
       "      <td>Poetry</td>\n",
       "      <td>Publishing</td>\n",
       "      <td>2015-10-09</td>\n",
       "      <td>2015-08-11 12:12:28</td>\n",
       "      <td>failed</td>\n",
       "      <td>GB</td>\n",
       "      <td>0.0</td>\n",
       "      <td>1533.95</td>\n",
       "      <td>False</td>\n",
       "    </tr>\n",
       "    <tr>\n",
       "      <th>1</th>\n",
       "      <td>Greeting From Earth: ZGAC Arts Capsule For ET</td>\n",
       "      <td>Narrative Film</td>\n",
       "      <td>Film &amp; Video</td>\n",
       "      <td>2017-11-01</td>\n",
       "      <td>2017-09-02 04:43:57</td>\n",
       "      <td>failed</td>\n",
       "      <td>US</td>\n",
       "      <td>2421.0</td>\n",
       "      <td>30000.00</td>\n",
       "      <td>False</td>\n",
       "    </tr>\n",
       "    <tr>\n",
       "      <th>2</th>\n",
       "      <td>Where is Hank?</td>\n",
       "      <td>Narrative Film</td>\n",
       "      <td>Film &amp; Video</td>\n",
       "      <td>2013-02-26</td>\n",
       "      <td>2013-01-12 00:20:50</td>\n",
       "      <td>failed</td>\n",
       "      <td>US</td>\n",
       "      <td>220.0</td>\n",
       "      <td>45000.00</td>\n",
       "      <td>False</td>\n",
       "    </tr>\n",
       "    <tr>\n",
       "      <th>3</th>\n",
       "      <td>ToshiCapital Rekordz Needs Help to Complete Album</td>\n",
       "      <td>Music</td>\n",
       "      <td>Music</td>\n",
       "      <td>2012-04-16</td>\n",
       "      <td>2012-03-17 03:24:11</td>\n",
       "      <td>failed</td>\n",
       "      <td>US</td>\n",
       "      <td>1.0</td>\n",
       "      <td>5000.00</td>\n",
       "      <td>False</td>\n",
       "    </tr>\n",
       "    <tr>\n",
       "      <th>4</th>\n",
       "      <td>Community Film Project: The Art of Neighborhoo...</td>\n",
       "      <td>Film &amp; Video</td>\n",
       "      <td>Film &amp; Video</td>\n",
       "      <td>2015-08-29</td>\n",
       "      <td>2015-07-04 08:35:03</td>\n",
       "      <td>canceled</td>\n",
       "      <td>US</td>\n",
       "      <td>1283.0</td>\n",
       "      <td>19500.00</td>\n",
       "      <td>False</td>\n",
       "    </tr>\n",
       "  </tbody>\n",
       "</table>\n",
       "</div>"
      ],
      "text/plain": [
       "                                                name        category  \\\n",
       "0                    The Songs of Adelaide & Abullah          Poetry   \n",
       "1      Greeting From Earth: ZGAC Arts Capsule For ET  Narrative Film   \n",
       "2                                     Where is Hank?  Narrative Film   \n",
       "3  ToshiCapital Rekordz Needs Help to Complete Album           Music   \n",
       "4  Community Film Project: The Art of Neighborhoo...    Film & Video   \n",
       "\n",
       "  main_category    deadline             launched     state country  \\\n",
       "0    Publishing  2015-10-09  2015-08-11 12:12:28    failed      GB   \n",
       "1  Film & Video  2017-11-01  2017-09-02 04:43:57    failed      US   \n",
       "2  Film & Video  2013-02-26  2013-01-12 00:20:50    failed      US   \n",
       "3         Music  2012-04-16  2012-03-17 03:24:11    failed      US   \n",
       "4  Film & Video  2015-08-29  2015-07-04 08:35:03  canceled      US   \n",
       "\n",
       "   usd_pledged_real  usd_goal_real  financial_goal_reached  \n",
       "0               0.0        1533.95                   False  \n",
       "1            2421.0       30000.00                   False  \n",
       "2             220.0       45000.00                   False  \n",
       "3               1.0        5000.00                   False  \n",
       "4            1283.0       19500.00                   False  "
      ]
     },
     "execution_count": 19,
     "metadata": {},
     "output_type": "execute_result"
    }
   ],
   "source": [
    "#Add a new column to the data frame to check of a project reached its financial goal\n",
    "df_filtered['financial_goal_reached'] = np.where(df_filtered['usd_goal_real'] - df_filtered['usd_pledged_real']<0, True, False)\n",
    "df_filtered.head(5)"
   ]
  },
  {
   "cell_type": "code",
   "execution_count": 21,
   "metadata": {},
   "outputs": [
    {
     "name": "stdout",
     "output_type": "stream",
     "text": [
      "Ttest_indResult(statistic=-121.1718544705576, pvalue=0.0)\n"
     ]
    }
   ],
   "source": [
    "#Calculating t and p values for goal amounts for projects that have reached their financial goals and for those that are not fully funded\n",
    "print(stats.ttest_ind(df_filtered[df_filtered.financial_goal_reached].usd_goal_real, \n",
    "                df_filtered[~df_filtered.financial_goal_reached].usd_goal_real))"
   ]
  },
  {
   "cell_type": "code",
   "execution_count": 23,
   "metadata": {},
   "outputs": [
    {
     "name": "stdout",
     "output_type": "stream",
     "text": [
      "Publishing\n",
      "Ttest_indResult(statistic=-27.537802049167688, pvalue=2.731326730606276e-165)\n",
      "Film & Video\n",
      "Ttest_indResult(statistic=-50.80978621326046, pvalue=0.0)\n",
      "Music\n",
      "Ttest_indResult(statistic=-35.56901515596617, pvalue=1.2392130438098352e-273)\n",
      "Food\n",
      "Ttest_indResult(statistic=-28.79054933240673, pvalue=5.233132339720586e-179)\n",
      "Design\n",
      "Ttest_indResult(statistic=-39.92461954512777, pvalue=0.0)\n",
      "Crafts\n",
      "Ttest_indResult(statistic=-9.991048743155364, pvalue=2.3441566528405838e-23)\n",
      "Games\n",
      "Ttest_indResult(statistic=-41.995602821526596, pvalue=0.0)\n",
      "Comics\n",
      "Ttest_indResult(statistic=-18.42957747947966, pvalue=1.3461466369526266e-74)\n",
      "Fashion\n",
      "Ttest_indResult(statistic=-16.04411389111586, pvalue=1.3738710207211354e-57)\n",
      "Theater\n",
      "Ttest_indResult(statistic=-22.85331685699687, pvalue=8.588481952336262e-113)\n",
      "Art\n",
      "Ttest_indResult(statistic=-26.934359128781228, pvalue=1.8291665155824825e-157)\n",
      "Photography\n",
      "Ttest_indResult(statistic=-9.400293513895855, pvalue=6.649631455574651e-21)\n",
      "Technology\n",
      "Ttest_indResult(statistic=-34.218997843015785, pvalue=1.1646155109453821e-251)\n",
      "Dance\n",
      "Ttest_indResult(statistic=-12.567403541179685, pvalue=1.7472309788757841e-35)\n",
      "Journalism\n",
      "Ttest_indResult(statistic=-7.520806078469255, pvalue=6.582805105733519e-14)\n"
     ]
    }
   ],
   "source": [
    "#Calculating t and p values for goal amounts per category for projects that have reached their financial goals and for those that are not fully funded\n",
    "for cat in df_filtered.main_category.unique():\n",
    "    print(cat)\n",
    "    category_data = df_filtered[df_filtered.main_category == cat]\n",
    "    print(stats.ttest_ind(category_data[category_data.financial_goal_reached].usd_goal_real,\n",
    "                          category_data[~category_data.financial_goal_reached].usd_goal_real))"
   ]
  },
  {
   "cell_type": "markdown",
   "metadata": {},
   "source": [
    "<font size=\"4\">Overall statistics and categorical statistics indicate that there is a clear distinction between the goal values for projects that are full funded and for those that are partially funded. This proves that our hypothesis is correct. <br/>\n",
    "But let us take a closer look at goal amounts that are playing a key role in this trend.</font>"
   ]
  },
  {
   "cell_type": "code",
   "execution_count": 29,
   "metadata": {},
   "outputs": [
    {
     "data": {
      "text/html": [
       "<div>\n",
       "<style scoped>\n",
       "    .dataframe tbody tr th:only-of-type {\n",
       "        vertical-align: middle;\n",
       "    }\n",
       "\n",
       "    .dataframe tbody tr th {\n",
       "        vertical-align: top;\n",
       "    }\n",
       "\n",
       "    .dataframe thead th {\n",
       "        text-align: right;\n",
       "    }\n",
       "</style>\n",
       "<table border=\"1\" class=\"dataframe\">\n",
       "  <thead>\n",
       "    <tr style=\"text-align: right;\">\n",
       "      <th></th>\n",
       "      <th>main_category</th>\n",
       "      <th>usd_goal_real_mean</th>\n",
       "      <th>usd_goal_real_min</th>\n",
       "      <th>usd_goal_real_max</th>\n",
       "      <th>no_of_projects</th>\n",
       "      <th>no_of_goal_reached_projects</th>\n",
       "      <th>pct_of_goal_reached_projects</th>\n",
       "    </tr>\n",
       "  </thead>\n",
       "  <tbody>\n",
       "    <tr>\n",
       "      <th>13</th>\n",
       "      <td>Technology</td>\n",
       "      <td>34109.988601</td>\n",
       "      <td>500.0</td>\n",
       "      <td>250000.00</td>\n",
       "      <td>29257</td>\n",
       "      <td>4915.0</td>\n",
       "      <td>16.799398</td>\n",
       "    </tr>\n",
       "    <tr>\n",
       "      <th>9</th>\n",
       "      <td>Journalism</td>\n",
       "      <td>14969.534085</td>\n",
       "      <td>500.0</td>\n",
       "      <td>250000.00</td>\n",
       "      <td>4323</td>\n",
       "      <td>842.0</td>\n",
       "      <td>19.477215</td>\n",
       "    </tr>\n",
       "    <tr>\n",
       "      <th>2</th>\n",
       "      <td>Crafts</td>\n",
       "      <td>8843.360227</td>\n",
       "      <td>500.0</td>\n",
       "      <td>250000.00</td>\n",
       "      <td>7403</td>\n",
       "      <td>1458.0</td>\n",
       "      <td>19.694718</td>\n",
       "    </tr>\n",
       "    <tr>\n",
       "      <th>5</th>\n",
       "      <td>Fashion</td>\n",
       "      <td>13825.763547</td>\n",
       "      <td>500.0</td>\n",
       "      <td>250000.00</td>\n",
       "      <td>21177</td>\n",
       "      <td>4802.0</td>\n",
       "      <td>22.675544</td>\n",
       "    </tr>\n",
       "    <tr>\n",
       "      <th>7</th>\n",
       "      <td>Food</td>\n",
       "      <td>23186.547151</td>\n",
       "      <td>500.0</td>\n",
       "      <td>250000.00</td>\n",
       "      <td>22326</td>\n",
       "      <td>5443.0</td>\n",
       "      <td>24.379647</td>\n",
       "    </tr>\n",
       "    <tr>\n",
       "      <th>11</th>\n",
       "      <td>Photography</td>\n",
       "      <td>9440.467594</td>\n",
       "      <td>500.0</td>\n",
       "      <td>250000.00</td>\n",
       "      <td>9895</td>\n",
       "      <td>2794.0</td>\n",
       "      <td>28.236483</td>\n",
       "    </tr>\n",
       "    <tr>\n",
       "      <th>12</th>\n",
       "      <td>Publishing</td>\n",
       "      <td>10226.818160</td>\n",
       "      <td>500.0</td>\n",
       "      <td>250000.00</td>\n",
       "      <td>37569</td>\n",
       "      <td>10835.0</td>\n",
       "      <td>28.840267</td>\n",
       "    </tr>\n",
       "    <tr>\n",
       "      <th>4</th>\n",
       "      <td>Design</td>\n",
       "      <td>21998.769509</td>\n",
       "      <td>500.0</td>\n",
       "      <td>250000.00</td>\n",
       "      <td>27441</td>\n",
       "      <td>8888.0</td>\n",
       "      <td>32.389490</td>\n",
       "    </tr>\n",
       "    <tr>\n",
       "      <th>8</th>\n",
       "      <td>Games</td>\n",
       "      <td>19146.824103</td>\n",
       "      <td>500.0</td>\n",
       "      <td>250000.00</td>\n",
       "      <td>31444</td>\n",
       "      <td>10419.0</td>\n",
       "      <td>33.135097</td>\n",
       "    </tr>\n",
       "    <tr>\n",
       "      <th>6</th>\n",
       "      <td>Film &amp; Video</td>\n",
       "      <td>18387.178515</td>\n",
       "      <td>500.0</td>\n",
       "      <td>250000.00</td>\n",
       "      <td>59181</td>\n",
       "      <td>21317.0</td>\n",
       "      <td>36.020006</td>\n",
       "    </tr>\n",
       "    <tr>\n",
       "      <th>0</th>\n",
       "      <td>Art</td>\n",
       "      <td>9347.279761</td>\n",
       "      <td>500.0</td>\n",
       "      <td>250000.00</td>\n",
       "      <td>24188</td>\n",
       "      <td>9199.0</td>\n",
       "      <td>38.031255</td>\n",
       "    </tr>\n",
       "    <tr>\n",
       "      <th>10</th>\n",
       "      <td>Music</td>\n",
       "      <td>8482.764274</td>\n",
       "      <td>500.0</td>\n",
       "      <td>250000.00</td>\n",
       "      <td>49358</td>\n",
       "      <td>23458.0</td>\n",
       "      <td>47.526237</td>\n",
       "    </tr>\n",
       "    <tr>\n",
       "      <th>1</th>\n",
       "      <td>Comics</td>\n",
       "      <td>7881.790193</td>\n",
       "      <td>500.0</td>\n",
       "      <td>232072.41</td>\n",
       "      <td>9873</td>\n",
       "      <td>5100.0</td>\n",
       "      <td>51.656032</td>\n",
       "    </tr>\n",
       "    <tr>\n",
       "      <th>14</th>\n",
       "      <td>Theater</td>\n",
       "      <td>9235.738192</td>\n",
       "      <td>500.0</td>\n",
       "      <td>250000.00</td>\n",
       "      <td>10265</td>\n",
       "      <td>5796.0</td>\n",
       "      <td>56.463712</td>\n",
       "    </tr>\n",
       "    <tr>\n",
       "      <th>3</th>\n",
       "      <td>Dance</td>\n",
       "      <td>7131.090003</td>\n",
       "      <td>500.0</td>\n",
       "      <td>250000.00</td>\n",
       "      <td>3611</td>\n",
       "      <td>2149.0</td>\n",
       "      <td>59.512600</td>\n",
       "    </tr>\n",
       "  </tbody>\n",
       "</table>\n",
       "</div>"
      ],
      "text/plain": [
       "   main_category  usd_goal_real_mean  usd_goal_real_min  usd_goal_real_max  \\\n",
       "13    Technology        34109.988601              500.0          250000.00   \n",
       "9     Journalism        14969.534085              500.0          250000.00   \n",
       "2         Crafts         8843.360227              500.0          250000.00   \n",
       "5        Fashion        13825.763547              500.0          250000.00   \n",
       "7           Food        23186.547151              500.0          250000.00   \n",
       "11   Photography         9440.467594              500.0          250000.00   \n",
       "12    Publishing        10226.818160              500.0          250000.00   \n",
       "4         Design        21998.769509              500.0          250000.00   \n",
       "8          Games        19146.824103              500.0          250000.00   \n",
       "6   Film & Video        18387.178515              500.0          250000.00   \n",
       "0            Art         9347.279761              500.0          250000.00   \n",
       "10         Music         8482.764274              500.0          250000.00   \n",
       "1         Comics         7881.790193              500.0          232072.41   \n",
       "14       Theater         9235.738192              500.0          250000.00   \n",
       "3          Dance         7131.090003              500.0          250000.00   \n",
       "\n",
       "    no_of_projects  no_of_goal_reached_projects  pct_of_goal_reached_projects  \n",
       "13           29257                       4915.0                     16.799398  \n",
       "9             4323                        842.0                     19.477215  \n",
       "2             7403                       1458.0                     19.694718  \n",
       "5            21177                       4802.0                     22.675544  \n",
       "7            22326                       5443.0                     24.379647  \n",
       "11            9895                       2794.0                     28.236483  \n",
       "12           37569                      10835.0                     28.840267  \n",
       "4            27441                       8888.0                     32.389490  \n",
       "8            31444                      10419.0                     33.135097  \n",
       "6            59181                      21317.0                     36.020006  \n",
       "0            24188                       9199.0                     38.031255  \n",
       "10           49358                      23458.0                     47.526237  \n",
       "1             9873                       5100.0                     51.656032  \n",
       "14           10265                       5796.0                     56.463712  \n",
       "3             3611                       2149.0                     59.512600  "
      ]
     },
     "execution_count": 29,
     "metadata": {},
     "output_type": "execute_result"
    }
   ],
   "source": [
    "#Calculating the mean, min and max goal amounts for all project categories and checking for number of full funded projects and their percentages\n",
    "df_aggby_category = (df_filtered.groupby(['main_category']).agg({'usd_goal_real':['mean', 'min','max'], 'financial_goal_reached':['count','sum']})).reset_index()\n",
    "df_aggby_category.columns = [\"_\".join(x) for x in df_aggby_category.columns.ravel()]\n",
    "df_aggby_category.rename(columns={'main_category_':'main_category',\n",
    "                                        'financial_goal_reached_count':'no_of_projects',\n",
    "                                  'financial_goal_reached_sum':'no_of_goal_reached_projects',\n",
    "                          'usd_goal_real_mean':'usd_goal_real_mean',\n",
    "                          'usd_goal_real_min':'usd_goal_real_min',\n",
    "                          'usd_goal_real_max':'usd_goal_real_max'}, \n",
    "                 inplace=True)\n",
    "df_aggby_category['pct_of_goal_reached_projects'] = (df_aggby_category.no_of_goal_reached_projects * 100)/df_aggby_category.no_of_projects\n",
    "df_aggby_category.sort_values('pct_of_goal_reached_projects')"
   ]
  },
  {
   "cell_type": "code",
   "execution_count": 28,
   "metadata": {},
   "outputs": [
    {
     "name": "stdout",
     "output_type": "stream",
     "text": [
      "Total number of projects: 347311\n",
      "All fully funded projects: 117415\n",
      "All partially funded projects: 229896\n",
      "Minimum goal value:$500.0, Maximum goal value:$98000.0, average goal value: $7890.113665204617 of fully funded projects\n",
      "Minimum goal value:$500.0, Maximum goal value:$250000.0, average goal value: $20125.812257107566 of partially funded projects\n"
     ]
    }
   ],
   "source": [
    "df_goalreached = df_filtered.query('financial_goal_reached == True').reset_index()\n",
    "df_goalnotreached = df_filtered.query('financial_goal_reached == False').reset_index()\n",
    "\n",
    "print('Total number of projects: {}'.format(df_filtered.state.count()))\n",
    "print('All fully funded projects: {}'.format(df_goalreached.state.count()))\n",
    "print('All partially funded projects: {}'.format(df_goalnotreached.state.count()))\n",
    "\n",
    "#Goal range of fully funded projects\n",
    "print('Minimum goal value:${}, Maximum goal value:${}, average goal value: ${} of fully funded projects'.format(min(df_goalreached.usd_goal_real), max(df_goalreached.usd_goal_real), df_goalreached.usd_goal_real.mean()))\n",
    "\n",
    "#Goal range of partially funded projects\n",
    "print('Minimum goal value:${}, Maximum goal value:${}, average goal value: ${} of partially funded projects'.format(min(df_goalnotreached.usd_goal_real), max(df_goalnotreached.usd_goal_real), df_goalnotreached.usd_goal_real.mean()))\n"
   ]
  },
  {
   "cell_type": "markdown",
   "metadata": {},
   "source": [
    "<font size=\"4\"><b><u>Conclusion:</u></b><br/>\n",
    "Looking at the t-values and p-values along with the above goal amount statistics indicate that full funding can be achieved when the goal amount is reasonably small. The average goal for fully funded projects was around $8,000 whereas, for partially funded projects the number is much higher. Hence, the financial goal success of a project is largely dependent on limiting its goal amount to minumum.</font>"
   ]
  },
  {
   "cell_type": "code",
   "execution_count": null,
   "metadata": {},
   "outputs": [],
   "source": []
  }
 ],
 "metadata": {
  "kernelspec": {
   "display_name": "Python 3",
   "language": "python",
   "name": "python3"
  },
  "language_info": {
   "codemirror_mode": {
    "name": "ipython",
    "version": 3
   },
   "file_extension": ".py",
   "mimetype": "text/x-python",
   "name": "python",
   "nbconvert_exporter": "python",
   "pygments_lexer": "ipython3",
   "version": "3.7.2"
  }
 },
 "nbformat": 4,
 "nbformat_minor": 2
}
