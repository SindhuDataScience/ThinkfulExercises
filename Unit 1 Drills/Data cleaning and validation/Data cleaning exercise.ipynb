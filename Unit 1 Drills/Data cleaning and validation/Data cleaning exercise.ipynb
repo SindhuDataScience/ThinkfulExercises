{
 "cells": [
  {
   "cell_type": "code",
   "execution_count": 1,
   "metadata": {},
   "outputs": [],
   "source": [
    "import pandas as pd\n",
    "import numpy as np\n",
    "import matplotlib.pyplot as plt\n",
    "%matplotlib inline"
   ]
  },
  {
   "cell_type": "code",
   "execution_count": 114,
   "metadata": {},
   "outputs": [
    {
     "name": "stdout",
     "output_type": "stream",
     "text": [
      "Number of rows in this dataset: 1928\n"
     ]
    },
    {
     "data": {
      "text/html": [
       "<div>\n",
       "<style scoped>\n",
       "    .dataframe tbody tr th:only-of-type {\n",
       "        vertical-align: middle;\n",
       "    }\n",
       "\n",
       "    .dataframe tbody tr th {\n",
       "        vertical-align: top;\n",
       "    }\n",
       "\n",
       "    .dataframe thead th {\n",
       "        text-align: right;\n",
       "    }\n",
       "</style>\n",
       "<table border=\"1\" class=\"dataframe\">\n",
       "  <thead>\n",
       "    <tr style=\"text-align: right;\">\n",
       "      <th></th>\n",
       "      <th>ID</th>\n",
       "      <th>publisher</th>\n",
       "      <th>journal_title</th>\n",
       "      <th>article_title</th>\n",
       "      <th>cost</th>\n",
       "    </tr>\n",
       "  </thead>\n",
       "  <tbody>\n",
       "    <tr>\n",
       "      <th>0</th>\n",
       "      <td>NaN</td>\n",
       "      <td>CUP</td>\n",
       "      <td>Psychological Medicine</td>\n",
       "      <td>Re/duced parahippocampal cortical thickness in...</td>\n",
       "      <td>£0.00£</td>\n",
       "    </tr>\n",
       "    <tr>\n",
       "      <th>1</th>\n",
       "      <td>PMC3679557</td>\n",
       "      <td>ACS</td>\n",
       "      <td>Biomacromolecules</td>\n",
       "      <td>Structural characterization of a Model Gram-ne...</td>\n",
       "      <td>£2381.04</td>\n",
       "    </tr>\n",
       "    <tr>\n",
       "      <th>2</th>\n",
       "      <td>23043264  PMC3506128</td>\n",
       "      <td>ACS</td>\n",
       "      <td>J Med Chem</td>\n",
       "      <td>Fumaroylamino-4,5-epoxymorphinans and related ...</td>\n",
       "      <td>£64,2.56</td>\n",
       "    </tr>\n",
       "    <tr>\n",
       "      <th>3</th>\n",
       "      <td>23438330 PMC3646402</td>\n",
       "      <td>ACS</td>\n",
       "      <td>J Med Chem</td>\n",
       "      <td>Orvinols with mixed kappa/mu opioid receptor a...</td>\n",
       "      <td>£669.64</td>\n",
       "    </tr>\n",
       "    <tr>\n",
       "      <th>4</th>\n",
       "      <td>23438216 PMC3601604</td>\n",
       "      <td>ACS</td>\n",
       "      <td>J Org Chem</td>\n",
       "      <td>Regioselective opening of myo-inositol orthoes...</td>\n",
       "      <td>£685.88</td>\n",
       "    </tr>\n",
       "  </tbody>\n",
       "</table>\n",
       "</div>"
      ],
      "text/plain": [
       "                      ID publisher           journal_title  \\\n",
       "0                    NaN       CUP  Psychological Medicine   \n",
       "1             PMC3679557       ACS       Biomacromolecules   \n",
       "2  23043264  PMC3506128        ACS              J Med Chem   \n",
       "3    23438330 PMC3646402       ACS              J Med Chem   \n",
       "4   23438216 PMC3601604        ACS              J Org Chem   \n",
       "\n",
       "                                       article_title      cost  \n",
       "0  Re/duced parahippocampal cortical thickness in...    £0.00£  \n",
       "1  Structural characterization of a Model Gram-ne...  £2381.04  \n",
       "2  Fumaroylamino-4,5-epoxymorphinans and related ...  £64,2.56  \n",
       "3  Orvinols with mixed kappa/mu opioid receptor a...   £669.64  \n",
       "4  Regioselective opening of myo-inositol orthoes...   £685.88  "
      ]
     },
     "execution_count": 114,
     "metadata": {},
     "output_type": "execute_result"
    }
   ],
   "source": [
    "df = pd.read_csv(r\"C:\\Users\\Niranjan\\Desktop\\Data Science\\git\\ThinkfulExercises\\Unit 1 Drills\\Data cleaning and validation\\WELLCOME_APCspend2013_forThinkful.csv\",encoding='latin1')\n",
    "df.rename(columns={'PMID/PMCID':'ID',\n",
    "                          'Publisher':'publisher',\n",
    "                          'Journal title':'journal_title',\n",
    "                   'Article title':'article_title',\n",
    "                  'COST (£) charged to Wellcome (inc VAT when charged)':'cost'}, \n",
    "                 inplace=True)\n",
    "print('Number of rows in this dataset:',df.ID.count())\n",
    "df.head(5)"
   ]
  },
  {
   "cell_type": "code",
   "execution_count": 115,
   "metadata": {},
   "outputs": [
    {
     "name": "stdout",
     "output_type": "stream",
     "text": [
      "Max cost-6000.0, min cost-9.93, , avg cost-1822.9335838150325\n"
     ]
    }
   ],
   "source": [
    "#remove currency symbols from cost column and include rows that have cost greater than 0 and less than 10,000\n",
    "df1 = df\n",
    "df1['cost'] = df1['cost'].replace({'£': '','\\$': '', ',': ''}, regex=True)\n",
    "df1['cost'] = df1['cost'].astype(float)\n",
    "df1 = df1.query('cost > 0 and cost < 10000')\n",
    "print('Max cost-{}, min cost-{}, , avg cost-{}'.format(max(df1.cost),min(df1.cost), sum(df1.cost)/df1.cost.count()))"
   ]
  },
  {
   "cell_type": "code",
   "execution_count": 119,
   "metadata": {},
   "outputs": [
    {
     "data": {
      "text/html": [
       "<div>\n",
       "<style scoped>\n",
       "    .dataframe tbody tr th:only-of-type {\n",
       "        vertical-align: middle;\n",
       "    }\n",
       "\n",
       "    .dataframe tbody tr th {\n",
       "        vertical-align: top;\n",
       "    }\n",
       "\n",
       "    .dataframe thead th {\n",
       "        text-align: right;\n",
       "    }\n",
       "</style>\n",
       "<table border=\"1\" class=\"dataframe\">\n",
       "  <thead>\n",
       "    <tr style=\"text-align: right;\">\n",
       "      <th></th>\n",
       "      <th>journal_title_</th>\n",
       "      <th>article_title_count</th>\n",
       "      <th>cost_mean</th>\n",
       "      <th>cost_median</th>\n",
       "      <th>cost_std</th>\n",
       "    </tr>\n",
       "  </thead>\n",
       "  <tbody>\n",
       "    <tr>\n",
       "      <th>784</th>\n",
       "      <td>PLoS One</td>\n",
       "      <td>89</td>\n",
       "      <td>930.096517</td>\n",
       "      <td>891.74</td>\n",
       "      <td>229.042988</td>\n",
       "    </tr>\n",
       "    <tr>\n",
       "      <th>783</th>\n",
       "      <td>PLoS ONE</td>\n",
       "      <td>59</td>\n",
       "      <td>905.482542</td>\n",
       "      <td>884.32</td>\n",
       "      <td>145.396119</td>\n",
       "    </tr>\n",
       "    <tr>\n",
       "      <th>522</th>\n",
       "      <td>Journal of Biological Chemistry</td>\n",
       "      <td>47</td>\n",
       "      <td>1430.351702</td>\n",
       "      <td>1286.86</td>\n",
       "      <td>426.324182</td>\n",
       "    </tr>\n",
       "    <tr>\n",
       "      <th>746</th>\n",
       "      <td>Nucleic Acids Research</td>\n",
       "      <td>21</td>\n",
       "      <td>1118.285714</td>\n",
       "      <td>852.00</td>\n",
       "      <td>442.418031</td>\n",
       "    </tr>\n",
       "    <tr>\n",
       "      <th>825</th>\n",
       "      <td>Proceedings of the National Academy of Sciences</td>\n",
       "      <td>19</td>\n",
       "      <td>688.774737</td>\n",
       "      <td>664.89</td>\n",
       "      <td>198.026428</td>\n",
       "    </tr>\n",
       "  </tbody>\n",
       "</table>\n",
       "</div>"
      ],
      "text/plain": [
       "                                      journal_title_  article_title_count  \\\n",
       "784                                         PLoS One                   89   \n",
       "783                                         PLoS ONE                   59   \n",
       "522                  Journal of Biological Chemistry                   47   \n",
       "746                           Nucleic Acids Research                   21   \n",
       "825  Proceedings of the National Academy of Sciences                   19   \n",
       "\n",
       "       cost_mean  cost_median    cost_std  \n",
       "784   930.096517       891.74  229.042988  \n",
       "783   905.482542       884.32  145.396119  \n",
       "522  1430.351702      1286.86  426.324182  \n",
       "746  1118.285714       852.00  442.418031  \n",
       "825   688.774737       664.89  198.026428  "
      ]
     },
     "execution_count": 119,
     "metadata": {},
     "output_type": "execute_result"
    }
   ],
   "source": [
    "#Aggregate suicide data per country per year\n",
    "df1_agg_byjournal = (df1.groupby(['journal_title']).agg({'article_title':['count'],\n",
    "     'cost':['mean','median','std']})).reset_index()\n",
    "df1_agg_byjournal.columns = [\"_\".join(x) for x in df1_agg_byjournal.columns.ravel()]\n",
    "#df1_agg_byjournal.sort_values('count')\n",
    "df1_top5_journals = df1_agg_byjournal.sort_values('article_title_count', ascending=False).head(5)\n",
    "df1_top5_journals"
   ]
  },
  {
   "cell_type": "code",
   "execution_count": null,
   "metadata": {},
   "outputs": [],
   "source": []
  }
 ],
 "metadata": {
  "kernelspec": {
   "display_name": "Python 3",
   "language": "python",
   "name": "python3"
  },
  "language_info": {
   "codemirror_mode": {
    "name": "ipython",
    "version": 3
   },
   "file_extension": ".py",
   "mimetype": "text/x-python",
   "name": "python",
   "nbconvert_exporter": "python",
   "pygments_lexer": "ipython3",
   "version": "3.7.2"
  }
 },
 "nbformat": 4,
 "nbformat_minor": 2
}
