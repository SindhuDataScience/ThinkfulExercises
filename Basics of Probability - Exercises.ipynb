{
 "cells": [
  {
   "cell_type": "markdown",
   "metadata": {},
   "source": [
    "<h2><b>DRILL - Exercises in Probability</b></h2>"
   ]
  },
  {
   "cell_type": "markdown",
   "metadata": {},
   "source": [
    "1. Calculate the probability of flipping a balanced coin four times and getting each pattern: HTTH, HHHH and TTHH.\n",
    "    \n",
    "    Ans: 1/2 * 1/2 * 1/2 * 1/2 = 0.0625 (6.25%)\n",
    "2. If a list of people has 24 women and 21 men, then the probability of choosing a man from the list is 21/45. What is the probability of not choosing a man?\n",
    "    \n",
    "    Ans: p(~men) = p(women) = 24/(24+21) = 0.533 (53.33%)\n",
    "3. The probability that Bernice will travel by plane sometime in the next year is 10%. The probability of a plane crash at any time is .005%. What is the probability that Bernice will be in a plane crash sometime in the next year?\n",
    "    \n",
    "    Ans: P(travel) = o.1 (10%)\n",
    "        P(crash) = 0.00005 (0.005%)\n",
    "        P(BC) = 0.1 * 0.00005 = 0.000005 (0.005%)\n",
    "4. A data scientist wants to study the behavior of users on the company website. Each time a user clicks on a link on the website, there is a 5% chance that the user will be asked to complete a short survey about their behavior on the website. The data scientist uses the survey data to conclude that, on average, users spend 15 minutes surfing the company website before moving on to other things. What is wrong with this conclusion?\n",
    "\n",
    "    Ans: There is a bias in the data collected. Users that fill the survey can be frequent visitors or people that stay longer on the website. Also, not all users will be interested in taking surveys."
   ]
  },
  {
   "cell_type": "markdown",
   "metadata": {},
   "source": [
    "<h2><b>Drill - Exercises in Bayes' Rule</b></h2>"
   ]
  },
  {
   "cell_type": "markdown",
   "metadata": {},
   "source": [
    "Calculate the probability that the test will:\n",
    "\n",
    "1.Be positive\n",
    "\n",
    "Ans: P(Disease) * P(positive with disease)\n",
    "    = (0.005 * 0.98) + (0.995 * 0.1)\n",
    "    \n",
    "    = 0.104 (10.40%)\n",
    "2.Correctly diagnose a sufferer of Thripshaw's\n",
    "\n",
    "Ans: P(positive with disease) = 0.98 (98%)\n",
    "\n",
    "3.Correctly identify a non-sufferer of Thripshaw's\n",
    "\n",
    "Ans: 1 - P(positive with no disease)\n",
    "\n",
    "    = 1 - 0.1 = 0.90 (90%) \n",
    "    \n",
    "4.Misclassify the person\n",
    "\n",
    "Ans: (0.005 * 0.02) + (0.995 * 0.1) = 0.0996 (9.96%)"
   ]
  },
  {
   "cell_type": "markdown",
   "metadata": {},
   "source": [
    "<h2><b>Evaluating data sources</b></h2>"
   ]
  },
  {
   "cell_type": "markdown",
   "metadata": {},
   "source": [
    "Data Source: Amsterdam availability data scraped from AirBnB on December 24th. Question: What are the popular neighborhoods in Amsterdam?\n",
    "\n",
    "   Ans: This data is collected a day before Christmas (holiday) and the trends would be different from a normal day. Occupancy would be higher than normal during holiday season and the results deduced from the analysis can be misleading. Instead, the question can be limited to \"What are the popular neighborhoods in Amsterdam during holiday season?\"\n",
    "    \n",
    "Data Source: Mental health services use on September 12, 2001 in San Francisco, CA and New York City, NY. Question: How do patterns of mental health service use vary between cities?\n",
    "\n",
    "   Ans: On first glance the data source seems to answer thr question without bias. But looking at the date, 9/11 attacks would tweek the data of NYC (more than other cities) and makes the conclusion incorrect. \n",
    "            \n",
    "Data Source: Armenian Pub Survey. Question: What are the most common reasons Armenians visit local pubs?\n",
    "    \n",
    "   Ans: This data is specific to students. The question can be reframed to \"What are the most common reasons Armenian students visit local pubs\""
   ]
  },
  {
   "cell_type": "markdown",
   "metadata": {},
   "source": [
    "<h2><b>Challenge - Beware of Monty Hall</b></h2>"
   ]
  },
  {
   "cell_type": "markdown",
   "metadata": {},
   "source": [
    "According to my intuition the probability of selecting each door is 1/3. But the 1st selection will not decide the participant's win or loss. So the probablility of selecting a winning door is 1/2. \n",
    "\n",
    "But by applying Bayes theorem - we can calculate the probabilities of winning a car when the participant chooses door 1 and the host chooses door 3 for the following scenarios:\n",
    "1. Car is behind door 1: (1/2 * 1/3) / ((1/2 * 1/3) + (0 * 1/3) + (1 * 1/3)) = 1/3\n",
    "2. Car is behind door 2: (1 * 1/3) / ((1/2 * 1/3) + (0 * 1/3) + (1 * 1/3)) = 2/3\n",
    "\n",
    "Which means that there is a 2/3 chance of winning by switching the doors."
   ]
  },
  {
   "cell_type": "code",
   "execution_count": null,
   "metadata": {},
   "outputs": [],
   "source": []
  }
 ],
 "metadata": {
  "kernelspec": {
   "display_name": "Python 3",
   "language": "python",
   "name": "python3"
  },
  "language_info": {
   "codemirror_mode": {
    "name": "ipython",
    "version": 3
   },
   "file_extension": ".py",
   "mimetype": "text/x-python",
   "name": "python",
   "nbconvert_exporter": "python",
   "pygments_lexer": "ipython3",
   "version": "3.7.2"
  }
 },
 "nbformat": 4,
 "nbformat_minor": 2
}
