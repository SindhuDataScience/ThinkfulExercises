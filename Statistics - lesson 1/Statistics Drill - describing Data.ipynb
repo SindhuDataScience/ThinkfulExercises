{
 "cells": [
  {
   "cell_type": "markdown",
   "metadata": {},
   "source": [
    "Statistics Drill - Describing Data\n",
    "\n",
    "1.Greg was 14, Marcia was 12, Peter was 11, Jan was 10, Bobby was 8, and Cindy was 6 when they started playing the Brady kids on The Brady Bunch. Cousin Oliver was 8 years old when he joined the show. What are the mean, median, and mode of the kids' ages when they first appeared on the show? What are the variance, standard deviation, and standard error?\n",
    "\n",
    "2. Using these estimates, if you had to choose only one estimate of central tendency and one estimate of variance to describe the data, which would you pick and why?\n",
    "\n",
    "3. Next, Cindy has a birthday. Update your estimates- what changed, and what didn't?\n",
    "\n",
    "4. Nobody likes Cousin Oliver. Maybe the network should have used an even younger actor. Replace Cousin Oliver with 1-year-old Jessica, then recalculate again. Does this change your choice of central tendency or variance estimation methods?\n",
    "\n",
    "5. On the 50th anniversary of The Brady Bunch, four different magazines asked their readers whether they were fans of the show. The answers were: TV Guide 20% fans Entertainment Weekly 23% fans Pop Culture Today 17% fans SciPhi Phanatic 5% fans\n",
    "\n",
    "Based on these numbers, what percentage of adult Americans would you estimate were Brady Bunch fans on the 50th anniversary of the show?\n"
   ]
  },
  {
   "cell_type": "code",
   "execution_count": 42,
   "metadata": {},
   "outputs": [
    {
     "name": "stdout",
     "output_type": "stream",
     "text": [
      "     name  age\n",
      "0    Greg   14\n",
      "1  Marica   12\n",
      "2   Peter   11\n",
      "3     Jan   10\n",
      "4   Bobby    8\n",
      "5   Cindy    6\n",
      "6  Oliver    8\n"
     ]
    },
    {
     "data": {
      "image/png": "[encoded data removed]",
      "text/plain": [
       "<Figure size 432x288 with 1 Axes>"
      ]
     },
     "metadata": {
      "needs_background": "light"
     },
     "output_type": "display_data"
    }
   ],
   "source": [
    "import numpy as np\n",
    "import pandas as pd\n",
    "import matplotlib.pyplot as plt\n",
    "%matplotlib inline\n",
    "\n",
    "bk = pd.DataFrame()\n",
    "bk['name'] = ['Greg','Marica','Peter','Jan','Bobby','Cindy','Oliver']\n",
    "bk['age'] = [14,12,11,10,8,6,8]\n",
    "print(bk)\n",
    "plt.hist(bk['age']) \n",
    "plt.show()"
   ]
  },
  {
   "cell_type": "code",
   "execution_count": 51,
   "metadata": {},
   "outputs": [
    {
     "name": "stdout",
     "output_type": "stream",
     "text": [
      "mean:  9.0\n",
      "median:  10.0\n",
      "mode:  0     1\n",
      "1     7\n",
      "2     8\n",
      "3    10\n",
      "4    11\n",
      "5    12\n",
      "6    14\n",
      "dtype: int64\n",
      "variance:  18.0\n",
      "standard deviation:  4.242640687119285\n",
      "standard error:  1.6035674514745462\n",
      "numpy variance: 18.0\n"
     ]
    }
   ],
   "source": [
    "mean_of_bk = bk.age.mean()\n",
    "median_of_bk = bk.age.median()\n",
    "mode_of_bk = bk.age.mode()\n",
    "print(\"mean: \",mean_of_bk)\n",
    "print(\"median: \",median_of_bk)\n",
    "print(\"mode: \",mode_of_bk)\n",
    "var_of_bk = bk.age.var()\n",
    "sd_of_bk = bk.age.std()\n",
    "se_of_bk = bk.age.sem()\n",
    "print(\"variance: \",var_of_bk)\n",
    "print(\"standard deviation: \",sd_of_bk)\n",
    "print(\"standard error: \",se_of_bk)\n",
    "#print(\"numpy variance:\", np.var(bk.age, ddof=1)) -> with n-1\n",
    "#print(\"numpy variance:\", np.var(bk.age)) -> with n"
   ]
  },
  {
   "cell_type": "markdown",
   "metadata": {},
   "source": [
    "Mean, SD"
   ]
  },
  {
   "cell_type": "code",
   "execution_count": 43,
   "metadata": {},
   "outputs": [
    {
     "name": "stdout",
     "output_type": "stream",
     "text": [
      "     name  age\n",
      "0    Greg   14\n",
      "1  Marica   12\n",
      "2   Peter   11\n",
      "3     Jan   10\n",
      "4   Bobby    8\n",
      "5   Cindy    7\n",
      "6  Oliver    8\n"
     ]
    },
    {
     "data": {
      "image/png": "[encoded data removed]",
      "text/plain": [
       "<Figure size 432x288 with 1 Axes>"
      ]
     },
     "metadata": {
      "needs_background": "light"
     },
     "output_type": "display_data"
    }
   ],
   "source": [
    "bk.loc[5, 'age'] = 7\n",
    "print(bk)\n",
    "plt.hist(bk['age']) \n",
    "plt.show()"
   ]
  },
  {
   "cell_type": "code",
   "execution_count": 29,
   "metadata": {},
   "outputs": [
    {
     "name": "stdout",
     "output_type": "stream",
     "text": [
      "mean:  10.0\n",
      "median:  10.0\n",
      "mode:  0    8\n",
      "dtype: int64\n",
      "variance:  6.333333333333333\n",
      "standard deviation:  2.516611478423583\n",
      "standard error:  0.9511897312113418\n"
     ]
    }
   ],
   "source": [
    "mean_of_bk = bk.age.mean()\n",
    "median_of_bk = bk.age.median()\n",
    "mode_of_bk = bk.age.mode()\n",
    "print(\"mean: \",mean_of_bk)\n",
    "print(\"median: \",median_of_bk)\n",
    "print(\"mode: \",mode_of_bk)\n",
    "var_of_bk = bk.age.var()\n",
    "sd_of_bk = bk.age.std()\n",
    "se_of_bk = bk.age.sem()\n",
    "print(\"variance: \",var_of_bk)\n",
    "print(\"standard deviation: \",sd_of_bk)\n",
    "print(\"standard error: \",se_of_bk)"
   ]
  },
  {
   "cell_type": "markdown",
   "metadata": {},
   "source": [
    "Mean changed but median is still the same as median is the center value of the distribution. Also spread of the population (SD) decreased from 2.73 to 2.51"
   ]
  },
  {
   "cell_type": "code",
   "execution_count": 44,
   "metadata": {},
   "outputs": [
    {
     "name": "stdout",
     "output_type": "stream",
     "text": [
      "      name  age\n",
      "0     Greg   14\n",
      "1   Marica   12\n",
      "2    Peter   11\n",
      "3      Jan   10\n",
      "4    Bobby    8\n",
      "5    Cindy    7\n",
      "6  Jessica    1\n"
     ]
    },
    {
     "data": {
      "image/png": "[encoded data removed]",
      "text/plain": [
       "<Figure size 432x288 with 1 Axes>"
      ]
     },
     "metadata": {
      "needs_background": "light"
     },
     "output_type": "display_data"
    }
   ],
   "source": [
    "bk.loc[6] = ['Jessica',1]\n",
    "print(bk)\n",
    "plt.hist(bk['age']) \n",
    "plt.show()"
   ]
  },
  {
   "cell_type": "code",
   "execution_count": 36,
   "metadata": {},
   "outputs": [
    {
     "name": "stdout",
     "output_type": "stream",
     "text": [
      "mean:  9.0\n",
      "median:  10.0\n",
      "mode:  0     1\n",
      "1     7\n",
      "2     8\n",
      "3    10\n",
      "4    11\n",
      "5    12\n",
      "6    14\n",
      "dtype: int64\n",
      "variance:  18.0\n",
      "standard deviation:  4.242640687119285\n",
      "standard error:  1.6035674514745462\n"
     ]
    }
   ],
   "source": [
    "mean_of_bk = bk.age.mean()\n",
    "median_of_bk = bk.age.median()\n",
    "mode_of_bk = bk.age.mode()\n",
    "print(\"mean: \",mean_of_bk)\n",
    "print(\"median: \",median_of_bk)\n",
    "print(\"mode: \",mode_of_bk)\n",
    "var_of_bk = bk.age.var()\n",
    "sd_of_bk = bk.age.std()\n",
    "se_of_bk = bk.age.sem()\n",
    "print(\"variance: \",var_of_bk)\n",
    "print(\"standard deviation: \",sd_of_bk)\n",
    "print(\"standard error: \",se_of_bk)"
   ]
  },
  {
   "cell_type": "markdown",
   "metadata": {},
   "source": [
    "Median remains the same. Since there are no repeated values, there is no single mode after Oliver is replaced with Jessica. Age of Jessica increased the range from 7-14 years to 1-14 years. This almost doubled the standard deviation of the population"
   ]
  },
  {
   "cell_type": "code",
   "execution_count": 39,
   "metadata": {},
   "outputs": [
    {
     "name": "stdout",
     "output_type": "stream",
     "text": [
      "Percentage of adult Americans that were Brady Bunch fans on the 50th anniversary of the show:  16.25 %\n"
     ]
    }
   ],
   "source": [
    "Pct_americans_show_fans = (20+23+17+5)/4\n",
    "print(\"Percentage of adult Americans that were Brady Bunch fans on the 50th anniversary of the show: \", Pct_americans_show_fans, \"%\")"
   ]
  },
  {
   "cell_type": "code",
   "execution_count": null,
   "metadata": {},
   "outputs": [],
   "source": []
  }
 ],
 "metadata": {
  "kernelspec": {
   "display_name": "Python 3",
   "language": "python",
   "name": "python3"
  },
  "language_info": {
   "codemirror_mode": {
    "name": "ipython",
    "version": 3
   },
   "file_extension": ".py",
   "mimetype": "text/x-python",
   "name": "python",
   "nbconvert_exporter": "python",
   "pygments_lexer": "ipython3",
   "version": "3.7.2"
  }
 },
 "nbformat": 4,
 "nbformat_minor": 2
}
